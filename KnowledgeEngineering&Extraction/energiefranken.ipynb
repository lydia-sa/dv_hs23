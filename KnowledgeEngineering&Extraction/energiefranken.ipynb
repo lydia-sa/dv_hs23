{
 "cells": [
  {
   "cell_type": "markdown",
   "source": [
    "# Idee:\n",
    "hier werden alle PLZ aus SPARQL-Abfrage und über diese iterieren, damit für jede Gemeinde die entsprechenden Angebote von energiefranken.ch abgerufen und in einer Liste gespeichert werden.\n"
   ],
   "metadata": {
    "collapsed": false
   }
  },
  {
   "cell_type": "code",
   "execution_count": 50,
   "outputs": [],
   "source": [
    "import pandas as pd\n",
    "\n",
    "df = pd.read_csv('grundlagen_gemeinde_kantone.csv')\n",
    "\n",
    "# PLZ verwenden und entferne NaN-Werte\n",
    "plz_series = df['PLZ'].dropna().astype(int).unique()\n",
    "\n",
    "# Konvertiere in Gmeinde Liste\n",
    "gemeinden = plz_series.tolist()"
   ],
   "metadata": {
    "collapsed": false
   }
  },
  {
   "cell_type": "markdown",
   "source": [
    "damit die Internetseite energiefranken.ch nicht zu sehr belastet wird, wird dies im Umfang dieses Projektes nicht getan, sondern nur für den Kanton Appenzell die entsprechenden Daten abgerufen."
   ],
   "metadata": {
    "collapsed": false
   }
  },
  {
   "cell_type": "code",
   "execution_count": 51,
   "outputs": [],
   "source": [
    "from selenium import webdriver\n",
    "from bs4 import BeautifulSoup\n",
    "import re\n",
    "\n",
    "\n",
    "gemeinden = [9050, 9413, 9108, 9057]\n",
    "\n",
    "energiefrangen_angebote = []\n",
    "\n",
    "for gemeinde in gemeinden:\n",
    "    driver = webdriver.Chrome()\n",
    "    driver.get(url=f'https://www.energiefranken.ch/de/{gemeinde}')\n",
    "\n",
    "    # Warten, damit Seite vollständig geladen wird\n",
    "    driver.implicitly_wait(10)\n",
    "\n",
    "    # Seite parsen und auch als string abspeichern, in welchem nach der Internetseite gesucht werden kann. Weblink ist auf der dynamischen Seite (ohne, dass die einzelnen Bereiche aufgeklappt sind) nur im Fliesstext vorhanden.\n",
    "    soup = BeautifulSoup(driver.page_source, 'html.parser')\n",
    "    str_soup = str(soup)\n",
    "\n",
    "    # alle Kategorien auslesen\n",
    "    categories = soup.find_all('div', class_='subsidy-field')\n",
    "\n",
    "    # Liste für die Ergebnisse\n",
    "    results = []\n",
    "\n",
    "    # Iteriere über jede Kategorie\n",
    "    for category in categories:\n",
    "        # Extrahiere den Kategorienamen\n",
    "        category_name = category.find('h3').text.strip()\n",
    "\n",
    "        # Subsidies finden in der aktuellen Kategorie\n",
    "        subsidies = category.find_all('td', class_='subsidy-name-print')\n",
    "\n",
    "        # Iteriere über jede Subsidy in der aktuellen Kategorie\n",
    "        for subsidy in subsidies:\n",
    "            # Massnahmen-Titel extrahieren\n",
    "            subsidy_name = subsidy.text.strip()\n",
    "            #Anbieter extrahieren\n",
    "            subsidy_contributor = subsidy.find_next('td', class_='subsidy-contributor-print').text.strip()\n",
    "\n",
    "            # Website extrahieren\n",
    "            text_match = re.search(re.escape(subsidy_name), str_soup) #escape sorgt dafür, dass auch subsidy_name mit Klammern im Namen, im str_soup gefunden werden -> Ausdrücke werden automatisch escaped\n",
    "            if text_match:\n",
    "                subsidy_website = re.search(r'http[^,]*', str_soup[text_match.end():])\n",
    "                website = subsidy_website.group(0) if subsidy_website else None\n",
    "            else:\n",
    "                website = None\n",
    "\n",
    "            # Füge die Informationen zur Ergebnisliste hinzu\n",
    "            results.append({\n",
    "                'Gemeinde': gemeinde,\n",
    "                'category': category_name,\n",
    "                'Programm_Name': str(subsidy_name),\n",
    "                'Anbieter': subsidy_contributor,\n",
    "                'Website': re.sub(r'&quot;', '', str(website))\n",
    "            })\n",
    "    # Füge die Ergebnisse der aktuellen Gemeinde zur Gesamtliste hinzu\n",
    "    energiefrangen_angebote.extend(results)\n",
    "\n",
    "\n",
    "\n",
    "    driver.quit()"
   ],
   "metadata": {
    "collapsed": false
   }
  },
  {
   "cell_type": "code",
   "execution_count": 53,
   "outputs": [],
   "source": [
    "# Erstelle ein DataFrame aus den Ergebnissen\n",
    "df_energiefranken = pd.DataFrame(energiefrangen_angebote)\n",
    "\n",
    "# Speichere das DataFrame in eine CSV-Datei\n",
    "df_energiefranken.to_csv('energiefranken_angebote.csv', index=False)"
   ],
   "metadata": {
    "collapsed": false
   }
  },
  {
   "cell_type": "code",
   "execution_count": 54,
   "outputs": [
    {
     "data": {
      "text/plain": "     Gemeinde             category  \\\n0        9050             Beratung   \n1        9050             Beratung   \n2        9050             Beratung   \n3        9050              Heizung   \n4        9050              Heizung   \n..        ...                  ...   \n115      9057  Geräte, Beleuchtung   \n116      9057  Geräte, Beleuchtung   \n117      9057              Lüftung   \n118      9057              Lüftung   \n119      9057         Steuerabzüge   \n\n                                         Programm_Name  \\\n0                                Beratung Solarenergie   \n1                                      Energieberatung   \n2                   Impulsberatung «erneuerbar heizen»   \n3                           Anschluss an ein Wärmenetz   \n4                   Automatische Holzfeuerung ab 70 kW   \n..                                                 ...   \n115  SALVALUCE Plus: Beleuchtungserneuerung von Woh...   \n116       smart-dry.ch: Effiziente Entfeuchtungsgeräte   \n117                       Installation Wohnungslüftung   \n118                   Optivent: Effizientere Lüftungen   \n119                Abzüge für energetische Sanierungen   \n\n                                          Anbieter  \\\n0                     Kanton Appenzell Innerrhoden   \n1                     Kanton Appenzell Innerrhoden   \n2                            Bundesamt für Energie   \n3                     Kanton Appenzell Innerrhoden   \n4                     Kanton Appenzell Innerrhoden   \n..                                             ...   \n115                 Savenergy Light Solutions GmbH   \n116                                   smart-dry.ch   \n117                   Kanton Appenzell Innerrhoden   \n118                     Energie Zukunft Schweiz AG   \n119  Steuerverwaltung Kanton Appenzell Innerrhoden   \n\n                                               Website  \n0    https://energie-ar-ai.ch/cms/index.php/angebot...  \n1    https://energie-ar-ai.ch/cms/index.php/angebot...  \n2          https://erneuerbarheizen.ch/impulsberatung/  \n3    https://www.ai.ch/themen/planen-und-bauen/ener...  \n4    https://www.ai.ch/themen/planen-und-bauen/ener...  \n..                                                 ...  \n115                          https://www.salvaluce.ch/  \n116                            http://www.smart-dry.ch  \n117  https://www.ai.ch/themen/planen-und-bauen/ener...  \n118  http://www.energiezukunftschweiz.ch/de/themen/...  \n119     https://www.ai.ch/themen/steuern/publikationen  \n\n[120 rows x 5 columns]",
      "text/html": "<div>\n<style scoped>\n    .dataframe tbody tr th:only-of-type {\n        vertical-align: middle;\n    }\n\n    .dataframe tbody tr th {\n        vertical-align: top;\n    }\n\n    .dataframe thead th {\n        text-align: right;\n    }\n</style>\n<table border=\"1\" class=\"dataframe\">\n  <thead>\n    <tr style=\"text-align: right;\">\n      <th></th>\n      <th>Gemeinde</th>\n      <th>category</th>\n      <th>Programm_Name</th>\n      <th>Anbieter</th>\n      <th>Website</th>\n    </tr>\n  </thead>\n  <tbody>\n    <tr>\n      <th>0</th>\n      <td>9050</td>\n      <td>Beratung</td>\n      <td>Beratung Solarenergie</td>\n      <td>Kanton Appenzell Innerrhoden</td>\n      <td>https://energie-ar-ai.ch/cms/index.php/angebot...</td>\n    </tr>\n    <tr>\n      <th>1</th>\n      <td>9050</td>\n      <td>Beratung</td>\n      <td>Energieberatung</td>\n      <td>Kanton Appenzell Innerrhoden</td>\n      <td>https://energie-ar-ai.ch/cms/index.php/angebot...</td>\n    </tr>\n    <tr>\n      <th>2</th>\n      <td>9050</td>\n      <td>Beratung</td>\n      <td>Impulsberatung «erneuerbar heizen»</td>\n      <td>Bundesamt für Energie</td>\n      <td>https://erneuerbarheizen.ch/impulsberatung/</td>\n    </tr>\n    <tr>\n      <th>3</th>\n      <td>9050</td>\n      <td>Heizung</td>\n      <td>Anschluss an ein Wärmenetz</td>\n      <td>Kanton Appenzell Innerrhoden</td>\n      <td>https://www.ai.ch/themen/planen-und-bauen/ener...</td>\n    </tr>\n    <tr>\n      <th>4</th>\n      <td>9050</td>\n      <td>Heizung</td>\n      <td>Automatische Holzfeuerung ab 70 kW</td>\n      <td>Kanton Appenzell Innerrhoden</td>\n      <td>https://www.ai.ch/themen/planen-und-bauen/ener...</td>\n    </tr>\n    <tr>\n      <th>...</th>\n      <td>...</td>\n      <td>...</td>\n      <td>...</td>\n      <td>...</td>\n      <td>...</td>\n    </tr>\n    <tr>\n      <th>115</th>\n      <td>9057</td>\n      <td>Geräte, Beleuchtung</td>\n      <td>SALVALUCE Plus: Beleuchtungserneuerung von Woh...</td>\n      <td>Savenergy Light Solutions GmbH</td>\n      <td>https://www.salvaluce.ch/</td>\n    </tr>\n    <tr>\n      <th>116</th>\n      <td>9057</td>\n      <td>Geräte, Beleuchtung</td>\n      <td>smart-dry.ch: Effiziente Entfeuchtungsgeräte</td>\n      <td>smart-dry.ch</td>\n      <td>http://www.smart-dry.ch</td>\n    </tr>\n    <tr>\n      <th>117</th>\n      <td>9057</td>\n      <td>Lüftung</td>\n      <td>Installation Wohnungslüftung</td>\n      <td>Kanton Appenzell Innerrhoden</td>\n      <td>https://www.ai.ch/themen/planen-und-bauen/ener...</td>\n    </tr>\n    <tr>\n      <th>118</th>\n      <td>9057</td>\n      <td>Lüftung</td>\n      <td>Optivent: Effizientere Lüftungen</td>\n      <td>Energie Zukunft Schweiz AG</td>\n      <td>http://www.energiezukunftschweiz.ch/de/themen/...</td>\n    </tr>\n    <tr>\n      <th>119</th>\n      <td>9057</td>\n      <td>Steuerabzüge</td>\n      <td>Abzüge für energetische Sanierungen</td>\n      <td>Steuerverwaltung Kanton Appenzell Innerrhoden</td>\n      <td>https://www.ai.ch/themen/steuern/publikationen</td>\n    </tr>\n  </tbody>\n</table>\n<p>120 rows × 5 columns</p>\n</div>"
     },
     "execution_count": 54,
     "metadata": {},
     "output_type": "execute_result"
    }
   ],
   "source": [
    "df_energiefranken"
   ],
   "metadata": {
    "collapsed": false
   }
  },
  {
   "cell_type": "code",
   "execution_count": null,
   "outputs": [],
   "source": [],
   "metadata": {
    "collapsed": false
   }
  }
 ],
 "metadata": {
  "kernelspec": {
   "display_name": "Python 3",
   "language": "python",
   "name": "python3"
  },
  "language_info": {
   "codemirror_mode": {
    "name": "ipython",
    "version": 2
   },
   "file_extension": ".py",
   "mimetype": "text/x-python",
   "name": "python",
   "nbconvert_exporter": "python",
   "pygments_lexer": "ipython2",
   "version": "2.7.6"
  }
 },
 "nbformat": 4,
 "nbformat_minor": 0
}
