{
 "cells": [
  {
   "cell_type": "code",
   "execution_count": 135,
   "outputs": [],
   "source": [
    "from rdflib import Graph\n",
    "import pandas as pd\n",
    "import ssl\n",
    "\n",
    "#ctx = ssl.create_default_context()\n",
    "#ctx.check_hostname = False\n",
    "#ctx.verify_mode = ssl.CERT_NONE\n",
    "\n",
    "ssl._create_default_https_context = ssl._create_unverified_context\n",
    "\n",
    "import urllib.parse\n",
    "def extract_last_part(url):\n",
    "    last_part = url.split(\"/\")[-1]\n",
    "    return urllib.parse.unquote(last_part) # sonderzeichen anzeigen lassen"
   ],
   "metadata": {
    "collapsed": false
   }
  },
  {
   "cell_type": "markdown",
   "source": [
    "# Grundlageninformationen zu Gemeinden und Kantonen\n",
    "Datenquelle: das Geoportal des Bundes (https://geo.ld.admin.ch/) und wikidata (https://query.wikidata.org/)\n",
    "\n",
    "### Abfrage: Gemeinde, Gemeindeeinwohnerzahl, Kanton, Kantonseinwohnerzahl"
   ],
   "metadata": {
    "collapsed": false
   }
  },
  {
   "cell_type": "code",
   "execution_count": 171,
   "outputs": [],
   "source": [
    "GemeindeKantone_QUERY = '''\n",
    "PREFIX dv: <http://rdf.data-vocabulary.org/#>\n",
    "PREFIX schema: <http://schema.org/>\n",
    "PREFIX gn: <http://www.geonames.org/ontology#>\n",
    "PREFIX xsd: <http://www.w3.org/2001/XMLSchema#>\n",
    "PREFIX rdfs: <http://www.w3.org/2000/01/rdf-schema#>\n",
    "PREFIX dc: <http://purl.org/dc/terms/>\n",
    "PREFIX wdt: <http://www.wikidata.org/prop/direct/>\n",
    "PREFIX wd: <http://www.wikidata.org/entity/>\n",
    "\n",
    "SELECT  ?Date ?Gemeinde_Entity ?Gemeinde_Name ?Gemeinde_Population ?Kanton_Name ?Kanton_Population\n",
    "WHERE {\n",
    "        SERVICE <https://geo.ld.admin.ch/query>\n",
    "            {   ?Gemeinde gn:featureCode gn:A.ADM3 .\n",
    "                ?Gemeinde schema:name ?Gemeinde_Name .\n",
    "                ?Gemeinde gn:population ?Gemeinde_Population .\n",
    "                ?Gemeinde dc:issued ?Date .\n",
    "  \t\t\t\t?Gemeinde dc:isVersionOf ?Gemeinde_Version .\n",
    "  \t\t\t\t?Gemeinde_Version rdfs:seeAlso ?Gemeinde_Entity .\n",
    "\n",
    "                ?Gemeinde gn:parentADM1 ?Canton .\n",
    "                ?Canton schema:name ?Kanton_Name .\n",
    "                ?Canton gn:population ?Kanton_Population .\n",
    "\n",
    "                FILTER (?Date > \"2009-01-01\"^^xsd:date)\n",
    "                }\n",
    "        }\n",
    "        '''\n",
    "\n",
    "# Graph erstellen und SPARQL-Abfrage durchführen\n",
    "g = Graph()\n",
    "results = g.query(GemeindeKantone_QUERY)\n",
    "\n",
    "result_list = []\n",
    "for row in results:\n",
    "    result_list.append(row)\n",
    "\n",
    "# Liste von Tupeln in ein Pandas DataFrame umwandeln\n",
    "df_g = pd.DataFrame(result_list, columns=['Date', 'Gemeinde_Entity', 'Gemeinde_Name', 'Gemeinde_Population', 'Kanton_Name', 'Kanton_Population'])\n",
    "\n",
    "# DataFrame anzeigen\n",
    "# df_g\n"
   ],
   "metadata": {
    "collapsed": false
   }
  },
  {
   "cell_type": "code",
   "execution_count": 172,
   "outputs": [
    {
     "data": {
      "text/plain": "             Date                        Gemeinde_Entity    Gemeinde_Name  \\\n0      2022-01-01  http://www.wikidata.org/entity/Q64945  Aeugst am Albis   \n1      2022-01-01  http://www.wikidata.org/entity/Q66422        Ferpicloz   \n2      2022-01-01  http://www.wikidata.org/entity/Q67720            Randa   \n3      2022-01-01  http://www.wikidata.org/entity/Q52777         Chéserex   \n4      2022-01-01  http://www.wikidata.org/entity/Q65620           Tuggen   \n...           ...                                    ...              ...   \n25362  2013-01-01  http://www.wikidata.org/entity/Q66757       Flurlingen   \n25363  2013-01-01  http://www.wikidata.org/entity/Q68210         Adliswil   \n25364  2013-01-01  http://www.wikidata.org/entity/Q64380           Gersau   \n25365  2013-01-01  http://www.wikidata.org/entity/Q66892           Hütten   \n25366  2013-01-01  http://www.wikidata.org/entity/Q68950       Einsiedeln   \n\n      Gemeinde_Population Kanton_Name Kanton_Population  \n0                    2014      Zürich           1553423  \n1                     267    Fribourg            325547  \n2                     425      Valais            348503  \n3                    1249        Vaud            814762  \n4                    3317      Schwyz            162157  \n...                   ...         ...               ...  \n25362                1429      Zürich           1392396  \n25363               17518      Zürich           1392396  \n25364                2108      Schwyz            147904  \n25365                 911      Zürich           1392396  \n25366               14438      Schwyz            147904  \n\n[25367 rows x 6 columns]",
      "text/html": "<div>\n<style scoped>\n    .dataframe tbody tr th:only-of-type {\n        vertical-align: middle;\n    }\n\n    .dataframe tbody tr th {\n        vertical-align: top;\n    }\n\n    .dataframe thead th {\n        text-align: right;\n    }\n</style>\n<table border=\"1\" class=\"dataframe\">\n  <thead>\n    <tr style=\"text-align: right;\">\n      <th></th>\n      <th>Date</th>\n      <th>Gemeinde_Entity</th>\n      <th>Gemeinde_Name</th>\n      <th>Gemeinde_Population</th>\n      <th>Kanton_Name</th>\n      <th>Kanton_Population</th>\n    </tr>\n  </thead>\n  <tbody>\n    <tr>\n      <th>0</th>\n      <td>2022-01-01</td>\n      <td>http://www.wikidata.org/entity/Q64945</td>\n      <td>Aeugst am Albis</td>\n      <td>2014</td>\n      <td>Zürich</td>\n      <td>1553423</td>\n    </tr>\n    <tr>\n      <th>1</th>\n      <td>2022-01-01</td>\n      <td>http://www.wikidata.org/entity/Q66422</td>\n      <td>Ferpicloz</td>\n      <td>267</td>\n      <td>Fribourg</td>\n      <td>325547</td>\n    </tr>\n    <tr>\n      <th>2</th>\n      <td>2022-01-01</td>\n      <td>http://www.wikidata.org/entity/Q67720</td>\n      <td>Randa</td>\n      <td>425</td>\n      <td>Valais</td>\n      <td>348503</td>\n    </tr>\n    <tr>\n      <th>3</th>\n      <td>2022-01-01</td>\n      <td>http://www.wikidata.org/entity/Q52777</td>\n      <td>Chéserex</td>\n      <td>1249</td>\n      <td>Vaud</td>\n      <td>814762</td>\n    </tr>\n    <tr>\n      <th>4</th>\n      <td>2022-01-01</td>\n      <td>http://www.wikidata.org/entity/Q65620</td>\n      <td>Tuggen</td>\n      <td>3317</td>\n      <td>Schwyz</td>\n      <td>162157</td>\n    </tr>\n    <tr>\n      <th>...</th>\n      <td>...</td>\n      <td>...</td>\n      <td>...</td>\n      <td>...</td>\n      <td>...</td>\n      <td>...</td>\n    </tr>\n    <tr>\n      <th>25362</th>\n      <td>2013-01-01</td>\n      <td>http://www.wikidata.org/entity/Q66757</td>\n      <td>Flurlingen</td>\n      <td>1429</td>\n      <td>Zürich</td>\n      <td>1392396</td>\n    </tr>\n    <tr>\n      <th>25363</th>\n      <td>2013-01-01</td>\n      <td>http://www.wikidata.org/entity/Q68210</td>\n      <td>Adliswil</td>\n      <td>17518</td>\n      <td>Zürich</td>\n      <td>1392396</td>\n    </tr>\n    <tr>\n      <th>25364</th>\n      <td>2013-01-01</td>\n      <td>http://www.wikidata.org/entity/Q64380</td>\n      <td>Gersau</td>\n      <td>2108</td>\n      <td>Schwyz</td>\n      <td>147904</td>\n    </tr>\n    <tr>\n      <th>25365</th>\n      <td>2013-01-01</td>\n      <td>http://www.wikidata.org/entity/Q66892</td>\n      <td>Hütten</td>\n      <td>911</td>\n      <td>Zürich</td>\n      <td>1392396</td>\n    </tr>\n    <tr>\n      <th>25366</th>\n      <td>2013-01-01</td>\n      <td>http://www.wikidata.org/entity/Q68950</td>\n      <td>Einsiedeln</td>\n      <td>14438</td>\n      <td>Schwyz</td>\n      <td>147904</td>\n    </tr>\n  </tbody>\n</table>\n<p>25367 rows × 6 columns</p>\n</div>"
     },
     "execution_count": 172,
     "metadata": {},
     "output_type": "execute_result"
    }
   ],
   "source": [
    "df_g"
   ],
   "metadata": {
    "collapsed": false
   }
  },
  {
   "cell_type": "code",
   "execution_count": 173,
   "outputs": [],
   "source": [
    "def extract_year(date_str):\n",
    "    return date_str[:4]\n",
    "\n",
    "# Nur das Jahr extrahieren und in eine neue Spalte einfügen\n",
    "df_g['Date'] = df_g['Date'].apply(extract_year)"
   ],
   "metadata": {
    "collapsed": false
   }
  },
  {
   "cell_type": "code",
   "execution_count": 174,
   "outputs": [
    {
     "data": {
      "text/plain": "       Date                        Gemeinde_Entity    Gemeinde_Name  \\\n0      2022  http://www.wikidata.org/entity/Q64945  Aeugst am Albis   \n1      2022  http://www.wikidata.org/entity/Q66422        Ferpicloz   \n2      2022  http://www.wikidata.org/entity/Q67720            Randa   \n3      2022  http://www.wikidata.org/entity/Q52777         Chéserex   \n4      2022  http://www.wikidata.org/entity/Q65620           Tuggen   \n...     ...                                    ...              ...   \n25362  2013  http://www.wikidata.org/entity/Q66757       Flurlingen   \n25363  2013  http://www.wikidata.org/entity/Q68210         Adliswil   \n25364  2013  http://www.wikidata.org/entity/Q64380           Gersau   \n25365  2013  http://www.wikidata.org/entity/Q66892           Hütten   \n25366  2013  http://www.wikidata.org/entity/Q68950       Einsiedeln   \n\n      Gemeinde_Population Kanton_Name Kanton_Population  \n0                    2014      Zürich           1553423  \n1                     267    Fribourg            325547  \n2                     425      Valais            348503  \n3                    1249        Vaud            814762  \n4                    3317      Schwyz            162157  \n...                   ...         ...               ...  \n25362                1429      Zürich           1392396  \n25363               17518      Zürich           1392396  \n25364                2108      Schwyz            147904  \n25365                 911      Zürich           1392396  \n25366               14438      Schwyz            147904  \n\n[25367 rows x 6 columns]",
      "text/html": "<div>\n<style scoped>\n    .dataframe tbody tr th:only-of-type {\n        vertical-align: middle;\n    }\n\n    .dataframe tbody tr th {\n        vertical-align: top;\n    }\n\n    .dataframe thead th {\n        text-align: right;\n    }\n</style>\n<table border=\"1\" class=\"dataframe\">\n  <thead>\n    <tr style=\"text-align: right;\">\n      <th></th>\n      <th>Date</th>\n      <th>Gemeinde_Entity</th>\n      <th>Gemeinde_Name</th>\n      <th>Gemeinde_Population</th>\n      <th>Kanton_Name</th>\n      <th>Kanton_Population</th>\n    </tr>\n  </thead>\n  <tbody>\n    <tr>\n      <th>0</th>\n      <td>2022</td>\n      <td>http://www.wikidata.org/entity/Q64945</td>\n      <td>Aeugst am Albis</td>\n      <td>2014</td>\n      <td>Zürich</td>\n      <td>1553423</td>\n    </tr>\n    <tr>\n      <th>1</th>\n      <td>2022</td>\n      <td>http://www.wikidata.org/entity/Q66422</td>\n      <td>Ferpicloz</td>\n      <td>267</td>\n      <td>Fribourg</td>\n      <td>325547</td>\n    </tr>\n    <tr>\n      <th>2</th>\n      <td>2022</td>\n      <td>http://www.wikidata.org/entity/Q67720</td>\n      <td>Randa</td>\n      <td>425</td>\n      <td>Valais</td>\n      <td>348503</td>\n    </tr>\n    <tr>\n      <th>3</th>\n      <td>2022</td>\n      <td>http://www.wikidata.org/entity/Q52777</td>\n      <td>Chéserex</td>\n      <td>1249</td>\n      <td>Vaud</td>\n      <td>814762</td>\n    </tr>\n    <tr>\n      <th>4</th>\n      <td>2022</td>\n      <td>http://www.wikidata.org/entity/Q65620</td>\n      <td>Tuggen</td>\n      <td>3317</td>\n      <td>Schwyz</td>\n      <td>162157</td>\n    </tr>\n    <tr>\n      <th>...</th>\n      <td>...</td>\n      <td>...</td>\n      <td>...</td>\n      <td>...</td>\n      <td>...</td>\n      <td>...</td>\n    </tr>\n    <tr>\n      <th>25362</th>\n      <td>2013</td>\n      <td>http://www.wikidata.org/entity/Q66757</td>\n      <td>Flurlingen</td>\n      <td>1429</td>\n      <td>Zürich</td>\n      <td>1392396</td>\n    </tr>\n    <tr>\n      <th>25363</th>\n      <td>2013</td>\n      <td>http://www.wikidata.org/entity/Q68210</td>\n      <td>Adliswil</td>\n      <td>17518</td>\n      <td>Zürich</td>\n      <td>1392396</td>\n    </tr>\n    <tr>\n      <th>25364</th>\n      <td>2013</td>\n      <td>http://www.wikidata.org/entity/Q64380</td>\n      <td>Gersau</td>\n      <td>2108</td>\n      <td>Schwyz</td>\n      <td>147904</td>\n    </tr>\n    <tr>\n      <th>25365</th>\n      <td>2013</td>\n      <td>http://www.wikidata.org/entity/Q66892</td>\n      <td>Hütten</td>\n      <td>911</td>\n      <td>Zürich</td>\n      <td>1392396</td>\n    </tr>\n    <tr>\n      <th>25366</th>\n      <td>2013</td>\n      <td>http://www.wikidata.org/entity/Q68950</td>\n      <td>Einsiedeln</td>\n      <td>14438</td>\n      <td>Schwyz</td>\n      <td>147904</td>\n    </tr>\n  </tbody>\n</table>\n<p>25367 rows × 6 columns</p>\n</div>"
     },
     "execution_count": 174,
     "metadata": {},
     "output_type": "execute_result"
    }
   ],
   "source": [
    "df_g"
   ],
   "metadata": {
    "collapsed": false
   }
  },
  {
   "cell_type": "markdown",
   "source": [
    "### Abfrage: PLZ"
   ],
   "metadata": {
    "collapsed": false
   }
  },
  {
   "cell_type": "code",
   "execution_count": 175,
   "outputs": [],
   "source": [
    "PLZ_QUERY = '''\n",
    "PREFIX wdt: <http://www.wikidata.org/prop/direct/>\n",
    "PREFIX wd: <http://www.wikidata.org/entity/>\n",
    "\n",
    "SELECT  ?Gemeinde_Entity ?PLZ\n",
    "WHERE {\n",
    "        SERVICE <https://query.wikidata.org/sparql>\n",
    "            {   ?Gemeinde_Entity    wdt:P31     wd:Q70208 ;  # Filter für Ortschaften\n",
    "                                    wdt:P17     wd:Q39 ;     # Filter für die Schweiz als Herkunftsland\n",
    "                                    wdt:P281    ?PLZ .\n",
    "            }\n",
    "        }\n",
    "        '''\n",
    "# Graph erstellen und SPARQL-Abfrage durchführen\n",
    "g = Graph()\n",
    "results_plz = g.query(PLZ_QUERY)\n",
    "\n",
    "result_plz_list = []\n",
    "for row in results_plz:\n",
    "    result_plz_list.append(row)\n",
    "\n",
    "# Liste von Tupeln in ein Pandas DataFrame umwandeln\n",
    "df_plz_g = pd.DataFrame(result_plz_list, columns=['Gemeinde_Entity', 'PLZ'])\n",
    "\n",
    "# DataFrame anzeigen\n",
    "# df_plz_g\n",
    "\n",
    "# -> einige PLZ sind in einem Intervall angegeben"
   ],
   "metadata": {
    "collapsed": false
   }
  },
  {
   "cell_type": "code",
   "execution_count": 176,
   "outputs": [],
   "source": [
    "# PLZ intervall auflösen und in neue Zeilen speicher\n",
    "def split_and_explode(row):\n",
    "    plz_range = row['PLZ'].split('–')\n",
    "    if len(plz_range) == 2:\n",
    "        start, end = map(int, plz_range)\n",
    "        return [(row['Gemeinde_Entity'], str(i)) for i in range(start, end + 1)]\n",
    "    else:\n",
    "        return [(row['Gemeinde_Entity'], row['PLZ'])]\n",
    "\n",
    "new_rows = []\n",
    "for _, row in df_plz_g.iterrows():\n",
    "    new_rows.extend(split_and_explode(row))\n",
    "\n",
    "# Neues DataFrame erstellen\n",
    "df_plz_g_all = pd.DataFrame(new_rows, columns=['Gemeinde_Entity', 'PLZ'])\n",
    "#df_plz_g_all"
   ],
   "metadata": {
    "collapsed": false
   }
  },
  {
   "cell_type": "markdown",
   "source": [
    "### Abfrage: Kanton und deren Abkürzungen"
   ],
   "metadata": {
    "collapsed": false
   }
  },
  {
   "cell_type": "code",
   "execution_count": 177,
   "outputs": [],
   "source": [
    "KurznamenKanton_QUERY = '''\n",
    "PREFIX schema: <http://schema.org/>\n",
    "\n",
    "select distinct ?Kanton_Kurzname ?Kanton_Name\n",
    "where {\n",
    "        SERVICE <https://geo.ld.admin.ch/query>\n",
    "            {?Canton schema:containedInPlace ?Land.\n",
    "            ?Canton schema:name ?Kanton_Name .\n",
    "            ?Canton schema:alternateName ?Kanton_Kurzname\n",
    "\n",
    "        FILTER (lang(?Kanton_Name) ='de' || lang(?Kanton_Name) ='fr' || lang(?Kanton_Name) ='it')\n",
    "}}\n",
    "'''\n",
    "g2 = Graph()\n",
    "results_g2 = g2.query(KurznamenKanton_QUERY)\n",
    "\n",
    "result_g2_list = []\n",
    "for row in results_g2:\n",
    "    result_g2_list.append(row)\n",
    "\n",
    "# Liste von Tupeln in ein Pandas DataFrame umwandeln\n",
    "df_g2 = pd.DataFrame(result_g2_list, columns=['Kanton_Kurzname', 'Kanton_Name',])\n",
    "\n",
    "# DataFrame anzeigen\n",
    "# df_g2"
   ],
   "metadata": {
    "collapsed": false
   }
  },
  {
   "cell_type": "markdown",
   "source": [
    "### Tabellen Merge"
   ],
   "metadata": {
    "collapsed": false
   }
  },
  {
   "cell_type": "code",
   "execution_count": 178,
   "outputs": [],
   "source": [
    "# whitespace entfernen in den Kanton_Namen\n",
    "df_g['Kanton_Name'] = df_g['Kanton_Name'].str.replace('\\s', '', regex=True)\n",
    "df_g2['Kanton_Name'] = df_g2['Kanton_Name'].str.replace('\\s', '', regex=True)"
   ],
   "metadata": {
    "collapsed": false
   }
  },
  {
   "cell_type": "code",
   "execution_count": 179,
   "outputs": [
    {
     "data": {
      "text/plain": "       Date                        Gemeinde_Entity    Gemeinde_Name  \\\n0      2022  http://www.wikidata.org/entity/Q64945  Aeugst am Albis   \n1      2022  http://www.wikidata.org/entity/Q66422        Ferpicloz   \n2      2022  http://www.wikidata.org/entity/Q67720            Randa   \n3      2022  http://www.wikidata.org/entity/Q52777         Chéserex   \n4      2022  http://www.wikidata.org/entity/Q52777         Chéserex   \n...     ...                                    ...              ...   \n30163  2013  http://www.wikidata.org/entity/Q66757       Flurlingen   \n30164  2013  http://www.wikidata.org/entity/Q68210         Adliswil   \n30165  2013  http://www.wikidata.org/entity/Q64380           Gersau   \n30166  2013  http://www.wikidata.org/entity/Q66892           Hütten   \n30167  2013  http://www.wikidata.org/entity/Q68950       Einsiedeln   \n\n      Gemeinde_Population Kanton_Name Kanton_Population Kanton_Kurzname  \n0                    2014      Zürich           1553423              ZH  \n1                     267    Fribourg            325547              FR  \n2                     425      Valais            348503              VS  \n3                    1249        Vaud            814762              VD  \n4                    1249        Vaud            814762              VD  \n...                   ...         ...               ...             ...  \n30163                1429      Zürich           1392396              ZH  \n30164               17518      Zürich           1392396              ZH  \n30165                2108      Schwyz            147904              SZ  \n30166                 911      Zürich           1392396              ZH  \n30167               14438      Schwyz            147904              SZ  \n\n[30168 rows x 7 columns]",
      "text/html": "<div>\n<style scoped>\n    .dataframe tbody tr th:only-of-type {\n        vertical-align: middle;\n    }\n\n    .dataframe tbody tr th {\n        vertical-align: top;\n    }\n\n    .dataframe thead th {\n        text-align: right;\n    }\n</style>\n<table border=\"1\" class=\"dataframe\">\n  <thead>\n    <tr style=\"text-align: right;\">\n      <th></th>\n      <th>Date</th>\n      <th>Gemeinde_Entity</th>\n      <th>Gemeinde_Name</th>\n      <th>Gemeinde_Population</th>\n      <th>Kanton_Name</th>\n      <th>Kanton_Population</th>\n      <th>Kanton_Kurzname</th>\n    </tr>\n  </thead>\n  <tbody>\n    <tr>\n      <th>0</th>\n      <td>2022</td>\n      <td>http://www.wikidata.org/entity/Q64945</td>\n      <td>Aeugst am Albis</td>\n      <td>2014</td>\n      <td>Zürich</td>\n      <td>1553423</td>\n      <td>ZH</td>\n    </tr>\n    <tr>\n      <th>1</th>\n      <td>2022</td>\n      <td>http://www.wikidata.org/entity/Q66422</td>\n      <td>Ferpicloz</td>\n      <td>267</td>\n      <td>Fribourg</td>\n      <td>325547</td>\n      <td>FR</td>\n    </tr>\n    <tr>\n      <th>2</th>\n      <td>2022</td>\n      <td>http://www.wikidata.org/entity/Q67720</td>\n      <td>Randa</td>\n      <td>425</td>\n      <td>Valais</td>\n      <td>348503</td>\n      <td>VS</td>\n    </tr>\n    <tr>\n      <th>3</th>\n      <td>2022</td>\n      <td>http://www.wikidata.org/entity/Q52777</td>\n      <td>Chéserex</td>\n      <td>1249</td>\n      <td>Vaud</td>\n      <td>814762</td>\n      <td>VD</td>\n    </tr>\n    <tr>\n      <th>4</th>\n      <td>2022</td>\n      <td>http://www.wikidata.org/entity/Q52777</td>\n      <td>Chéserex</td>\n      <td>1249</td>\n      <td>Vaud</td>\n      <td>814762</td>\n      <td>VD</td>\n    </tr>\n    <tr>\n      <th>...</th>\n      <td>...</td>\n      <td>...</td>\n      <td>...</td>\n      <td>...</td>\n      <td>...</td>\n      <td>...</td>\n      <td>...</td>\n    </tr>\n    <tr>\n      <th>30163</th>\n      <td>2013</td>\n      <td>http://www.wikidata.org/entity/Q66757</td>\n      <td>Flurlingen</td>\n      <td>1429</td>\n      <td>Zürich</td>\n      <td>1392396</td>\n      <td>ZH</td>\n    </tr>\n    <tr>\n      <th>30164</th>\n      <td>2013</td>\n      <td>http://www.wikidata.org/entity/Q68210</td>\n      <td>Adliswil</td>\n      <td>17518</td>\n      <td>Zürich</td>\n      <td>1392396</td>\n      <td>ZH</td>\n    </tr>\n    <tr>\n      <th>30165</th>\n      <td>2013</td>\n      <td>http://www.wikidata.org/entity/Q64380</td>\n      <td>Gersau</td>\n      <td>2108</td>\n      <td>Schwyz</td>\n      <td>147904</td>\n      <td>SZ</td>\n    </tr>\n    <tr>\n      <th>30166</th>\n      <td>2013</td>\n      <td>http://www.wikidata.org/entity/Q66892</td>\n      <td>Hütten</td>\n      <td>911</td>\n      <td>Zürich</td>\n      <td>1392396</td>\n      <td>ZH</td>\n    </tr>\n    <tr>\n      <th>30167</th>\n      <td>2013</td>\n      <td>http://www.wikidata.org/entity/Q68950</td>\n      <td>Einsiedeln</td>\n      <td>14438</td>\n      <td>Schwyz</td>\n      <td>147904</td>\n      <td>SZ</td>\n    </tr>\n  </tbody>\n</table>\n<p>30168 rows × 7 columns</p>\n</div>"
     },
     "execution_count": 179,
     "metadata": {},
     "output_type": "execute_result"
    }
   ],
   "source": [
    "# Zusammenführen der Listen\n",
    "# Basisliste ist df_g\n",
    "\n",
    "df_grundlagen_z = pd.merge(df_g, df_g2, on='Kanton_Name', how='left')\n",
    "df_grundlagen_z"
   ],
   "metadata": {
    "collapsed": false
   }
  },
  {
   "cell_type": "code",
   "execution_count": 180,
   "outputs": [
    {
     "data": {
      "text/plain": "       Date                        Gemeinde_Entity    Gemeinde_Name  \\\n0      2022  http://www.wikidata.org/entity/Q64945  Aeugst am Albis   \n1      2022  http://www.wikidata.org/entity/Q66422        Ferpicloz   \n2      2022  http://www.wikidata.org/entity/Q67720            Randa   \n3      2022  http://www.wikidata.org/entity/Q52777         Chéserex   \n4      2022  http://www.wikidata.org/entity/Q52777         Chéserex   \n...     ...                                    ...              ...   \n36375  2013  http://www.wikidata.org/entity/Q66757       Flurlingen   \n36376  2013  http://www.wikidata.org/entity/Q68210         Adliswil   \n36377  2013  http://www.wikidata.org/entity/Q64380           Gersau   \n36378  2013  http://www.wikidata.org/entity/Q66892           Hütten   \n36379  2013  http://www.wikidata.org/entity/Q68950       Einsiedeln   \n\n      Gemeinde_Population Kanton_Name Kanton_Population Kanton_Kurzname   PLZ  \n0                    2014      Zürich           1553423              ZH   NaN  \n1                     267    Fribourg            325547              FR  1724  \n2                     425      Valais            348503              VS  3928  \n3                    1249        Vaud            814762              VD  1275  \n4                    1249        Vaud            814762              VD  1275  \n...                   ...         ...               ...             ...   ...  \n36375                1429      Zürich           1392396              ZH   NaN  \n36376               17518      Zürich           1392396              ZH  8134  \n36377                2108      Schwyz            147904              SZ  6442  \n36378                 911      Zürich           1392396              ZH   NaN  \n36379               14438      Schwyz            147904              SZ  8840  \n\n[36380 rows x 8 columns]",
      "text/html": "<div>\n<style scoped>\n    .dataframe tbody tr th:only-of-type {\n        vertical-align: middle;\n    }\n\n    .dataframe tbody tr th {\n        vertical-align: top;\n    }\n\n    .dataframe thead th {\n        text-align: right;\n    }\n</style>\n<table border=\"1\" class=\"dataframe\">\n  <thead>\n    <tr style=\"text-align: right;\">\n      <th></th>\n      <th>Date</th>\n      <th>Gemeinde_Entity</th>\n      <th>Gemeinde_Name</th>\n      <th>Gemeinde_Population</th>\n      <th>Kanton_Name</th>\n      <th>Kanton_Population</th>\n      <th>Kanton_Kurzname</th>\n      <th>PLZ</th>\n    </tr>\n  </thead>\n  <tbody>\n    <tr>\n      <th>0</th>\n      <td>2022</td>\n      <td>http://www.wikidata.org/entity/Q64945</td>\n      <td>Aeugst am Albis</td>\n      <td>2014</td>\n      <td>Zürich</td>\n      <td>1553423</td>\n      <td>ZH</td>\n      <td>NaN</td>\n    </tr>\n    <tr>\n      <th>1</th>\n      <td>2022</td>\n      <td>http://www.wikidata.org/entity/Q66422</td>\n      <td>Ferpicloz</td>\n      <td>267</td>\n      <td>Fribourg</td>\n      <td>325547</td>\n      <td>FR</td>\n      <td>1724</td>\n    </tr>\n    <tr>\n      <th>2</th>\n      <td>2022</td>\n      <td>http://www.wikidata.org/entity/Q67720</td>\n      <td>Randa</td>\n      <td>425</td>\n      <td>Valais</td>\n      <td>348503</td>\n      <td>VS</td>\n      <td>3928</td>\n    </tr>\n    <tr>\n      <th>3</th>\n      <td>2022</td>\n      <td>http://www.wikidata.org/entity/Q52777</td>\n      <td>Chéserex</td>\n      <td>1249</td>\n      <td>Vaud</td>\n      <td>814762</td>\n      <td>VD</td>\n      <td>1275</td>\n    </tr>\n    <tr>\n      <th>4</th>\n      <td>2022</td>\n      <td>http://www.wikidata.org/entity/Q52777</td>\n      <td>Chéserex</td>\n      <td>1249</td>\n      <td>Vaud</td>\n      <td>814762</td>\n      <td>VD</td>\n      <td>1275</td>\n    </tr>\n    <tr>\n      <th>...</th>\n      <td>...</td>\n      <td>...</td>\n      <td>...</td>\n      <td>...</td>\n      <td>...</td>\n      <td>...</td>\n      <td>...</td>\n      <td>...</td>\n    </tr>\n    <tr>\n      <th>36375</th>\n      <td>2013</td>\n      <td>http://www.wikidata.org/entity/Q66757</td>\n      <td>Flurlingen</td>\n      <td>1429</td>\n      <td>Zürich</td>\n      <td>1392396</td>\n      <td>ZH</td>\n      <td>NaN</td>\n    </tr>\n    <tr>\n      <th>36376</th>\n      <td>2013</td>\n      <td>http://www.wikidata.org/entity/Q68210</td>\n      <td>Adliswil</td>\n      <td>17518</td>\n      <td>Zürich</td>\n      <td>1392396</td>\n      <td>ZH</td>\n      <td>8134</td>\n    </tr>\n    <tr>\n      <th>36377</th>\n      <td>2013</td>\n      <td>http://www.wikidata.org/entity/Q64380</td>\n      <td>Gersau</td>\n      <td>2108</td>\n      <td>Schwyz</td>\n      <td>147904</td>\n      <td>SZ</td>\n      <td>6442</td>\n    </tr>\n    <tr>\n      <th>36378</th>\n      <td>2013</td>\n      <td>http://www.wikidata.org/entity/Q66892</td>\n      <td>Hütten</td>\n      <td>911</td>\n      <td>Zürich</td>\n      <td>1392396</td>\n      <td>ZH</td>\n      <td>NaN</td>\n    </tr>\n    <tr>\n      <th>36379</th>\n      <td>2013</td>\n      <td>http://www.wikidata.org/entity/Q68950</td>\n      <td>Einsiedeln</td>\n      <td>14438</td>\n      <td>Schwyz</td>\n      <td>147904</td>\n      <td>SZ</td>\n      <td>8840</td>\n    </tr>\n  </tbody>\n</table>\n<p>36380 rows × 8 columns</p>\n</div>"
     },
     "execution_count": 180,
     "metadata": {},
     "output_type": "execute_result"
    }
   ],
   "source": [
    "df_grundlagen = pd.merge(df_grundlagen_z, df_plz_g_all, on='Gemeinde_Entity', how='left')\n",
    "df_grundlagen"
   ],
   "metadata": {
    "collapsed": false
   }
  },
  {
   "cell_type": "code",
   "execution_count": 181,
   "outputs": [],
   "source": [
    "# in der Kanton_Kurznamenliste sind Basel-Stadt und Basel-Land nicht enthalten, weswegen diese hier noch ergänzt werden\n",
    "df_grundlagen['Kanton_Kurzname'].mask(df_grundlagen['Kanton_Name'] == 'Basel-Stadt', 'BS', inplace=True)\n",
    "df_grundlagen['Kanton_Kurzname'].mask(df_grundlagen['Kanton_Name'] == 'Basel-Landschaft', 'BL', inplace=True)"
   ],
   "metadata": {
    "collapsed": false
   }
  },
  {
   "cell_type": "code",
   "execution_count": 182,
   "outputs": [],
   "source": [
    "# Speichern Sie das DataFrame als CSV-Datei\n",
    "df_grundlagen.to_csv('grundlagen_gemeinde_kantone.csv', index=False)"
   ],
   "metadata": {
    "collapsed": false
   }
  },
  {
   "cell_type": "markdown",
   "source": [
    "# Informationen zum Gebäudeprogramm - in Regionen unterteilt\n",
    "Datenquelle: das Geoportal des Bundes (https://lindas.admin.ch/query)\n",
    "\n"
   ],
   "metadata": {
    "collapsed": false
   }
  },
  {
   "cell_type": "code",
   "execution_count": 207,
   "outputs": [],
   "source": [
    "kanton_dict_lindas ={\n",
    "    '^https://ld.admin.ch/canton/1$' : 'ZH',\n",
    "    '^https://ld.admin.ch/canton/2$' : 'BE',\n",
    "    '^https://ld.admin.ch/canton/3$' : 'LU',\n",
    "    '^https://ld.admin.ch/canton/4$' : 'UR',\n",
    "    '^https://ld.admin.ch/canton/5$' : 'SZ',\n",
    "    '^https://ld.admin.ch/canton/6$' : 'OW',\n",
    "    '^https://ld.admin.ch/canton/7$' : 'NW',\n",
    "    '^https://ld.admin.ch/canton/8$' : 'GL',\n",
    "    '^https://ld.admin.ch/canton/9$' : 'ZG',\n",
    "    '^https://ld.admin.ch/canton/10$' : 'FR',\n",
    "    '^https://ld.admin.ch/canton/11$' : 'SO',\n",
    "    '^https://ld.admin.ch/canton/12$' : 'BS',\n",
    "    '^https://ld.admin.ch/canton/13$' : 'BL',\n",
    "    '^https://ld.admin.ch/canton/14$' : 'SH',\n",
    "    '^https://ld.admin.ch/canton/15$' : 'AR',\n",
    "    '^https://ld.admin.ch/canton/16$' : 'AI',\n",
    "    '^https://ld.admin.ch/canton/17$' : 'SG',\n",
    "    '^https://ld.admin.ch/canton/18$' : 'GR',\n",
    "    '^https://ld.admin.ch/canton/19$' : 'AG',\n",
    "    '^https://ld.admin.ch/canton/20$' : 'TG',\n",
    "    '^https://ld.admin.ch/canton/21$' : 'TI',\n",
    "    '^https://ld.admin.ch/canton/22$' : 'VD',\n",
    "    '^https://ld.admin.ch/canton/23$' : 'VS',\n",
    "    '^https://ld.admin.ch/canton/24$' : 'NE',\n",
    "    '^https://ld.admin.ch/canton/25$' : 'GE',\n",
    "    '^https://ld.admin.ch/canton/26$' : 'JU',\n",
    "    '^https://ld.admin.ch/country/CHE$' : 'CH'\n",
    "}"
   ],
   "metadata": {
    "collapsed": false
   }
  },
  {
   "cell_type": "markdown",
   "source": [
    "### Abfrage: Anzahl Gesuche pro Jahr, Region und Art für Förderprogramm"
   ],
   "metadata": {
    "collapsed": false
   }
  },
  {
   "cell_type": "code",
   "execution_count": 208,
   "outputs": [
    {
     "data": {
      "text/plain": "                   Kanton_Kurzname  Date Anzahl_Gesuche_mit_Auszahlung  \\\n0                               CH  2010                             0   \n1                               CH  2010                          5514   \n2                               CH  2011                             0   \n3                               CH  2011                         20547   \n4                               CH  2012                             0   \n..                             ...   ...                           ...   \n359   https://ld.admin.ch/canton/4  2022                           147   \n360  https://ld.admin.ch/canton/22  2022                          2151   \n361  https://ld.admin.ch/canton/23  2022                          1277   \n362   https://ld.admin.ch/canton/9  2022                           104   \n363   https://ld.admin.ch/canton/1  2022                          3560   \n\n    Massnahmenart  \n0          Direkt  \n1        Indirekt  \n2          Direkt  \n3        Indirekt  \n4          Direkt  \n..            ...  \n359        Direkt  \n360        Direkt  \n361        Direkt  \n362        Direkt  \n363        Direkt  \n\n[364 rows x 4 columns]",
      "text/html": "<div>\n<style scoped>\n    .dataframe tbody tr th:only-of-type {\n        vertical-align: middle;\n    }\n\n    .dataframe tbody tr th {\n        vertical-align: top;\n    }\n\n    .dataframe thead th {\n        text-align: right;\n    }\n</style>\n<table border=\"1\" class=\"dataframe\">\n  <thead>\n    <tr style=\"text-align: right;\">\n      <th></th>\n      <th>Kanton_Kurzname</th>\n      <th>Date</th>\n      <th>Anzahl_Gesuche_mit_Auszahlung</th>\n      <th>Massnahmenart</th>\n    </tr>\n  </thead>\n  <tbody>\n    <tr>\n      <th>0</th>\n      <td>CH</td>\n      <td>2010</td>\n      <td>0</td>\n      <td>Direkt</td>\n    </tr>\n    <tr>\n      <th>1</th>\n      <td>CH</td>\n      <td>2010</td>\n      <td>5514</td>\n      <td>Indirekt</td>\n    </tr>\n    <tr>\n      <th>2</th>\n      <td>CH</td>\n      <td>2011</td>\n      <td>0</td>\n      <td>Direkt</td>\n    </tr>\n    <tr>\n      <th>3</th>\n      <td>CH</td>\n      <td>2011</td>\n      <td>20547</td>\n      <td>Indirekt</td>\n    </tr>\n    <tr>\n      <th>4</th>\n      <td>CH</td>\n      <td>2012</td>\n      <td>0</td>\n      <td>Direkt</td>\n    </tr>\n    <tr>\n      <th>...</th>\n      <td>...</td>\n      <td>...</td>\n      <td>...</td>\n      <td>...</td>\n    </tr>\n    <tr>\n      <th>359</th>\n      <td>https://ld.admin.ch/canton/4</td>\n      <td>2022</td>\n      <td>147</td>\n      <td>Direkt</td>\n    </tr>\n    <tr>\n      <th>360</th>\n      <td>https://ld.admin.ch/canton/22</td>\n      <td>2022</td>\n      <td>2151</td>\n      <td>Direkt</td>\n    </tr>\n    <tr>\n      <th>361</th>\n      <td>https://ld.admin.ch/canton/23</td>\n      <td>2022</td>\n      <td>1277</td>\n      <td>Direkt</td>\n    </tr>\n    <tr>\n      <th>362</th>\n      <td>https://ld.admin.ch/canton/9</td>\n      <td>2022</td>\n      <td>104</td>\n      <td>Direkt</td>\n    </tr>\n    <tr>\n      <th>363</th>\n      <td>https://ld.admin.ch/canton/1</td>\n      <td>2022</td>\n      <td>3560</td>\n      <td>Direkt</td>\n    </tr>\n  </tbody>\n</table>\n<p>364 rows × 4 columns</p>\n</div>"
     },
     "execution_count": 208,
     "metadata": {},
     "output_type": "execute_result"
    }
   ],
   "source": [
    "Gutsprachen_QUERY = '''\n",
    "PREFIX schema: <http://schema.org/>\n",
    "\n",
    "select distinct ?Kanton_Kurzname ?Date ?Anzahl_Gesuche_mit_Auszahlung ?Massnahmenart\n",
    "where {\n",
    "        SERVICE <https://lindas.admin.ch/query>\n",
    "            {?s schema:eligibleRegion ?Kanton_Kurzname.\n",
    "            ?s <https://energy.ld.admin.ch/sfoe/bfe_ogd18_gebaeudeprogramm_anzahl_gesuche/Jahr> ?Date.\n",
    "            ?s <https://energy.ld.admin.ch/sfoe/bfe_ogd18_gebaeudeprogramm_anzahl_gesuche/anzahl-gesuche-mit-auszahlungen> ?Anzahl_Gesuche_mit_Auszahlung.\n",
    "            ?s <https://energy.ld.admin.ch/sfoe/bfe_ogd18_gebaeudeprogramm_anzahl_gesuche/massnahmeart> ?Massnahmenart\n",
    "}}\n",
    "'''\n",
    "\n",
    "# Graph erstellen und SPARQL-Abfrage durchführen\n",
    "g3 = Graph()\n",
    "results_g3 = g3.query(Gutsprachen_QUERY)\n",
    "\n",
    "result_g3_list = []\n",
    "for row in results_g3:\n",
    "    result_g3_list.append(row)\n",
    "\n",
    "# Liste in ein Pandas DataFrame umwandeln\n",
    "df_g3 = pd.DataFrame(result_g3_list, columns=['Kanton_Kurzname', 'Date', 'Anzahl_Gesuche_mit_Auszahlung', 'Massnahmenart'])\n",
    "\n",
    "# DataFrame anzeigen\n",
    "df_g3"
   ],
   "metadata": {
    "collapsed": false
   }
  },
  {
   "cell_type": "code",
   "execution_count": 209,
   "outputs": [],
   "source": [
    "# nicht überall sind die Kurznamen hinterlegt, weshalb diese ersetzt werden\n",
    "df_g3['Kanton_Kurzname'] = df_g3['Kanton_Kurzname'].replace(kanton_dict_lindas.keys() , kanton_dict_lindas.values() , regex=True)"
   ],
   "metadata": {
    "collapsed": false
   }
  },
  {
   "cell_type": "code",
   "execution_count": 210,
   "outputs": [
    {
     "data": {
      "text/plain": "    Kanton_Kurzname  Date Anzahl_Gesuche_mit_Auszahlung Massnahmenart\n0                CH  2010                             0        Direkt\n1                CH  2010                          5514      Indirekt\n2                CH  2011                             0        Direkt\n3                CH  2011                         20547      Indirekt\n4                CH  2012                             0        Direkt\n..              ...   ...                           ...           ...\n177              UR  2022                           147        Direkt\n178              VD  2022                          2151        Direkt\n179              VS  2022                          1277        Direkt\n180              ZG  2022                           104        Direkt\n181              ZH  2022                          3560        Direkt\n\n[182 rows x 4 columns]",
      "text/html": "<div>\n<style scoped>\n    .dataframe tbody tr th:only-of-type {\n        vertical-align: middle;\n    }\n\n    .dataframe tbody tr th {\n        vertical-align: top;\n    }\n\n    .dataframe thead th {\n        text-align: right;\n    }\n</style>\n<table border=\"1\" class=\"dataframe\">\n  <thead>\n    <tr style=\"text-align: right;\">\n      <th></th>\n      <th>Kanton_Kurzname</th>\n      <th>Date</th>\n      <th>Anzahl_Gesuche_mit_Auszahlung</th>\n      <th>Massnahmenart</th>\n    </tr>\n  </thead>\n  <tbody>\n    <tr>\n      <th>0</th>\n      <td>CH</td>\n      <td>2010</td>\n      <td>0</td>\n      <td>Direkt</td>\n    </tr>\n    <tr>\n      <th>1</th>\n      <td>CH</td>\n      <td>2010</td>\n      <td>5514</td>\n      <td>Indirekt</td>\n    </tr>\n    <tr>\n      <th>2</th>\n      <td>CH</td>\n      <td>2011</td>\n      <td>0</td>\n      <td>Direkt</td>\n    </tr>\n    <tr>\n      <th>3</th>\n      <td>CH</td>\n      <td>2011</td>\n      <td>20547</td>\n      <td>Indirekt</td>\n    </tr>\n    <tr>\n      <th>4</th>\n      <td>CH</td>\n      <td>2012</td>\n      <td>0</td>\n      <td>Direkt</td>\n    </tr>\n    <tr>\n      <th>...</th>\n      <td>...</td>\n      <td>...</td>\n      <td>...</td>\n      <td>...</td>\n    </tr>\n    <tr>\n      <th>177</th>\n      <td>UR</td>\n      <td>2022</td>\n      <td>147</td>\n      <td>Direkt</td>\n    </tr>\n    <tr>\n      <th>178</th>\n      <td>VD</td>\n      <td>2022</td>\n      <td>2151</td>\n      <td>Direkt</td>\n    </tr>\n    <tr>\n      <th>179</th>\n      <td>VS</td>\n      <td>2022</td>\n      <td>1277</td>\n      <td>Direkt</td>\n    </tr>\n    <tr>\n      <th>180</th>\n      <td>ZG</td>\n      <td>2022</td>\n      <td>104</td>\n      <td>Direkt</td>\n    </tr>\n    <tr>\n      <th>181</th>\n      <td>ZH</td>\n      <td>2022</td>\n      <td>3560</td>\n      <td>Direkt</td>\n    </tr>\n  </tbody>\n</table>\n<p>182 rows × 4 columns</p>\n</div>"
     },
     "execution_count": 210,
     "metadata": {},
     "output_type": "execute_result"
    }
   ],
   "source": [
    "# Trotz distinct hat es einige Doublikate, diese werden gelöscht\n",
    "df_g3_no_duplicates = df_g3.drop_duplicates()\n",
    "df_g3_no_duplicates"
   ],
   "metadata": {
    "collapsed": false
   }
  },
  {
   "cell_type": "code",
   "execution_count": 211,
   "outputs": [
    {
     "data": {
      "text/plain": "    Kanton_Kurzname  Date Anzahl_Gesuche_mit_Auszahlung\n0                AG  2017                           267\n1                AG  2018                           400\n2                AG  2019                           786\n3                AG  2020                           745\n4                AG  2021                          1036\n..              ...   ...                           ...\n164              ZH  2018                           965\n165              ZH  2019                          1400\n166              ZH  2020                          1513\n167              ZH  2021                          2680\n168              ZH  2022                          3560\n\n[169 rows x 3 columns]",
      "text/html": "<div>\n<style scoped>\n    .dataframe tbody tr th:only-of-type {\n        vertical-align: middle;\n    }\n\n    .dataframe tbody tr th {\n        vertical-align: top;\n    }\n\n    .dataframe thead th {\n        text-align: right;\n    }\n</style>\n<table border=\"1\" class=\"dataframe\">\n  <thead>\n    <tr style=\"text-align: right;\">\n      <th></th>\n      <th>Kanton_Kurzname</th>\n      <th>Date</th>\n      <th>Anzahl_Gesuche_mit_Auszahlung</th>\n    </tr>\n  </thead>\n  <tbody>\n    <tr>\n      <th>0</th>\n      <td>AG</td>\n      <td>2017</td>\n      <td>267</td>\n    </tr>\n    <tr>\n      <th>1</th>\n      <td>AG</td>\n      <td>2018</td>\n      <td>400</td>\n    </tr>\n    <tr>\n      <th>2</th>\n      <td>AG</td>\n      <td>2019</td>\n      <td>786</td>\n    </tr>\n    <tr>\n      <th>3</th>\n      <td>AG</td>\n      <td>2020</td>\n      <td>745</td>\n    </tr>\n    <tr>\n      <th>4</th>\n      <td>AG</td>\n      <td>2021</td>\n      <td>1036</td>\n    </tr>\n    <tr>\n      <th>...</th>\n      <td>...</td>\n      <td>...</td>\n      <td>...</td>\n    </tr>\n    <tr>\n      <th>164</th>\n      <td>ZH</td>\n      <td>2018</td>\n      <td>965</td>\n    </tr>\n    <tr>\n      <th>165</th>\n      <td>ZH</td>\n      <td>2019</td>\n      <td>1400</td>\n    </tr>\n    <tr>\n      <th>166</th>\n      <td>ZH</td>\n      <td>2020</td>\n      <td>1513</td>\n    </tr>\n    <tr>\n      <th>167</th>\n      <td>ZH</td>\n      <td>2021</td>\n      <td>2680</td>\n    </tr>\n    <tr>\n      <th>168</th>\n      <td>ZH</td>\n      <td>2022</td>\n      <td>3560</td>\n    </tr>\n  </tbody>\n</table>\n<p>169 rows × 3 columns</p>\n</div>"
     },
     "execution_count": 211,
     "metadata": {},
     "output_type": "execute_result"
    }
   ],
   "source": [
    "# pro Kanton und Jahr aufsummieren\n",
    "df_g3_grouped = df_g3_no_duplicates.groupby(['Kanton_Kurzname', 'Date'], as_index=False)['Anzahl_Gesuche_mit_Auszahlung'].sum()\n",
    "df_g3_grouped"
   ],
   "metadata": {
    "collapsed": false
   }
  },
  {
   "cell_type": "code",
   "execution_count": 212,
   "outputs": [],
   "source": [
    "df_g3_grouped.to_csv('gebaudeprogramm_AnzahlGesuche.csv', index=False)"
   ],
   "metadata": {
    "collapsed": false
   }
  },
  {
   "cell_type": "markdown",
   "source": [
    "### Abfrage: Summe Auszahlungen pro Jahr, Region und Bereich für Förderprogramm"
   ],
   "metadata": {
    "collapsed": false
   }
  },
  {
   "cell_type": "code",
   "execution_count": 213,
   "outputs": [
    {
     "data": {
      "text/plain": "      Date                  Kanton_Kurzname VergütungCHF_Gebäudeprogramm  \\\n0     2010  https://ld.admin.ch/country/CHE                  43522889.95   \n1     2010  https://ld.admin.ch/country/CHE                          0.0   \n2     2010  https://ld.admin.ch/country/CHE                   10977986.0   \n3     2010  https://ld.admin.ch/country/CHE                    3501873.0   \n4     2010  https://ld.admin.ch/country/CHE                  92235671.95   \n...    ...                              ...                          ...   \n7197  2022     https://ld.admin.ch/canton/4                      65390.0   \n7198  2022    https://ld.admin.ch/canton/22                    1616377.3   \n7199  2022    https://ld.admin.ch/canton/23                     27137.95   \n7200  2022     https://ld.admin.ch/canton/9                    103693.85   \n7201  2022     https://ld.admin.ch/canton/1                   1561253.45   \n\n                                 Massnahmenbereich_lang  \n0     https://energy.ld.admin.ch/sfoe/bfe_ogd18_geba...  \n1     https://energy.ld.admin.ch/sfoe/bfe_ogd18_geba...  \n2     https://energy.ld.admin.ch/sfoe/bfe_ogd18_geba...  \n3     https://energy.ld.admin.ch/sfoe/bfe_ogd18_geba...  \n4     https://energy.ld.admin.ch/sfoe/bfe_ogd18_geba...  \n...                                                 ...  \n7197  https://energy.ld.admin.ch/sfoe/bfe_ogd18_geba...  \n7198  https://energy.ld.admin.ch/sfoe/bfe_ogd18_geba...  \n7199  https://energy.ld.admin.ch/sfoe/bfe_ogd18_geba...  \n7200  https://energy.ld.admin.ch/sfoe/bfe_ogd18_geba...  \n7201  https://energy.ld.admin.ch/sfoe/bfe_ogd18_geba...  \n\n[7202 rows x 4 columns]",
      "text/html": "<div>\n<style scoped>\n    .dataframe tbody tr th:only-of-type {\n        vertical-align: middle;\n    }\n\n    .dataframe tbody tr th {\n        vertical-align: top;\n    }\n\n    .dataframe thead th {\n        text-align: right;\n    }\n</style>\n<table border=\"1\" class=\"dataframe\">\n  <thead>\n    <tr style=\"text-align: right;\">\n      <th></th>\n      <th>Date</th>\n      <th>Kanton_Kurzname</th>\n      <th>VergütungCHF_Gebäudeprogramm</th>\n      <th>Massnahmenbereich_lang</th>\n    </tr>\n  </thead>\n  <tbody>\n    <tr>\n      <th>0</th>\n      <td>2010</td>\n      <td>https://ld.admin.ch/country/CHE</td>\n      <td>43522889.95</td>\n      <td>https://energy.ld.admin.ch/sfoe/bfe_ogd18_geba...</td>\n    </tr>\n    <tr>\n      <th>1</th>\n      <td>2010</td>\n      <td>https://ld.admin.ch/country/CHE</td>\n      <td>0.0</td>\n      <td>https://energy.ld.admin.ch/sfoe/bfe_ogd18_geba...</td>\n    </tr>\n    <tr>\n      <th>2</th>\n      <td>2010</td>\n      <td>https://ld.admin.ch/country/CHE</td>\n      <td>10977986.0</td>\n      <td>https://energy.ld.admin.ch/sfoe/bfe_ogd18_geba...</td>\n    </tr>\n    <tr>\n      <th>3</th>\n      <td>2010</td>\n      <td>https://ld.admin.ch/country/CHE</td>\n      <td>3501873.0</td>\n      <td>https://energy.ld.admin.ch/sfoe/bfe_ogd18_geba...</td>\n    </tr>\n    <tr>\n      <th>4</th>\n      <td>2010</td>\n      <td>https://ld.admin.ch/country/CHE</td>\n      <td>92235671.95</td>\n      <td>https://energy.ld.admin.ch/sfoe/bfe_ogd18_geba...</td>\n    </tr>\n    <tr>\n      <th>...</th>\n      <td>...</td>\n      <td>...</td>\n      <td>...</td>\n      <td>...</td>\n    </tr>\n    <tr>\n      <th>7197</th>\n      <td>2022</td>\n      <td>https://ld.admin.ch/canton/4</td>\n      <td>65390.0</td>\n      <td>https://energy.ld.admin.ch/sfoe/bfe_ogd18_geba...</td>\n    </tr>\n    <tr>\n      <th>7198</th>\n      <td>2022</td>\n      <td>https://ld.admin.ch/canton/22</td>\n      <td>1616377.3</td>\n      <td>https://energy.ld.admin.ch/sfoe/bfe_ogd18_geba...</td>\n    </tr>\n    <tr>\n      <th>7199</th>\n      <td>2022</td>\n      <td>https://ld.admin.ch/canton/23</td>\n      <td>27137.95</td>\n      <td>https://energy.ld.admin.ch/sfoe/bfe_ogd18_geba...</td>\n    </tr>\n    <tr>\n      <th>7200</th>\n      <td>2022</td>\n      <td>https://ld.admin.ch/canton/9</td>\n      <td>103693.85</td>\n      <td>https://energy.ld.admin.ch/sfoe/bfe_ogd18_geba...</td>\n    </tr>\n    <tr>\n      <th>7201</th>\n      <td>2022</td>\n      <td>https://ld.admin.ch/canton/1</td>\n      <td>1561253.45</td>\n      <td>https://energy.ld.admin.ch/sfoe/bfe_ogd18_geba...</td>\n    </tr>\n  </tbody>\n</table>\n<p>7202 rows × 4 columns</p>\n</div>"
     },
     "execution_count": 213,
     "metadata": {},
     "output_type": "execute_result"
    }
   ],
   "source": [
    "Gebaeudeprogramm_QUERY = '''\n",
    "PREFIX schema: <http://schema.org/>\n",
    "\n",
    "select distinct ?Date ?Kanton_Kurzname ?VergütungCHF_Gebäudeprogramm ?Massnahmenbereich\n",
    "\n",
    "where {\n",
    "        SERVICE <https://lindas.admin.ch/query>\n",
    "            {?s <https://energy.ld.admin.ch/sfoe/bfe_ogd18_gebaeudeprogramm_auszahlungen/Jahr> ?Date.\n",
    "            ?s <https://energy.ld.admin.ch/sfoe/bfe_ogd18_gebaeudeprogramm_auszahlungen/region> ?Kanton_Kurzname.\n",
    "            ?s <http://schema.org/amount> ?VergütungCHF_Gebäudeprogramm.\n",
    "            ?s <https://energy.ld.admin.ch/sfoe/bfe_ogd18_gebaeudeprogramm_auszahlungen/massnahmenbereich> ?Massnahmenbereich.\n",
    "}}\n",
    "'''\n",
    "\n",
    "# Graph erstellen und SPARQL-Abfrage durchführen\n",
    "g5 = Graph()\n",
    "results_g5 = g5.query(Gebaeudeprogramm_QUERY)\n",
    "\n",
    "result_g5_list = []\n",
    "for row in results_g5:\n",
    "    result_g5_list.append(row)\n",
    "\n",
    "# Liste in ein Pandas DataFrame umwandeln\n",
    "df_g5 = pd.DataFrame(result_g5_list, columns=['Date', 'Kanton_Kurzname', 'VergütungCHF_Gebäudeprogramm', 'Massnahmenbereich_lang'])\n",
    "df_g5"
   ],
   "metadata": {
    "collapsed": false
   }
  },
  {
   "cell_type": "code",
   "execution_count": 214,
   "outputs": [],
   "source": [
    "# nicht überall sind die Kurznamen hinterlegt, weshalb diese ersetzt werden\n",
    "df_g5['Kanton_Kurzname'] = df_g5['Kanton_Kurzname'].replace(kanton_dict_lindas.keys() , kanton_dict_lindas.values() , regex=True)"
   ],
   "metadata": {
    "collapsed": false
   }
  },
  {
   "cell_type": "code",
   "execution_count": 215,
   "outputs": [
    {
     "data": {
      "text/plain": "      Date Kanton_Kurzname VergütungCHF_Gebäudeprogramm  \\\n0     2010              CH                  43522889.95   \n1     2010              CH                          0.0   \n2     2010              CH                   10977986.0   \n3     2010              CH                    3501873.0   \n4     2010              CH                  92235671.95   \n...    ...             ...                          ...   \n7197  2022              UR                      65390.0   \n7198  2022              VD                    1616377.3   \n7199  2022              VS                     27137.95   \n7200  2022              ZG                    103693.85   \n7201  2022              ZH                   1561253.45   \n\n                                 Massnahmenbereich_lang     Massnahmenbereich  \n0     https://energy.ld.admin.ch/sfoe/bfe_ogd18_geba...           Haustechnik  \n1     https://energy.ld.admin.ch/sfoe/bfe_ogd18_geba...  Indirekte Massnahmen  \n2     https://energy.ld.admin.ch/sfoe/bfe_ogd18_geba...                Neubau  \n3     https://energy.ld.admin.ch/sfoe/bfe_ogd18_geba...       Systemsanierung  \n4     https://energy.ld.admin.ch/sfoe/bfe_ogd18_geba...                 Total  \n...                                                 ...                   ...  \n7197  https://energy.ld.admin.ch/sfoe/bfe_ogd18_geba...  Indirekte_Massnahmen  \n7198  https://energy.ld.admin.ch/sfoe/bfe_ogd18_geba...  Indirekte_Massnahmen  \n7199  https://energy.ld.admin.ch/sfoe/bfe_ogd18_geba...  Indirekte_Massnahmen  \n7200  https://energy.ld.admin.ch/sfoe/bfe_ogd18_geba...  Indirekte_Massnahmen  \n7201  https://energy.ld.admin.ch/sfoe/bfe_ogd18_geba...  Indirekte_Massnahmen  \n\n[7202 rows x 5 columns]",
      "text/html": "<div>\n<style scoped>\n    .dataframe tbody tr th:only-of-type {\n        vertical-align: middle;\n    }\n\n    .dataframe tbody tr th {\n        vertical-align: top;\n    }\n\n    .dataframe thead th {\n        text-align: right;\n    }\n</style>\n<table border=\"1\" class=\"dataframe\">\n  <thead>\n    <tr style=\"text-align: right;\">\n      <th></th>\n      <th>Date</th>\n      <th>Kanton_Kurzname</th>\n      <th>VergütungCHF_Gebäudeprogramm</th>\n      <th>Massnahmenbereich_lang</th>\n      <th>Massnahmenbereich</th>\n    </tr>\n  </thead>\n  <tbody>\n    <tr>\n      <th>0</th>\n      <td>2010</td>\n      <td>CH</td>\n      <td>43522889.95</td>\n      <td>https://energy.ld.admin.ch/sfoe/bfe_ogd18_geba...</td>\n      <td>Haustechnik</td>\n    </tr>\n    <tr>\n      <th>1</th>\n      <td>2010</td>\n      <td>CH</td>\n      <td>0.0</td>\n      <td>https://energy.ld.admin.ch/sfoe/bfe_ogd18_geba...</td>\n      <td>Indirekte Massnahmen</td>\n    </tr>\n    <tr>\n      <th>2</th>\n      <td>2010</td>\n      <td>CH</td>\n      <td>10977986.0</td>\n      <td>https://energy.ld.admin.ch/sfoe/bfe_ogd18_geba...</td>\n      <td>Neubau</td>\n    </tr>\n    <tr>\n      <th>3</th>\n      <td>2010</td>\n      <td>CH</td>\n      <td>3501873.0</td>\n      <td>https://energy.ld.admin.ch/sfoe/bfe_ogd18_geba...</td>\n      <td>Systemsanierung</td>\n    </tr>\n    <tr>\n      <th>4</th>\n      <td>2010</td>\n      <td>CH</td>\n      <td>92235671.95</td>\n      <td>https://energy.ld.admin.ch/sfoe/bfe_ogd18_geba...</td>\n      <td>Total</td>\n    </tr>\n    <tr>\n      <th>...</th>\n      <td>...</td>\n      <td>...</td>\n      <td>...</td>\n      <td>...</td>\n      <td>...</td>\n    </tr>\n    <tr>\n      <th>7197</th>\n      <td>2022</td>\n      <td>UR</td>\n      <td>65390.0</td>\n      <td>https://energy.ld.admin.ch/sfoe/bfe_ogd18_geba...</td>\n      <td>Indirekte_Massnahmen</td>\n    </tr>\n    <tr>\n      <th>7198</th>\n      <td>2022</td>\n      <td>VD</td>\n      <td>1616377.3</td>\n      <td>https://energy.ld.admin.ch/sfoe/bfe_ogd18_geba...</td>\n      <td>Indirekte_Massnahmen</td>\n    </tr>\n    <tr>\n      <th>7199</th>\n      <td>2022</td>\n      <td>VS</td>\n      <td>27137.95</td>\n      <td>https://energy.ld.admin.ch/sfoe/bfe_ogd18_geba...</td>\n      <td>Indirekte_Massnahmen</td>\n    </tr>\n    <tr>\n      <th>7200</th>\n      <td>2022</td>\n      <td>ZG</td>\n      <td>103693.85</td>\n      <td>https://energy.ld.admin.ch/sfoe/bfe_ogd18_geba...</td>\n      <td>Indirekte_Massnahmen</td>\n    </tr>\n    <tr>\n      <th>7201</th>\n      <td>2022</td>\n      <td>ZH</td>\n      <td>1561253.45</td>\n      <td>https://energy.ld.admin.ch/sfoe/bfe_ogd18_geba...</td>\n      <td>Indirekte_Massnahmen</td>\n    </tr>\n  </tbody>\n</table>\n<p>7202 rows × 5 columns</p>\n</div>"
     },
     "execution_count": 215,
     "metadata": {},
     "output_type": "execute_result"
    }
   ],
   "source": [
    "df_g5['Massnahmenbereich'] = df_g5['Massnahmenbereich_lang'].apply(extract_last_part)\n",
    "df_g5"
   ],
   "metadata": {
    "collapsed": false
   }
  },
  {
   "cell_type": "code",
   "execution_count": 216,
   "outputs": [
    {
     "data": {
      "text/plain": "      Date Kanton_Kurzname VergütungCHF_Gebäudeprogramm  \\\n0     2010              CH                  43522889.95   \n1     2010              CH                          0.0   \n2     2010              CH                   10977986.0   \n3     2010              CH                    3501873.0   \n4     2010              CH                  92235671.95   \n...    ...             ...                          ...   \n7197  2022              UR                      65390.0   \n7198  2022              VD                    1616377.3   \n7199  2022              VS                     27137.95   \n7200  2022              ZG                    103693.85   \n7201  2022              ZH                   1561253.45   \n\n                                 Massnahmenbereich_lang     Massnahmenbereich  \n0     https://energy.ld.admin.ch/sfoe/bfe_ogd18_geba...           Haustechnik  \n1     https://energy.ld.admin.ch/sfoe/bfe_ogd18_geba...  Indirekte Massnahmen  \n2     https://energy.ld.admin.ch/sfoe/bfe_ogd18_geba...                Neubau  \n3     https://energy.ld.admin.ch/sfoe/bfe_ogd18_geba...       Systemsanierung  \n4     https://energy.ld.admin.ch/sfoe/bfe_ogd18_geba...                 Total  \n...                                                 ...                   ...  \n7197  https://energy.ld.admin.ch/sfoe/bfe_ogd18_geba...  Indirekte_Massnahmen  \n7198  https://energy.ld.admin.ch/sfoe/bfe_ogd18_geba...  Indirekte_Massnahmen  \n7199  https://energy.ld.admin.ch/sfoe/bfe_ogd18_geba...  Indirekte_Massnahmen  \n7200  https://energy.ld.admin.ch/sfoe/bfe_ogd18_geba...  Indirekte_Massnahmen  \n7201  https://energy.ld.admin.ch/sfoe/bfe_ogd18_geba...  Indirekte_Massnahmen  \n\n[7202 rows x 5 columns]",
      "text/html": "<div>\n<style scoped>\n    .dataframe tbody tr th:only-of-type {\n        vertical-align: middle;\n    }\n\n    .dataframe tbody tr th {\n        vertical-align: top;\n    }\n\n    .dataframe thead th {\n        text-align: right;\n    }\n</style>\n<table border=\"1\" class=\"dataframe\">\n  <thead>\n    <tr style=\"text-align: right;\">\n      <th></th>\n      <th>Date</th>\n      <th>Kanton_Kurzname</th>\n      <th>VergütungCHF_Gebäudeprogramm</th>\n      <th>Massnahmenbereich_lang</th>\n      <th>Massnahmenbereich</th>\n    </tr>\n  </thead>\n  <tbody>\n    <tr>\n      <th>0</th>\n      <td>2010</td>\n      <td>CH</td>\n      <td>43522889.95</td>\n      <td>https://energy.ld.admin.ch/sfoe/bfe_ogd18_geba...</td>\n      <td>Haustechnik</td>\n    </tr>\n    <tr>\n      <th>1</th>\n      <td>2010</td>\n      <td>CH</td>\n      <td>0.0</td>\n      <td>https://energy.ld.admin.ch/sfoe/bfe_ogd18_geba...</td>\n      <td>Indirekte Massnahmen</td>\n    </tr>\n    <tr>\n      <th>2</th>\n      <td>2010</td>\n      <td>CH</td>\n      <td>10977986.0</td>\n      <td>https://energy.ld.admin.ch/sfoe/bfe_ogd18_geba...</td>\n      <td>Neubau</td>\n    </tr>\n    <tr>\n      <th>3</th>\n      <td>2010</td>\n      <td>CH</td>\n      <td>3501873.0</td>\n      <td>https://energy.ld.admin.ch/sfoe/bfe_ogd18_geba...</td>\n      <td>Systemsanierung</td>\n    </tr>\n    <tr>\n      <th>4</th>\n      <td>2010</td>\n      <td>CH</td>\n      <td>92235671.95</td>\n      <td>https://energy.ld.admin.ch/sfoe/bfe_ogd18_geba...</td>\n      <td>Total</td>\n    </tr>\n    <tr>\n      <th>...</th>\n      <td>...</td>\n      <td>...</td>\n      <td>...</td>\n      <td>...</td>\n      <td>...</td>\n    </tr>\n    <tr>\n      <th>7197</th>\n      <td>2022</td>\n      <td>UR</td>\n      <td>65390.0</td>\n      <td>https://energy.ld.admin.ch/sfoe/bfe_ogd18_geba...</td>\n      <td>Indirekte_Massnahmen</td>\n    </tr>\n    <tr>\n      <th>7198</th>\n      <td>2022</td>\n      <td>VD</td>\n      <td>1616377.3</td>\n      <td>https://energy.ld.admin.ch/sfoe/bfe_ogd18_geba...</td>\n      <td>Indirekte_Massnahmen</td>\n    </tr>\n    <tr>\n      <th>7199</th>\n      <td>2022</td>\n      <td>VS</td>\n      <td>27137.95</td>\n      <td>https://energy.ld.admin.ch/sfoe/bfe_ogd18_geba...</td>\n      <td>Indirekte_Massnahmen</td>\n    </tr>\n    <tr>\n      <th>7200</th>\n      <td>2022</td>\n      <td>ZG</td>\n      <td>103693.85</td>\n      <td>https://energy.ld.admin.ch/sfoe/bfe_ogd18_geba...</td>\n      <td>Indirekte_Massnahmen</td>\n    </tr>\n    <tr>\n      <th>7201</th>\n      <td>2022</td>\n      <td>ZH</td>\n      <td>1561253.45</td>\n      <td>https://energy.ld.admin.ch/sfoe/bfe_ogd18_geba...</td>\n      <td>Indirekte_Massnahmen</td>\n    </tr>\n  </tbody>\n</table>\n<p>7202 rows × 5 columns</p>\n</div>"
     },
     "execution_count": 216,
     "metadata": {},
     "output_type": "execute_result"
    }
   ],
   "source": [
    "# Trotz distinct hat es einige Doublikate, diese werden gelöscht\n",
    "df_g5_no_duplicates = df_g5.drop_duplicates()\n",
    "df_g5_no_duplicates"
   ],
   "metadata": {
    "collapsed": false
   }
  },
  {
   "cell_type": "code",
   "execution_count": 217,
   "outputs": [],
   "source": [
    "df_g5_no_duplicates.to_csv('gebaudeprogramm_SummeAuszahlungen.csv', index=False)"
   ],
   "metadata": {
    "collapsed": false
   }
  },
  {
   "cell_type": "markdown",
   "source": [
    "### Abfrage: Energiewirkung"
   ],
   "metadata": {
    "collapsed": false
   }
  },
  {
   "cell_type": "code",
   "execution_count": 218,
   "outputs": [
    {
     "data": {
      "text/plain": "     Date                  Kanton_Kurzname Energiewirkung_GWh_CH  \\\n0    2010  https://ld.admin.ch/country/CHE                101.12   \n1    2010  https://ld.admin.ch/country/CHE                  3.17   \n2    2010  https://ld.admin.ch/country/CHE                  1.44   \n3    2010  https://ld.admin.ch/country/CHE                 162.8   \n4    2010  https://ld.admin.ch/country/CHE                  9.24   \n..    ...                              ...                   ...   \n581  2013  https://ld.admin.ch/country/CHE                252.79   \n582  2013  https://ld.admin.ch/country/CHE                194.42   \n583  2012  https://ld.admin.ch/country/CHE                147.62   \n584  2010  https://ld.admin.ch/country/CHE                  9.24   \n585  2022  https://ld.admin.ch/country/CHE                103.11   \n\n                                Massnahmenbereich_lang  \n0    https://energy.ld.admin.ch/sfoe/bfe_ogd18_geba...  \n1    https://energy.ld.admin.ch/sfoe/bfe_ogd18_geba...  \n2    https://energy.ld.admin.ch/sfoe/bfe_ogd18_geba...  \n3    https://energy.ld.admin.ch/sfoe/bfe_ogd18_geba...  \n4    https://energy.ld.admin.ch/sfoe/bfe_ogd18_geba...  \n..                                                 ...  \n581  https://energy.ld.admin.ch/sfoe/bfe_ogd18_geba...  \n582  https://energy.ld.admin.ch/sfoe/bfe_ogd18_geba...  \n583  https://energy.ld.admin.ch/sfoe/bfe_ogd18_geba...  \n584  https://energy.ld.admin.ch/sfoe/bfe_ogd18_geba...  \n585  https://energy.ld.admin.ch/sfoe/bfe_ogd18_geba...  \n\n[586 rows x 4 columns]",
      "text/html": "<div>\n<style scoped>\n    .dataframe tbody tr th:only-of-type {\n        vertical-align: middle;\n    }\n\n    .dataframe tbody tr th {\n        vertical-align: top;\n    }\n\n    .dataframe thead th {\n        text-align: right;\n    }\n</style>\n<table border=\"1\" class=\"dataframe\">\n  <thead>\n    <tr style=\"text-align: right;\">\n      <th></th>\n      <th>Date</th>\n      <th>Kanton_Kurzname</th>\n      <th>Energiewirkung_GWh_CH</th>\n      <th>Massnahmenbereich_lang</th>\n    </tr>\n  </thead>\n  <tbody>\n    <tr>\n      <th>0</th>\n      <td>2010</td>\n      <td>https://ld.admin.ch/country/CHE</td>\n      <td>101.12</td>\n      <td>https://energy.ld.admin.ch/sfoe/bfe_ogd18_geba...</td>\n    </tr>\n    <tr>\n      <th>1</th>\n      <td>2010</td>\n      <td>https://ld.admin.ch/country/CHE</td>\n      <td>3.17</td>\n      <td>https://energy.ld.admin.ch/sfoe/bfe_ogd18_geba...</td>\n    </tr>\n    <tr>\n      <th>2</th>\n      <td>2010</td>\n      <td>https://ld.admin.ch/country/CHE</td>\n      <td>1.44</td>\n      <td>https://energy.ld.admin.ch/sfoe/bfe_ogd18_geba...</td>\n    </tr>\n    <tr>\n      <th>3</th>\n      <td>2010</td>\n      <td>https://ld.admin.ch/country/CHE</td>\n      <td>162.8</td>\n      <td>https://energy.ld.admin.ch/sfoe/bfe_ogd18_geba...</td>\n    </tr>\n    <tr>\n      <th>4</th>\n      <td>2010</td>\n      <td>https://ld.admin.ch/country/CHE</td>\n      <td>9.24</td>\n      <td>https://energy.ld.admin.ch/sfoe/bfe_ogd18_geba...</td>\n    </tr>\n    <tr>\n      <th>...</th>\n      <td>...</td>\n      <td>...</td>\n      <td>...</td>\n      <td>...</td>\n    </tr>\n    <tr>\n      <th>581</th>\n      <td>2013</td>\n      <td>https://ld.admin.ch/country/CHE</td>\n      <td>252.79</td>\n      <td>https://energy.ld.admin.ch/sfoe/bfe_ogd18_geba...</td>\n    </tr>\n    <tr>\n      <th>582</th>\n      <td>2013</td>\n      <td>https://ld.admin.ch/country/CHE</td>\n      <td>194.42</td>\n      <td>https://energy.ld.admin.ch/sfoe/bfe_ogd18_geba...</td>\n    </tr>\n    <tr>\n      <th>583</th>\n      <td>2012</td>\n      <td>https://ld.admin.ch/country/CHE</td>\n      <td>147.62</td>\n      <td>https://energy.ld.admin.ch/sfoe/bfe_ogd18_geba...</td>\n    </tr>\n    <tr>\n      <th>584</th>\n      <td>2010</td>\n      <td>https://ld.admin.ch/country/CHE</td>\n      <td>9.24</td>\n      <td>https://energy.ld.admin.ch/sfoe/bfe_ogd18_geba...</td>\n    </tr>\n    <tr>\n      <th>585</th>\n      <td>2022</td>\n      <td>https://ld.admin.ch/country/CHE</td>\n      <td>103.11</td>\n      <td>https://energy.ld.admin.ch/sfoe/bfe_ogd18_geba...</td>\n    </tr>\n  </tbody>\n</table>\n<p>586 rows × 4 columns</p>\n</div>"
     },
     "execution_count": 218,
     "metadata": {},
     "output_type": "execute_result"
    }
   ],
   "source": [
    "Gebaeudeprogramm_Energiewirkung_QUERY = '''\n",
    "PREFIX schema: <http://schema.org/>\n",
    "\n",
    "select distinct  ?Date ?Kanton_Kurzname ?Energiewirkung_GWh_CH ?Massnahmenbereich\n",
    "\n",
    "where {\n",
    "        SERVICE <https://lindas.admin.ch/query>\n",
    "            {?Massnahmenbereich <http://schema.org/amount> ?Energiewirkung_GWh_CH .\n",
    "            ?Massnahmenbereich <https://energy.ld.admin.ch/sfoe/bfe_ogd18_gebaeudeprogramm_energiewirkung/Jahr> ?Date .\n",
    "            ?Massnahmenbereich <https://energy.ld.admin.ch/sfoe/bfe_ogd18_gebaeudeprogramm_energiewirkung/region> ?Kanton_Kurzname.\n",
    "}}\n",
    "'''\n",
    "\n",
    "# Graph erstellen und SPARQL-Abfrage durchführen\n",
    "g6 = Graph()\n",
    "results_g6 = g6.query(Gebaeudeprogramm_Energiewirkung_QUERY)\n",
    "\n",
    "result_g6_list = []\n",
    "for row in results_g6:\n",
    "    result_g6_list.append(row)\n",
    "\n",
    "# Liste in ein Pandas DataFrame umwandeln\n",
    "df_g6 = pd.DataFrame(result_g6_list, columns=['Date','Kanton_Kurzname', 'Energiewirkung_GWh_CH','Massnahmenbereich_lang'])\n",
    "df_g6"
   ],
   "metadata": {
    "collapsed": false
   }
  },
  {
   "cell_type": "code",
   "execution_count": 219,
   "outputs": [],
   "source": [
    "# nicht überall sind die Kurznamen hinterlegt, weshalb diese ersetzt werden\n",
    "df_g6['Kanton_Kurzname'] = df_g6['Kanton_Kurzname'].replace(kanton_dict_lindas.keys() , kanton_dict_lindas.values() , regex=True)"
   ],
   "metadata": {
    "collapsed": false
   }
  },
  {
   "cell_type": "code",
   "execution_count": 220,
   "outputs": [
    {
     "data": {
      "text/plain": "     Date Kanton_Kurzname Energiewirkung_GWh_CH  \\\n0    2010              CH                101.12   \n1    2010              CH                  3.17   \n2    2010              CH                  1.44   \n3    2010              CH                 162.8   \n4    2010              CH                  9.24   \n..    ...             ...                   ...   \n581  2013              CH                252.79   \n582  2013              CH                194.42   \n583  2012              CH                147.62   \n584  2010              CH                  9.24   \n585  2022              CH                103.11   \n\n                                Massnahmenbereich_lang  \n0    https://energy.ld.admin.ch/sfoe/bfe_ogd18_geba...  \n1    https://energy.ld.admin.ch/sfoe/bfe_ogd18_geba...  \n2    https://energy.ld.admin.ch/sfoe/bfe_ogd18_geba...  \n3    https://energy.ld.admin.ch/sfoe/bfe_ogd18_geba...  \n4    https://energy.ld.admin.ch/sfoe/bfe_ogd18_geba...  \n..                                                 ...  \n581  https://energy.ld.admin.ch/sfoe/bfe_ogd18_geba...  \n582  https://energy.ld.admin.ch/sfoe/bfe_ogd18_geba...  \n583  https://energy.ld.admin.ch/sfoe/bfe_ogd18_geba...  \n584  https://energy.ld.admin.ch/sfoe/bfe_ogd18_geba...  \n585  https://energy.ld.admin.ch/sfoe/bfe_ogd18_geba...  \n\n[586 rows x 4 columns]",
      "text/html": "<div>\n<style scoped>\n    .dataframe tbody tr th:only-of-type {\n        vertical-align: middle;\n    }\n\n    .dataframe tbody tr th {\n        vertical-align: top;\n    }\n\n    .dataframe thead th {\n        text-align: right;\n    }\n</style>\n<table border=\"1\" class=\"dataframe\">\n  <thead>\n    <tr style=\"text-align: right;\">\n      <th></th>\n      <th>Date</th>\n      <th>Kanton_Kurzname</th>\n      <th>Energiewirkung_GWh_CH</th>\n      <th>Massnahmenbereich_lang</th>\n    </tr>\n  </thead>\n  <tbody>\n    <tr>\n      <th>0</th>\n      <td>2010</td>\n      <td>CH</td>\n      <td>101.12</td>\n      <td>https://energy.ld.admin.ch/sfoe/bfe_ogd18_geba...</td>\n    </tr>\n    <tr>\n      <th>1</th>\n      <td>2010</td>\n      <td>CH</td>\n      <td>3.17</td>\n      <td>https://energy.ld.admin.ch/sfoe/bfe_ogd18_geba...</td>\n    </tr>\n    <tr>\n      <th>2</th>\n      <td>2010</td>\n      <td>CH</td>\n      <td>1.44</td>\n      <td>https://energy.ld.admin.ch/sfoe/bfe_ogd18_geba...</td>\n    </tr>\n    <tr>\n      <th>3</th>\n      <td>2010</td>\n      <td>CH</td>\n      <td>162.8</td>\n      <td>https://energy.ld.admin.ch/sfoe/bfe_ogd18_geba...</td>\n    </tr>\n    <tr>\n      <th>4</th>\n      <td>2010</td>\n      <td>CH</td>\n      <td>9.24</td>\n      <td>https://energy.ld.admin.ch/sfoe/bfe_ogd18_geba...</td>\n    </tr>\n    <tr>\n      <th>...</th>\n      <td>...</td>\n      <td>...</td>\n      <td>...</td>\n      <td>...</td>\n    </tr>\n    <tr>\n      <th>581</th>\n      <td>2013</td>\n      <td>CH</td>\n      <td>252.79</td>\n      <td>https://energy.ld.admin.ch/sfoe/bfe_ogd18_geba...</td>\n    </tr>\n    <tr>\n      <th>582</th>\n      <td>2013</td>\n      <td>CH</td>\n      <td>194.42</td>\n      <td>https://energy.ld.admin.ch/sfoe/bfe_ogd18_geba...</td>\n    </tr>\n    <tr>\n      <th>583</th>\n      <td>2012</td>\n      <td>CH</td>\n      <td>147.62</td>\n      <td>https://energy.ld.admin.ch/sfoe/bfe_ogd18_geba...</td>\n    </tr>\n    <tr>\n      <th>584</th>\n      <td>2010</td>\n      <td>CH</td>\n      <td>9.24</td>\n      <td>https://energy.ld.admin.ch/sfoe/bfe_ogd18_geba...</td>\n    </tr>\n    <tr>\n      <th>585</th>\n      <td>2022</td>\n      <td>CH</td>\n      <td>103.11</td>\n      <td>https://energy.ld.admin.ch/sfoe/bfe_ogd18_geba...</td>\n    </tr>\n  </tbody>\n</table>\n<p>586 rows × 4 columns</p>\n</div>"
     },
     "execution_count": 220,
     "metadata": {},
     "output_type": "execute_result"
    }
   ],
   "source": [
    "df_g6"
   ],
   "metadata": {
    "collapsed": false
   }
  },
  {
   "cell_type": "code",
   "execution_count": 221,
   "outputs": [
    {
     "data": {
      "text/plain": "     Date Kanton_Kurzname Energiewirkung_GWh_CH  \\\n0    2010              CH                101.12   \n1    2010              CH                  3.17   \n2    2010              CH                  1.44   \n3    2010              CH                 162.8   \n4    2010              CH                  9.24   \n..    ...             ...                   ...   \n581  2013              CH                252.79   \n582  2013              CH                194.42   \n583  2012              CH                147.62   \n584  2010              CH                  9.24   \n585  2022              CH                103.11   \n\n                                Massnahmenbereich_lang  \\\n0    https://energy.ld.admin.ch/sfoe/bfe_ogd18_geba...   \n1    https://energy.ld.admin.ch/sfoe/bfe_ogd18_geba...   \n2    https://energy.ld.admin.ch/sfoe/bfe_ogd18_geba...   \n3    https://energy.ld.admin.ch/sfoe/bfe_ogd18_geba...   \n4    https://energy.ld.admin.ch/sfoe/bfe_ogd18_geba...   \n..                                                 ...   \n581  https://energy.ld.admin.ch/sfoe/bfe_ogd18_geba...   \n582  https://energy.ld.admin.ch/sfoe/bfe_ogd18_geba...   \n583  https://energy.ld.admin.ch/sfoe/bfe_ogd18_geba...   \n584  https://energy.ld.admin.ch/sfoe/bfe_ogd18_geba...   \n585  https://energy.ld.admin.ch/sfoe/bfe_ogd18_geba...   \n\n                        Massnahmenbereich  \n0                             Haustechnik  \n1                                  Neubau  \n2                         Systemsanierung  \n3    Total Energiewirkung Gebäudeprogramm  \n4                            Wärmedämmung  \n..                                    ...  \n581                        Waermedaemmung  \n582             Zentrale_Waermeversorgung  \n583             Zentrale_Waermeversorgung  \n584                        Waermedaemmung  \n585                       Systemsanierung  \n\n[586 rows x 5 columns]",
      "text/html": "<div>\n<style scoped>\n    .dataframe tbody tr th:only-of-type {\n        vertical-align: middle;\n    }\n\n    .dataframe tbody tr th {\n        vertical-align: top;\n    }\n\n    .dataframe thead th {\n        text-align: right;\n    }\n</style>\n<table border=\"1\" class=\"dataframe\">\n  <thead>\n    <tr style=\"text-align: right;\">\n      <th></th>\n      <th>Date</th>\n      <th>Kanton_Kurzname</th>\n      <th>Energiewirkung_GWh_CH</th>\n      <th>Massnahmenbereich_lang</th>\n      <th>Massnahmenbereich</th>\n    </tr>\n  </thead>\n  <tbody>\n    <tr>\n      <th>0</th>\n      <td>2010</td>\n      <td>CH</td>\n      <td>101.12</td>\n      <td>https://energy.ld.admin.ch/sfoe/bfe_ogd18_geba...</td>\n      <td>Haustechnik</td>\n    </tr>\n    <tr>\n      <th>1</th>\n      <td>2010</td>\n      <td>CH</td>\n      <td>3.17</td>\n      <td>https://energy.ld.admin.ch/sfoe/bfe_ogd18_geba...</td>\n      <td>Neubau</td>\n    </tr>\n    <tr>\n      <th>2</th>\n      <td>2010</td>\n      <td>CH</td>\n      <td>1.44</td>\n      <td>https://energy.ld.admin.ch/sfoe/bfe_ogd18_geba...</td>\n      <td>Systemsanierung</td>\n    </tr>\n    <tr>\n      <th>3</th>\n      <td>2010</td>\n      <td>CH</td>\n      <td>162.8</td>\n      <td>https://energy.ld.admin.ch/sfoe/bfe_ogd18_geba...</td>\n      <td>Total Energiewirkung Gebäudeprogramm</td>\n    </tr>\n    <tr>\n      <th>4</th>\n      <td>2010</td>\n      <td>CH</td>\n      <td>9.24</td>\n      <td>https://energy.ld.admin.ch/sfoe/bfe_ogd18_geba...</td>\n      <td>Wärmedämmung</td>\n    </tr>\n    <tr>\n      <th>...</th>\n      <td>...</td>\n      <td>...</td>\n      <td>...</td>\n      <td>...</td>\n      <td>...</td>\n    </tr>\n    <tr>\n      <th>581</th>\n      <td>2013</td>\n      <td>CH</td>\n      <td>252.79</td>\n      <td>https://energy.ld.admin.ch/sfoe/bfe_ogd18_geba...</td>\n      <td>Waermedaemmung</td>\n    </tr>\n    <tr>\n      <th>582</th>\n      <td>2013</td>\n      <td>CH</td>\n      <td>194.42</td>\n      <td>https://energy.ld.admin.ch/sfoe/bfe_ogd18_geba...</td>\n      <td>Zentrale_Waermeversorgung</td>\n    </tr>\n    <tr>\n      <th>583</th>\n      <td>2012</td>\n      <td>CH</td>\n      <td>147.62</td>\n      <td>https://energy.ld.admin.ch/sfoe/bfe_ogd18_geba...</td>\n      <td>Zentrale_Waermeversorgung</td>\n    </tr>\n    <tr>\n      <th>584</th>\n      <td>2010</td>\n      <td>CH</td>\n      <td>9.24</td>\n      <td>https://energy.ld.admin.ch/sfoe/bfe_ogd18_geba...</td>\n      <td>Waermedaemmung</td>\n    </tr>\n    <tr>\n      <th>585</th>\n      <td>2022</td>\n      <td>CH</td>\n      <td>103.11</td>\n      <td>https://energy.ld.admin.ch/sfoe/bfe_ogd18_geba...</td>\n      <td>Systemsanierung</td>\n    </tr>\n  </tbody>\n</table>\n<p>586 rows × 5 columns</p>\n</div>"
     },
     "execution_count": 221,
     "metadata": {},
     "output_type": "execute_result"
    }
   ],
   "source": [
    "df_g6['Massnahmenbereich'] = df_g6['Massnahmenbereich_lang'].apply(extract_last_part)\n",
    "df_g6"
   ],
   "metadata": {
    "collapsed": false
   }
  },
  {
   "cell_type": "code",
   "execution_count": 222,
   "outputs": [
    {
     "data": {
      "text/plain": "     Date Kanton_Kurzname Energiewirkung_GWh_CH  \\\n0    2010              CH                101.12   \n1    2010              CH                  3.17   \n2    2010              CH                  1.44   \n3    2010              CH                 162.8   \n4    2010              CH                  9.24   \n..    ...             ...                   ...   \n581  2013              CH                252.79   \n582  2013              CH                194.42   \n583  2012              CH                147.62   \n584  2010              CH                  9.24   \n585  2022              CH                103.11   \n\n                                Massnahmenbereich_lang  \\\n0    https://energy.ld.admin.ch/sfoe/bfe_ogd18_geba...   \n1    https://energy.ld.admin.ch/sfoe/bfe_ogd18_geba...   \n2    https://energy.ld.admin.ch/sfoe/bfe_ogd18_geba...   \n3    https://energy.ld.admin.ch/sfoe/bfe_ogd18_geba...   \n4    https://energy.ld.admin.ch/sfoe/bfe_ogd18_geba...   \n..                                                 ...   \n581  https://energy.ld.admin.ch/sfoe/bfe_ogd18_geba...   \n582  https://energy.ld.admin.ch/sfoe/bfe_ogd18_geba...   \n583  https://energy.ld.admin.ch/sfoe/bfe_ogd18_geba...   \n584  https://energy.ld.admin.ch/sfoe/bfe_ogd18_geba...   \n585  https://energy.ld.admin.ch/sfoe/bfe_ogd18_geba...   \n\n                        Massnahmenbereich  \n0                             Haustechnik  \n1                                  Neubau  \n2                         Systemsanierung  \n3    Total Energiewirkung Gebäudeprogramm  \n4                            Wärmedämmung  \n..                                    ...  \n581                        Waermedaemmung  \n582             Zentrale_Waermeversorgung  \n583             Zentrale_Waermeversorgung  \n584                        Waermedaemmung  \n585                       Systemsanierung  \n\n[586 rows x 5 columns]",
      "text/html": "<div>\n<style scoped>\n    .dataframe tbody tr th:only-of-type {\n        vertical-align: middle;\n    }\n\n    .dataframe tbody tr th {\n        vertical-align: top;\n    }\n\n    .dataframe thead th {\n        text-align: right;\n    }\n</style>\n<table border=\"1\" class=\"dataframe\">\n  <thead>\n    <tr style=\"text-align: right;\">\n      <th></th>\n      <th>Date</th>\n      <th>Kanton_Kurzname</th>\n      <th>Energiewirkung_GWh_CH</th>\n      <th>Massnahmenbereich_lang</th>\n      <th>Massnahmenbereich</th>\n    </tr>\n  </thead>\n  <tbody>\n    <tr>\n      <th>0</th>\n      <td>2010</td>\n      <td>CH</td>\n      <td>101.12</td>\n      <td>https://energy.ld.admin.ch/sfoe/bfe_ogd18_geba...</td>\n      <td>Haustechnik</td>\n    </tr>\n    <tr>\n      <th>1</th>\n      <td>2010</td>\n      <td>CH</td>\n      <td>3.17</td>\n      <td>https://energy.ld.admin.ch/sfoe/bfe_ogd18_geba...</td>\n      <td>Neubau</td>\n    </tr>\n    <tr>\n      <th>2</th>\n      <td>2010</td>\n      <td>CH</td>\n      <td>1.44</td>\n      <td>https://energy.ld.admin.ch/sfoe/bfe_ogd18_geba...</td>\n      <td>Systemsanierung</td>\n    </tr>\n    <tr>\n      <th>3</th>\n      <td>2010</td>\n      <td>CH</td>\n      <td>162.8</td>\n      <td>https://energy.ld.admin.ch/sfoe/bfe_ogd18_geba...</td>\n      <td>Total Energiewirkung Gebäudeprogramm</td>\n    </tr>\n    <tr>\n      <th>4</th>\n      <td>2010</td>\n      <td>CH</td>\n      <td>9.24</td>\n      <td>https://energy.ld.admin.ch/sfoe/bfe_ogd18_geba...</td>\n      <td>Wärmedämmung</td>\n    </tr>\n    <tr>\n      <th>...</th>\n      <td>...</td>\n      <td>...</td>\n      <td>...</td>\n      <td>...</td>\n      <td>...</td>\n    </tr>\n    <tr>\n      <th>581</th>\n      <td>2013</td>\n      <td>CH</td>\n      <td>252.79</td>\n      <td>https://energy.ld.admin.ch/sfoe/bfe_ogd18_geba...</td>\n      <td>Waermedaemmung</td>\n    </tr>\n    <tr>\n      <th>582</th>\n      <td>2013</td>\n      <td>CH</td>\n      <td>194.42</td>\n      <td>https://energy.ld.admin.ch/sfoe/bfe_ogd18_geba...</td>\n      <td>Zentrale_Waermeversorgung</td>\n    </tr>\n    <tr>\n      <th>583</th>\n      <td>2012</td>\n      <td>CH</td>\n      <td>147.62</td>\n      <td>https://energy.ld.admin.ch/sfoe/bfe_ogd18_geba...</td>\n      <td>Zentrale_Waermeversorgung</td>\n    </tr>\n    <tr>\n      <th>584</th>\n      <td>2010</td>\n      <td>CH</td>\n      <td>9.24</td>\n      <td>https://energy.ld.admin.ch/sfoe/bfe_ogd18_geba...</td>\n      <td>Waermedaemmung</td>\n    </tr>\n    <tr>\n      <th>585</th>\n      <td>2022</td>\n      <td>CH</td>\n      <td>103.11</td>\n      <td>https://energy.ld.admin.ch/sfoe/bfe_ogd18_geba...</td>\n      <td>Systemsanierung</td>\n    </tr>\n  </tbody>\n</table>\n<p>586 rows × 5 columns</p>\n</div>"
     },
     "execution_count": 222,
     "metadata": {},
     "output_type": "execute_result"
    }
   ],
   "source": [
    "# Trotz distinct hat es einige Doublikate, diese werden gelöscht\n",
    "df_g6_no_duplicates = df_g6.drop_duplicates()\n",
    "df_g6_no_duplicates"
   ],
   "metadata": {
    "collapsed": false
   }
  },
  {
   "cell_type": "code",
   "execution_count": 223,
   "outputs": [],
   "source": [
    "df_g6_no_duplicates.to_csv('gebaudeprogramm_Energiewirkung.csv', index=False)"
   ],
   "metadata": {
    "collapsed": false
   }
  },
  {
   "cell_type": "markdown",
   "source": [
    "### Abfrage: CO2 Wirkung pro Massnahmenbereich"
   ],
   "metadata": {
    "collapsed": false
   }
  },
  {
   "cell_type": "code",
   "execution_count": 224,
   "outputs": [
    {
     "data": {
      "text/plain": "     Date                  Kanton_Kurzname CO2_Wirkung_Tonnen_CH  \\\n0    2010  https://ld.admin.ch/country/CHE                 30259   \n1    2010  https://ld.admin.ch/country/CHE                  1112   \n2    2010  https://ld.admin.ch/country/CHE                   369   \n3    2010  https://ld.admin.ch/country/CHE                 46879   \n4    2010  https://ld.admin.ch/country/CHE                  1748   \n..    ...                              ...                   ...   \n378  2020  https://ld.admin.ch/country/CHE                146169   \n379  2021  https://ld.admin.ch/country/CHE                154805   \n380  2021  https://ld.admin.ch/country/CHE                156177   \n381  2022  https://ld.admin.ch/country/CHE                162564   \n382  2022  https://ld.admin.ch/country/CHE                178709   \n\n                                Massnahmenbereich_lang  \n0    https://energy.ld.admin.ch/sfoe/bfe_ogd18_geba...  \n1    https://energy.ld.admin.ch/sfoe/bfe_ogd18_geba...  \n2    https://energy.ld.admin.ch/sfoe/bfe_ogd18_geba...  \n3    https://energy.ld.admin.ch/sfoe/bfe_ogd18_geba...  \n4    https://energy.ld.admin.ch/sfoe/bfe_ogd18_geba...  \n..                                                 ...  \n378  https://energy.ld.admin.ch/sfoe/bfe_ogd18_geba...  \n379  https://energy.ld.admin.ch/sfoe/bfe_ogd18_geba...  \n380  https://energy.ld.admin.ch/sfoe/bfe_ogd18_geba...  \n381  https://energy.ld.admin.ch/sfoe/bfe_ogd18_geba...  \n382  https://energy.ld.admin.ch/sfoe/bfe_ogd18_geba...  \n\n[383 rows x 4 columns]",
      "text/html": "<div>\n<style scoped>\n    .dataframe tbody tr th:only-of-type {\n        vertical-align: middle;\n    }\n\n    .dataframe tbody tr th {\n        vertical-align: top;\n    }\n\n    .dataframe thead th {\n        text-align: right;\n    }\n</style>\n<table border=\"1\" class=\"dataframe\">\n  <thead>\n    <tr style=\"text-align: right;\">\n      <th></th>\n      <th>Date</th>\n      <th>Kanton_Kurzname</th>\n      <th>CO2_Wirkung_Tonnen_CH</th>\n      <th>Massnahmenbereich_lang</th>\n    </tr>\n  </thead>\n  <tbody>\n    <tr>\n      <th>0</th>\n      <td>2010</td>\n      <td>https://ld.admin.ch/country/CHE</td>\n      <td>30259</td>\n      <td>https://energy.ld.admin.ch/sfoe/bfe_ogd18_geba...</td>\n    </tr>\n    <tr>\n      <th>1</th>\n      <td>2010</td>\n      <td>https://ld.admin.ch/country/CHE</td>\n      <td>1112</td>\n      <td>https://energy.ld.admin.ch/sfoe/bfe_ogd18_geba...</td>\n    </tr>\n    <tr>\n      <th>2</th>\n      <td>2010</td>\n      <td>https://ld.admin.ch/country/CHE</td>\n      <td>369</td>\n      <td>https://energy.ld.admin.ch/sfoe/bfe_ogd18_geba...</td>\n    </tr>\n    <tr>\n      <th>3</th>\n      <td>2010</td>\n      <td>https://ld.admin.ch/country/CHE</td>\n      <td>46879</td>\n      <td>https://energy.ld.admin.ch/sfoe/bfe_ogd18_geba...</td>\n    </tr>\n    <tr>\n      <th>4</th>\n      <td>2010</td>\n      <td>https://ld.admin.ch/country/CHE</td>\n      <td>1748</td>\n      <td>https://energy.ld.admin.ch/sfoe/bfe_ogd18_geba...</td>\n    </tr>\n    <tr>\n      <th>...</th>\n      <td>...</td>\n      <td>...</td>\n      <td>...</td>\n      <td>...</td>\n    </tr>\n    <tr>\n      <th>378</th>\n      <td>2020</td>\n      <td>https://ld.admin.ch/country/CHE</td>\n      <td>146169</td>\n      <td>https://energy.ld.admin.ch/sfoe/bfe_ogd18_geba...</td>\n    </tr>\n    <tr>\n      <th>379</th>\n      <td>2021</td>\n      <td>https://ld.admin.ch/country/CHE</td>\n      <td>154805</td>\n      <td>https://energy.ld.admin.ch/sfoe/bfe_ogd18_geba...</td>\n    </tr>\n    <tr>\n      <th>380</th>\n      <td>2021</td>\n      <td>https://ld.admin.ch/country/CHE</td>\n      <td>156177</td>\n      <td>https://energy.ld.admin.ch/sfoe/bfe_ogd18_geba...</td>\n    </tr>\n    <tr>\n      <th>381</th>\n      <td>2022</td>\n      <td>https://ld.admin.ch/country/CHE</td>\n      <td>162564</td>\n      <td>https://energy.ld.admin.ch/sfoe/bfe_ogd18_geba...</td>\n    </tr>\n    <tr>\n      <th>382</th>\n      <td>2022</td>\n      <td>https://ld.admin.ch/country/CHE</td>\n      <td>178709</td>\n      <td>https://energy.ld.admin.ch/sfoe/bfe_ogd18_geba...</td>\n    </tr>\n  </tbody>\n</table>\n<p>383 rows × 4 columns</p>\n</div>"
     },
     "execution_count": 224,
     "metadata": {},
     "output_type": "execute_result"
    }
   ],
   "source": [
    "Gebaeudeprogramm_CO2_QUERY = '''\n",
    "PREFIX schema: <http://schema.org/>\n",
    "\n",
    "select distinct  ?Date ?Kanton_Kurzname ?CO2_Wirkung_Tonnen_CH ?Massnahmenbereich\n",
    "\n",
    "where {\n",
    "        SERVICE <https://lindas.admin.ch/query>\n",
    "            {?Massnahmenbereich <http://schema.org/amount> ?CO2_Wirkung_Tonnen_CH .\n",
    "            ?Massnahmenbereich <https://energy.ld.admin.ch/sfoe/bfe_ogd18_gebaeudeprogramm_co2wirkung/Jahr> ?Date .\n",
    "            ?Massnahmenbereich <https://energy.ld.admin.ch/sfoe/bfe_ogd18_gebaeudeprogramm_co2wirkung/region> ?Kanton_Kurzname.\n",
    "}}\n",
    "'''\n",
    "\n",
    "# Graph erstellen und SPARQL-Abfrage durchführen\n",
    "g7 = Graph()\n",
    "results_g7 = g7.query(Gebaeudeprogramm_CO2_QUERY)\n",
    "\n",
    "result_g7_list = []\n",
    "for row in results_g7:\n",
    "    result_g7_list.append(row)\n",
    "\n",
    "# Liste in ein Pandas DataFrame umwandeln\n",
    "df_g7 = pd.DataFrame(result_g7_list, columns=['Date', 'Kanton_Kurzname', 'CO2_Wirkung_Tonnen_CH', 'Massnahmenbereich_lang'])\n",
    "df_g7"
   ],
   "metadata": {
    "collapsed": false
   }
  },
  {
   "cell_type": "code",
   "execution_count": 225,
   "outputs": [],
   "source": [
    "# nicht überall sind die Kurznamen hinterlegt, weshalb diese ersetzt werden\n",
    "df_g7['Kanton_Kurzname'] = df_g7['Kanton_Kurzname'].replace(kanton_dict_lindas.keys() , kanton_dict_lindas.values() , regex=True)"
   ],
   "metadata": {
    "collapsed": false
   }
  },
  {
   "cell_type": "code",
   "execution_count": 226,
   "outputs": [
    {
     "data": {
      "text/plain": "     Date Kanton_Kurzname CO2_Wirkung_Tonnen_CH  \\\n0    2010              CH                 30259   \n1    2010              CH                  1112   \n2    2010              CH                   369   \n3    2010              CH                 46879   \n4    2010              CH                  1748   \n..    ...             ...                   ...   \n378  2020              CH                146169   \n379  2021              CH                154805   \n380  2021              CH                156177   \n381  2022              CH                162564   \n382  2022              CH                178709   \n\n                                Massnahmenbereich_lang  \n0    https://energy.ld.admin.ch/sfoe/bfe_ogd18_geba...  \n1    https://energy.ld.admin.ch/sfoe/bfe_ogd18_geba...  \n2    https://energy.ld.admin.ch/sfoe/bfe_ogd18_geba...  \n3    https://energy.ld.admin.ch/sfoe/bfe_ogd18_geba...  \n4    https://energy.ld.admin.ch/sfoe/bfe_ogd18_geba...  \n..                                                 ...  \n378  https://energy.ld.admin.ch/sfoe/bfe_ogd18_geba...  \n379  https://energy.ld.admin.ch/sfoe/bfe_ogd18_geba...  \n380  https://energy.ld.admin.ch/sfoe/bfe_ogd18_geba...  \n381  https://energy.ld.admin.ch/sfoe/bfe_ogd18_geba...  \n382  https://energy.ld.admin.ch/sfoe/bfe_ogd18_geba...  \n\n[383 rows x 4 columns]",
      "text/html": "<div>\n<style scoped>\n    .dataframe tbody tr th:only-of-type {\n        vertical-align: middle;\n    }\n\n    .dataframe tbody tr th {\n        vertical-align: top;\n    }\n\n    .dataframe thead th {\n        text-align: right;\n    }\n</style>\n<table border=\"1\" class=\"dataframe\">\n  <thead>\n    <tr style=\"text-align: right;\">\n      <th></th>\n      <th>Date</th>\n      <th>Kanton_Kurzname</th>\n      <th>CO2_Wirkung_Tonnen_CH</th>\n      <th>Massnahmenbereich_lang</th>\n    </tr>\n  </thead>\n  <tbody>\n    <tr>\n      <th>0</th>\n      <td>2010</td>\n      <td>CH</td>\n      <td>30259</td>\n      <td>https://energy.ld.admin.ch/sfoe/bfe_ogd18_geba...</td>\n    </tr>\n    <tr>\n      <th>1</th>\n      <td>2010</td>\n      <td>CH</td>\n      <td>1112</td>\n      <td>https://energy.ld.admin.ch/sfoe/bfe_ogd18_geba...</td>\n    </tr>\n    <tr>\n      <th>2</th>\n      <td>2010</td>\n      <td>CH</td>\n      <td>369</td>\n      <td>https://energy.ld.admin.ch/sfoe/bfe_ogd18_geba...</td>\n    </tr>\n    <tr>\n      <th>3</th>\n      <td>2010</td>\n      <td>CH</td>\n      <td>46879</td>\n      <td>https://energy.ld.admin.ch/sfoe/bfe_ogd18_geba...</td>\n    </tr>\n    <tr>\n      <th>4</th>\n      <td>2010</td>\n      <td>CH</td>\n      <td>1748</td>\n      <td>https://energy.ld.admin.ch/sfoe/bfe_ogd18_geba...</td>\n    </tr>\n    <tr>\n      <th>...</th>\n      <td>...</td>\n      <td>...</td>\n      <td>...</td>\n      <td>...</td>\n    </tr>\n    <tr>\n      <th>378</th>\n      <td>2020</td>\n      <td>CH</td>\n      <td>146169</td>\n      <td>https://energy.ld.admin.ch/sfoe/bfe_ogd18_geba...</td>\n    </tr>\n    <tr>\n      <th>379</th>\n      <td>2021</td>\n      <td>CH</td>\n      <td>154805</td>\n      <td>https://energy.ld.admin.ch/sfoe/bfe_ogd18_geba...</td>\n    </tr>\n    <tr>\n      <th>380</th>\n      <td>2021</td>\n      <td>CH</td>\n      <td>156177</td>\n      <td>https://energy.ld.admin.ch/sfoe/bfe_ogd18_geba...</td>\n    </tr>\n    <tr>\n      <th>381</th>\n      <td>2022</td>\n      <td>CH</td>\n      <td>162564</td>\n      <td>https://energy.ld.admin.ch/sfoe/bfe_ogd18_geba...</td>\n    </tr>\n    <tr>\n      <th>382</th>\n      <td>2022</td>\n      <td>CH</td>\n      <td>178709</td>\n      <td>https://energy.ld.admin.ch/sfoe/bfe_ogd18_geba...</td>\n    </tr>\n  </tbody>\n</table>\n<p>383 rows × 4 columns</p>\n</div>"
     },
     "execution_count": 226,
     "metadata": {},
     "output_type": "execute_result"
    }
   ],
   "source": [
    "df_g7"
   ],
   "metadata": {
    "collapsed": false
   }
  },
  {
   "cell_type": "code",
   "execution_count": 227,
   "outputs": [
    {
     "data": {
      "text/plain": "     Date Kanton_Kurzname CO2_Wirkung_Tonnen_CH  \\\n0    2010              CH                 30259   \n1    2010              CH                  1112   \n2    2010              CH                   369   \n3    2010              CH                 46879   \n4    2010              CH                  1748   \n..    ...             ...                   ...   \n378  2020              CH                146169   \n379  2021              CH                154805   \n380  2021              CH                156177   \n381  2022              CH                162564   \n382  2022              CH                178709   \n\n                                Massnahmenbereich_lang  \\\n0    https://energy.ld.admin.ch/sfoe/bfe_ogd18_geba...   \n1    https://energy.ld.admin.ch/sfoe/bfe_ogd18_geba...   \n2    https://energy.ld.admin.ch/sfoe/bfe_ogd18_geba...   \n3    https://energy.ld.admin.ch/sfoe/bfe_ogd18_geba...   \n4    https://energy.ld.admin.ch/sfoe/bfe_ogd18_geba...   \n..                                                 ...   \n378  https://energy.ld.admin.ch/sfoe/bfe_ogd18_geba...   \n379  https://energy.ld.admin.ch/sfoe/bfe_ogd18_geba...   \n380  https://energy.ld.admin.ch/sfoe/bfe_ogd18_geba...   \n381  https://energy.ld.admin.ch/sfoe/bfe_ogd18_geba...   \n382  https://energy.ld.admin.ch/sfoe/bfe_ogd18_geba...   \n\n                     Massnahmenbereich  \n0                          Haustechnik  \n1                               Neubau  \n2                      Systemsanierung  \n3    Total CO2-Wirkung Gebäudeprogramm  \n4                         Wärmedämmung  \n..                                 ...  \n378          Zentrale_Waermeversorgung  \n379                     Waermedaemmung  \n380          Zentrale_Waermeversorgung  \n381                     Waermedaemmung  \n382          Zentrale_Waermeversorgung  \n\n[383 rows x 5 columns]",
      "text/html": "<div>\n<style scoped>\n    .dataframe tbody tr th:only-of-type {\n        vertical-align: middle;\n    }\n\n    .dataframe tbody tr th {\n        vertical-align: top;\n    }\n\n    .dataframe thead th {\n        text-align: right;\n    }\n</style>\n<table border=\"1\" class=\"dataframe\">\n  <thead>\n    <tr style=\"text-align: right;\">\n      <th></th>\n      <th>Date</th>\n      <th>Kanton_Kurzname</th>\n      <th>CO2_Wirkung_Tonnen_CH</th>\n      <th>Massnahmenbereich_lang</th>\n      <th>Massnahmenbereich</th>\n    </tr>\n  </thead>\n  <tbody>\n    <tr>\n      <th>0</th>\n      <td>2010</td>\n      <td>CH</td>\n      <td>30259</td>\n      <td>https://energy.ld.admin.ch/sfoe/bfe_ogd18_geba...</td>\n      <td>Haustechnik</td>\n    </tr>\n    <tr>\n      <th>1</th>\n      <td>2010</td>\n      <td>CH</td>\n      <td>1112</td>\n      <td>https://energy.ld.admin.ch/sfoe/bfe_ogd18_geba...</td>\n      <td>Neubau</td>\n    </tr>\n    <tr>\n      <th>2</th>\n      <td>2010</td>\n      <td>CH</td>\n      <td>369</td>\n      <td>https://energy.ld.admin.ch/sfoe/bfe_ogd18_geba...</td>\n      <td>Systemsanierung</td>\n    </tr>\n    <tr>\n      <th>3</th>\n      <td>2010</td>\n      <td>CH</td>\n      <td>46879</td>\n      <td>https://energy.ld.admin.ch/sfoe/bfe_ogd18_geba...</td>\n      <td>Total CO2-Wirkung Gebäudeprogramm</td>\n    </tr>\n    <tr>\n      <th>4</th>\n      <td>2010</td>\n      <td>CH</td>\n      <td>1748</td>\n      <td>https://energy.ld.admin.ch/sfoe/bfe_ogd18_geba...</td>\n      <td>Wärmedämmung</td>\n    </tr>\n    <tr>\n      <th>...</th>\n      <td>...</td>\n      <td>...</td>\n      <td>...</td>\n      <td>...</td>\n      <td>...</td>\n    </tr>\n    <tr>\n      <th>378</th>\n      <td>2020</td>\n      <td>CH</td>\n      <td>146169</td>\n      <td>https://energy.ld.admin.ch/sfoe/bfe_ogd18_geba...</td>\n      <td>Zentrale_Waermeversorgung</td>\n    </tr>\n    <tr>\n      <th>379</th>\n      <td>2021</td>\n      <td>CH</td>\n      <td>154805</td>\n      <td>https://energy.ld.admin.ch/sfoe/bfe_ogd18_geba...</td>\n      <td>Waermedaemmung</td>\n    </tr>\n    <tr>\n      <th>380</th>\n      <td>2021</td>\n      <td>CH</td>\n      <td>156177</td>\n      <td>https://energy.ld.admin.ch/sfoe/bfe_ogd18_geba...</td>\n      <td>Zentrale_Waermeversorgung</td>\n    </tr>\n    <tr>\n      <th>381</th>\n      <td>2022</td>\n      <td>CH</td>\n      <td>162564</td>\n      <td>https://energy.ld.admin.ch/sfoe/bfe_ogd18_geba...</td>\n      <td>Waermedaemmung</td>\n    </tr>\n    <tr>\n      <th>382</th>\n      <td>2022</td>\n      <td>CH</td>\n      <td>178709</td>\n      <td>https://energy.ld.admin.ch/sfoe/bfe_ogd18_geba...</td>\n      <td>Zentrale_Waermeversorgung</td>\n    </tr>\n  </tbody>\n</table>\n<p>383 rows × 5 columns</p>\n</div>"
     },
     "execution_count": 227,
     "metadata": {},
     "output_type": "execute_result"
    }
   ],
   "source": [
    "\n",
    "df_g7['Massnahmenbereich'] = df_g7['Massnahmenbereich_lang'].apply(extract_last_part)\n",
    "df_g7"
   ],
   "metadata": {
    "collapsed": false
   }
  },
  {
   "cell_type": "code",
   "execution_count": 228,
   "outputs": [
    {
     "data": {
      "text/plain": "     Date Kanton_Kurzname CO2_Wirkung_Tonnen_CH  \\\n0    2010              CH                 30259   \n1    2010              CH                  1112   \n2    2010              CH                   369   \n3    2010              CH                 46879   \n4    2010              CH                  1748   \n..    ...             ...                   ...   \n378  2020              CH                146169   \n379  2021              CH                154805   \n380  2021              CH                156177   \n381  2022              CH                162564   \n382  2022              CH                178709   \n\n                                Massnahmenbereich_lang  \\\n0    https://energy.ld.admin.ch/sfoe/bfe_ogd18_geba...   \n1    https://energy.ld.admin.ch/sfoe/bfe_ogd18_geba...   \n2    https://energy.ld.admin.ch/sfoe/bfe_ogd18_geba...   \n3    https://energy.ld.admin.ch/sfoe/bfe_ogd18_geba...   \n4    https://energy.ld.admin.ch/sfoe/bfe_ogd18_geba...   \n..                                                 ...   \n378  https://energy.ld.admin.ch/sfoe/bfe_ogd18_geba...   \n379  https://energy.ld.admin.ch/sfoe/bfe_ogd18_geba...   \n380  https://energy.ld.admin.ch/sfoe/bfe_ogd18_geba...   \n381  https://energy.ld.admin.ch/sfoe/bfe_ogd18_geba...   \n382  https://energy.ld.admin.ch/sfoe/bfe_ogd18_geba...   \n\n                     Massnahmenbereich  \n0                          Haustechnik  \n1                               Neubau  \n2                      Systemsanierung  \n3    Total CO2-Wirkung Gebäudeprogramm  \n4                         Wärmedämmung  \n..                                 ...  \n378          Zentrale_Waermeversorgung  \n379                     Waermedaemmung  \n380          Zentrale_Waermeversorgung  \n381                     Waermedaemmung  \n382          Zentrale_Waermeversorgung  \n\n[383 rows x 5 columns]",
      "text/html": "<div>\n<style scoped>\n    .dataframe tbody tr th:only-of-type {\n        vertical-align: middle;\n    }\n\n    .dataframe tbody tr th {\n        vertical-align: top;\n    }\n\n    .dataframe thead th {\n        text-align: right;\n    }\n</style>\n<table border=\"1\" class=\"dataframe\">\n  <thead>\n    <tr style=\"text-align: right;\">\n      <th></th>\n      <th>Date</th>\n      <th>Kanton_Kurzname</th>\n      <th>CO2_Wirkung_Tonnen_CH</th>\n      <th>Massnahmenbereich_lang</th>\n      <th>Massnahmenbereich</th>\n    </tr>\n  </thead>\n  <tbody>\n    <tr>\n      <th>0</th>\n      <td>2010</td>\n      <td>CH</td>\n      <td>30259</td>\n      <td>https://energy.ld.admin.ch/sfoe/bfe_ogd18_geba...</td>\n      <td>Haustechnik</td>\n    </tr>\n    <tr>\n      <th>1</th>\n      <td>2010</td>\n      <td>CH</td>\n      <td>1112</td>\n      <td>https://energy.ld.admin.ch/sfoe/bfe_ogd18_geba...</td>\n      <td>Neubau</td>\n    </tr>\n    <tr>\n      <th>2</th>\n      <td>2010</td>\n      <td>CH</td>\n      <td>369</td>\n      <td>https://energy.ld.admin.ch/sfoe/bfe_ogd18_geba...</td>\n      <td>Systemsanierung</td>\n    </tr>\n    <tr>\n      <th>3</th>\n      <td>2010</td>\n      <td>CH</td>\n      <td>46879</td>\n      <td>https://energy.ld.admin.ch/sfoe/bfe_ogd18_geba...</td>\n      <td>Total CO2-Wirkung Gebäudeprogramm</td>\n    </tr>\n    <tr>\n      <th>4</th>\n      <td>2010</td>\n      <td>CH</td>\n      <td>1748</td>\n      <td>https://energy.ld.admin.ch/sfoe/bfe_ogd18_geba...</td>\n      <td>Wärmedämmung</td>\n    </tr>\n    <tr>\n      <th>...</th>\n      <td>...</td>\n      <td>...</td>\n      <td>...</td>\n      <td>...</td>\n      <td>...</td>\n    </tr>\n    <tr>\n      <th>378</th>\n      <td>2020</td>\n      <td>CH</td>\n      <td>146169</td>\n      <td>https://energy.ld.admin.ch/sfoe/bfe_ogd18_geba...</td>\n      <td>Zentrale_Waermeversorgung</td>\n    </tr>\n    <tr>\n      <th>379</th>\n      <td>2021</td>\n      <td>CH</td>\n      <td>154805</td>\n      <td>https://energy.ld.admin.ch/sfoe/bfe_ogd18_geba...</td>\n      <td>Waermedaemmung</td>\n    </tr>\n    <tr>\n      <th>380</th>\n      <td>2021</td>\n      <td>CH</td>\n      <td>156177</td>\n      <td>https://energy.ld.admin.ch/sfoe/bfe_ogd18_geba...</td>\n      <td>Zentrale_Waermeversorgung</td>\n    </tr>\n    <tr>\n      <th>381</th>\n      <td>2022</td>\n      <td>CH</td>\n      <td>162564</td>\n      <td>https://energy.ld.admin.ch/sfoe/bfe_ogd18_geba...</td>\n      <td>Waermedaemmung</td>\n    </tr>\n    <tr>\n      <th>382</th>\n      <td>2022</td>\n      <td>CH</td>\n      <td>178709</td>\n      <td>https://energy.ld.admin.ch/sfoe/bfe_ogd18_geba...</td>\n      <td>Zentrale_Waermeversorgung</td>\n    </tr>\n  </tbody>\n</table>\n<p>383 rows × 5 columns</p>\n</div>"
     },
     "execution_count": 228,
     "metadata": {},
     "output_type": "execute_result"
    }
   ],
   "source": [
    "df_g7_no_duplicates = df_g7.drop_duplicates()\n",
    "df_g7_no_duplicates"
   ],
   "metadata": {
    "collapsed": false
   }
  },
  {
   "cell_type": "code",
   "execution_count": 229,
   "outputs": [],
   "source": [
    "df_g7_no_duplicates.to_csv('gebaudeprogramm_CO2Wirkung.csv', index=False)"
   ],
   "metadata": {
    "collapsed": false
   }
  },
  {
   "cell_type": "code",
   "execution_count": 237,
   "outputs": [
    {
     "name": "stdout",
     "output_type": "stream",
     "text": [
      "[1724, 3928, 1275, 8856, 5054, 8514, 1358, 3933, 5079, 3005, 3011, 3014, 3012, 3003, 3010, 3007, 3015, 3018, 3019, 3001, 3008, 3006, 3000, 3004, 3013, 2206, 2207, 2065, 2046, 2053, 2052, 2037, 2054, 2057, 2058, 2208, 2043, 2056, 2063, 1752, 5304, 1653, 2414, 3421, 8854, 6781, 6780, 6614, 5315, 8880, 5245, 8751, 6464, 5642, 2514, 8627, 4402, 8213, 6822, 4522, 4419, 6516, 6597, 6635, 5413, 4562, 8274, 6264, 8266, 1176, 4118, 1737, 8907, 5013, 1439, 1261, 4310, 1699, 1470, 8933, 3280, 1656, 2882, 1474, 1468, 1891, 5733, 6204, 5746, 3315, 1350, 4433, 6418, 7742, 7746, 7745, 7741, 7710, 8902, 7306, 6340, 9633, 1032, 3053, 9200, 3704, 5643, 1272, 3636, 1874, 5503, 3989, 3985, 3998, 4492, 8197, 1971, 1299, 8165, 1110, 5036, 5243, 1973, 1961, 1966, 1981, 6463, 5732, 5415, 8864, 9535, 9105, 3822, 1126, 2829, 2824, 2828, 4656, 4242, 5417, 1682, 5467, 9436, 5024, 1453, 1714, 6377, 8592, 9464, 1515, 1741, 1294, 5072, 3054, 4802, 6928, 3112, 5723, 4332, 1278, 1322, 1356, 8194, 1921, 8466, 5608, 1852, 6952, 6716, 2074, 8235, 2943, 9323, 6300, 6302, 6301, 6303, 6604, 6600, 6605, 6601, 4814, 1538, 3916, 8422, 3286, 1905, 9470, 6074, 4712, 6992, 9427, 1355, 1253, 6854, 3917, 1907, 6662, 6900, 6942, 1226, 6145, 9050, 1415, 8607, 5725, 3234, 3428, 8805, 6540, 6487, 6038, 1913, 3665, 2944, 4457, 4102, 8912, 7411, 6948, 1552, 3255, 3251, 3256, 1344, 8152, 1438, 4524, 8840, 2854, 2853, 2855, 2863, 2864, 9413, 1274, 1023, 3782, 4912, 6207, 1347, 1341, 1348, 6916, 8953, 2908, 6981, 8232, 8857, 3268, 3266, 3267, 3035, 3294, 3309, 3804, 1422, 1926, 1421, 1744, 3923, 5014, 5053, 5614, 4451, 1029, 5046, 5312, 8730, 1674, 9548, 4515, 4133, 1718, 3236, 1661, 3956, 1163, 3380, 8890, 3993, 1933, 3185, 8219, 7307, 8212, 1870, 6647, 9035, 3961, 3157, 3148, 3183, 3150, 3152, 8104, 4418, 3864, 6206, 6016, 6203, 7240, 5504, 4558, 1686, 6834, 1124, 6541, 3900, 5057, 3671, 5000, 3416, 3970, 1008, 2922, 3911, 8427, 8428, 8926, 1045, 9545, 5712, 2802, 6274, 1251, 6166, 4125, 6654, 5303, 1644, 1643, 1645, 1182, 2572, 3924, 1327, 9030, 4600, 9300, 7500, 6208, 5423, 1584, 1587, 1585, 1586, 1589, 1787, 1510, 7450, 6534, 5015, 5016, 3067, 3068, 6275, 2518, 6330, 8583, 8572, 6210, 4629, 6344, 4416, 8162, 4146, 4315, 3206, 9108, 1543, 1772, 8832, 1945, 3176, 3655, 1066, 6562, 8618, 7233, 9466, 9305, 8193, 6434, 8548, 8564, 8645, 8646, 8640, 8715, 1345, 9216, 2875, 9472, 1670, 1675, 2340, 9327, 5524, 1872, 4222, 6232, 6370, 6903, 6967, 6974, 6901, 6902, 6904, 6905, 6906, 6907, 6908, 6909, 6910, 6911, 6912, 6913, 6914, 6915, 6917, 6932, 6951, 6959, 6962, 6963, 6964, 6965, 6966, 6968, 6975, 6976, 6977, 6978, 6979, 7493, 5702, 7294, 7277, 7260, 7265, 7270, 7272, 7276, 7278, 4323, 1020, 1902, 7188, 1464, 6462, 2544, 8472, 3533, 4148, 1463, 3115, 6042, 7203, 4900, 1025, 2747, 5727, 1309, 4952, 2513, 2512, 3672, 1298, 1805, 4464, 1303, 4624, 3852, 4460, 1796, 1678, 1232, 1445, 1533, 3618, 5425, 1730, 1725, 6375, 2732, 8280, 7304, 4571, 1929, 5637, 9524, 1648, 8225, 9100, 4573, 5223, 1854, 7747, 7748, 7744, 7743, 3126, 8158, 4415, 6154, 6156, 6745, 1423, 3858, 2745, 4467, 8525, 8547, 3274, 2575, 8185, 4566, 8508, 3800, 8459, 4632, 3946, 3948, 8620, 7427, 4132, 6383, 3366, 4432, 5512, 8233, 6017, 1987, 3086, 8444, 5615, 1256, 8103, 1684, 1264, 2736, 5644, 3920, 4203, 1054, 7402, 3122, 8353, 8354, 3032, 3049, 3034, 3043, 3044, 3033, 6983, 1094, 4718, 5454, 1669, 6719, 6720, 6718, 6717, 8532, 1134, 9444, 8600, 1844, 3860, 9630, 1188, 3715, 7153, 7444, 4634, 1132, 3375, 1649, 3415, 5023, 4453, 1489, 1475, 1486, 1541, 1542, 1436, 9057, 8903, 4145, 9044, 6644, 1284, 2554, 3700, 1292, 8707, 8488, 1509, 8905, 4913, 9450, 1197, 2542, 1695, 1728, 1726, 1696, 1727, 1024, 6246, 3907, 8580, 5646, 4704, 6113, 1530, 2608, 8489, 8484, 4556, 3707, 8135, 1428, 3931, 6461, 5236, 8506, 8535, 6460, 5058, 1687, 2827, 1912, 6592, 3434, 5276, 5273, 5274, 5275, 5277, 4917, 1431, 3210, 3412, 5064, 6946, 4528, 1357, 3087, 6774, 6436, 5040, 8044, 8057, 8004, 8005, 8006, 8049, 8055, 8000, 8041, 8003, 8052, 8053, 8064, 8032, 8037, 8046, 8051, 8038, 8045, 8050, 8008, 8063, 8001, 8002, 2068, 6037, 5235, 4535, 8455, 8335, 8803, 7428, 6684, 1450, 1430, 3423, 9204, 6133, 4574, 6810, 8858, 3066, 9214, 3302, 8887, 1168, 3510, 7050, 8733, 4234, 5522, 3919, 8582, 2543, 8704, 2406, 6197, 7144, 1582, 8573, 8155, 8156, 3662, 8955, 4436, 5436, 8109, 4422, 2874, 4247, 1565, 6424, 3322, 6491, 9656, 9658, 9657, 8966, 2545, 8479, 8910, 3602, 3609, 3607, 3608, 3603, 3604, 3600, 3303, 3212, 4143, 1095, 1009, 1170, 1174, 8702, 1424, 4108, 1723, 1689, 5505, 1308, 4435, 1442, 6773, 7556, 7559, 3703, 4334, 9527, 6682, 6612, 3638, 1802, 3273, 9642, 9056, 3718, 1115, 1267, 2905, 1228, 4513, 6982, 8112, 4652, 1375, 1326, 2350, 9053, 9426, 9533, 7447, 6596, 6276, 1414, 7312, 1416, 3856, 1245, 4468, 3653, 7514, 7320, 3855, 5432, 6244, 8315, 3076, 3077, 3078, 3075, 2520, 8471, 2814, 1071, 7414, 1890, 4333, 2405, 1406, 8752, 8868, 8874, 8865, 8866, 8753, 8867, 8758, 8757, 3202, 1666, 1667, 1665, 1180, 1898, 4417, 6815, 1053, 5704, 5625, 8462, 8512, 6922, 1263, 4717, 6673, 1914, 2016, 3626, 3652, 8494, 9445, 1242, 6386, 1554, 1555, 3932, 8355, 1040, 1853, 6417, 7152, 3934, 8500, 6827, 8370, 4412, 1595, 8570, 1276, 3979, 1287, 4448, 3634, 9604, 9514, 8608, 4465, 6472, 4226, 6218, 6217, 8842, 9000, 1800, 2923, 3939, 8849, 1823, 1820, 1818, 1832, 1815, 1822, 1816, 1817, 1833, 1824, 7440, 8265, 9403, 7175, 8269, 8268, 8117, 1417, 1073, 3504, 1432, 1400, 3508, 4919, 5313, 4554, 1063, 1434, 3792, 7504, 2735, 1186, 1258, 6028, 6027, 6085, 6216, 6212, 8526, 8596, 8597, 5622, 8226, 8330, 8708, 4208, 3901, 4442, 2825, 1286, 1377, 1441, 8467, 8560, 1031, 1873, 6653, 6652, 6557, 3270, 6354, 5525, 9033, 6924, 7031, 8843, 7505, 6645, 6052, 6533, 9428, 6153, 3531, 3910, 8416, 2577, 7214, 2720, 8802, 3763, 1867, 1885, 1884, 1323, 9322, 4922, 1169, 8913, 6247, 5623, 5745, 4628, 2805, 2535, 2537, 2536, 6353, 8852, 4512, 2316, 1404, 5630, 5600, 6467, 6214, 1122, 2000, 3537, 6416, 5106, 6743, 4126, 3532, 6106, 1041, 1043, 3906, 3908, 9113, 3943, 7075, 4228, 8187, 6072, 6490, 8916, 3912, 4552, 4253, 3047, 3283, 1869, 4539, 8142, 4445, 1055, 5627, 5706, 6442, 6064, 7323, 1922, 7403, 6598, 1896, 3363, 3360, 6440, 3264, 4942, 1295, 3616, 6991, 7550, 6288, 8574, 1963, 3114, 8599, 5442, 1525, 4462, 1978, 3207, 3947, 6162, 9424, 5728, 4229, 5621, 5043, 1865, 3307, 3254, 4588, 2900, 3772, 9502, 8362, 2800, 3938, 1782, 8556, 1037, 9127, 9122, 9123, 9125, 9115, 9126, 2336, 7537, 3373, 4585, 8855, 1568, 1567, 9107, 1614, 6883, 6248, 4500, 6921, 8228, 1085, 9243, 7235, 1271, 8750, 3232, 4105, 5620, 6714, 6721, 6713, 8320, 4525, 6648, 4937, 3368, 3922, 1288, 4246, 1528, 8919, 3072, 4413, 1804, 8172, 1673, 8115, 5616, 1241, 8309, 6430, 2615, 3096, 1774, 1775, 1776, 8602, 1062, 1059, 1058, 1061, 3754, 1513, 6802, 1077, 1580, 8253, 7166, 8260, 8126, 2534, 9442, 4316, 3627, 1716, 1736, 3400, 2952, 3984, 2762, 4655, 3263, 4625, 3935, 1237, 5326, 7204, 6014, 6000, 1521, 6576, 6579, 6594, 6577, 6571, 6574, 6573, 6578, 6575, 1283, 4124, 4653, 1304, 4806, 9400, 5272, 9042, 3770, 3376, 6403, 9411, 2556, 8442, 1609, 4245, 1950, 4441, 6373, 3955, 2852, 8196, 9532, 4614, 5604, 8703, 4431, 5742, 3945, 1042, 9643, 9651, 9650, 9655, 9652, 8942, 4206, 6874, 3038, 8478, 6949, 1418, 1254, 5445, 4455, 9500, 1244, 9425, 3272, 3617, 3456, 6484, 4553, 5042, 8166, 3475, 3365, 6312, 1184, 3326, 3325, 8153, 1313, 4934, 3374, 8222, 8762, 8784, 8766, 8772, 8777, 8773, 8774, 8767, 8782, 8783, 8765, 8775, 8756, 2105, 2123, 2103, 2113, 2108, 2114, 2112, 2127, 2115, 3153, 3154, 1993, 1523, 1534, 1524, 1535, 1536, 2887, 3645, 5082, 4107, 2557, 6542, 9475, 9312, 9453, 3174, 3144, 3095, 3173, 3097, 3172, 3098, 3084, 3145, 3147, 1753, 5044, 4543, 8492, 4202, 8105, 3942, 4000, 8593, 3297, 9410, 4564, 1454, 1633, 1895, 1290, 4493, 1625, 6760, 3926, 6986, 3429, 8272, 7132, 7014, 4710, 8248, 1185, 3987, 1925, 8588, 4447, 3113, 6345, 5033, 7015, 3432, 4538, 5412, 9473, 8862, 2723, 8545, 2504, 2500, 2502, 2503, 2505, 1243, 6110, 3807, 5452, 4469, 4537, 6930, 5080, 6816, 9607, 7530, 9404, 2710, 1413, 1167, 8555, 1088, 3806, 1634, 2733, 2400, 2300, 9443, 7412, 2515, 2517, 2516, 6147, 6043, 6078, 8263, 5012, 8496, 6945, 5430, 9478, 3422, 2714, 2740, 8523, 1131, 1252, 5324, 2813, 4658, 4225, 9220, 8594, 7610, 7605, 7603, 7516, 7606, 7608, 3367, 4800, 1412, 3930, 6984, 3512, 1135, 5103, 1908, 2552, 4114, 4112, 7456, 7460, 7463, 7453, 7452, 7455, 7454, 7464, 7457, 7462, 3925, 5316, 2576, 1317, 5073, 9506, 2318, 3918, 3438, 4223, 1544, 8712, 6060, 6170, 1920, 2906, 4911, 1748, 1749, 4313, 1373, 2744, 9621, 3954, 5074, 8918, 3953, 5318, 5102, 8524, 4613, 1273, 4955, 6376, 1647, 1745, 1756, 1646, 4322, 4207, 1070, 8952, 1642, 3534, 4142, 3186, 1845, 5420, 2088, 3971, 3975, 3963, 3974, 8505, 2607, 8259, 6045, 5610, 8954, 1425, 3203, 4458, 1701, 1700, 1708, 1707, 3785, 9063, 1789, 1786, 1788, 8700, 7241, 6146, 5724, 4657, 8595, 6500, 8575, 4584, 2345, 2605, 5210, 6622, 5070, 8833, 4532, 1762, 8483, 8487, 8486, 1408, 1407, 1281, 3454, 2538, 5306, 5465, 5624, 3233, 1860, 5325, 5607, 1270, 1566, 9043, 8352, 3997, 3905, 6284, 6285, 6289, 6295, 8264, 1868, 8181, 9205, 2742, 6936, 6252, 3816, 7430, 7063, 7064, 7525, 3225, 3813, 8454, 3994, 1974, 2902, 8634, 3633, 1117, 3635, 1262, 1632, 7212, 3323, 6833, 8124, 6343, 6048, 1734, 5213, 8114, 4713, 1266, 1297, 3632, 3631, 3414, 3555, 1628, 6835, 6265, 5026, 4446, 6710, 1433, 3904, 5737, 8460, 8157, 5408, 2807, 3257, 3262, 9240, 9247, 9249, 9244, 8603, 9565, 5322, 8964, 3862, 8606, 4127, 7012, 8376, 5018, 6814, 3226, 1146, 1312, 4623, 6473, 3088, 7205, 4466, 5233, 5234, 6033, 9034, 3184, 3208, 3538, 2877, 1694, 3556, 4304, 8445, 6777, 4103, 3132, 4423, 9325, 1148, 7502, 8215, 8718, 1227, 1763, 3853, 6103, 8451, 3472, 7563, 1083, 1084, 3417, 7425, 6233, 2842, 1217, 5443, 4932, 6943, 8474, 2616, 8261, 6926, 3815, 7122, 7106, 7107, 7104, 9320, 4654, 5708, 7524, 3988, 3999, 5113, 6987, 6314, 3628, 8908, 5062, 4411, 8134, 6537, 8425, 5444, 5603, 3324, 2610, 4450, 8835, 6231, 1195, 5426, 3427, 7232, 4938, 6390, 1623, 3507, 4626, 3612, 6032, 7503, 1965, 2560, 4461, 8332, 1482, 1658, 1946, 5619, 2019, 2149, 4954, 1473, 8590, 1175, 8558, 8911, 6493, 6830, 2718, 1483, 7310, 1187, 1785, 3074, 3982, 8108, 3812, 6415, 6807, 6808, 5212, 3619, 5703, 9055, 4542, 7184, 3425, 3473, 8598, 6454, 2314, 2830, 6593, 3237, 6465, 4622, 1882, 3063, 3940, 2562, 8154, 3295, 8406, 8409, 8405, 8482, 8400, 8404, 8403, 8408, 8401, 3762, 8173, 3238, 4495, 2012, 2013, 2014, 4714, 5453, 1659, 6695, 2806, 4557, 8344, 8917, 2873, 6030, 3803, 2117, 4144, 2525, 6144, 6744, 6404, 9064, 1663, 3957, 1285, 5605, 1797, 6011, 6012, 6010, 3625, 3362, 6563, 4496, 1526, 1683, 1522, 6443, 5705, 2072, 2926, 3065, 5628, 3158, 9553, 1429, 8906, 6280, 6283, 4116, 1405, 3814, 9104, 2716, 2715, 8340, 4534, 1239, 1996, 1994, 1997, 2338, 3629, 8305, 4565, 3213, 1081, 2743, 1485, 2950, 8810, 8586, 6468, 5634, 5507, 1958, 1562, 8360, 4325, 3766, 3661, 3983, 9245, 4232, 2612, 7013, 3110, 2822, 9507, 3996, 5037, 1189, 2812, 1420, 4497, 3706, 7242, 1717, 2087, 8585, 8604, 9434, 9242, 9248, 4950, 6055, 4106, 3775, 6023, 4443, 8800, 8136, 9230, 3252, 8174, 5242, 3615, 6944, 1162, 5107, 5108, 8612, 8613, 8610, 8706, 4813, 8252, 1897, 6318, 4312, 1214, 6675, 5300, 7128, 7141, 7126, 7154, 7156, 7155, 7111, 7112, 7127, 7157, 7130, 1681, 6242, 4944, 8636, 7017, 3182, 5722, 6024, 5736, 5063, 3305, 8426, 2523, 6331, 2553, 9213, 1127, 8234, 7208, 4244, 8717, 8308, 8307, 1937, 6558, 6221, 8536, 9313, 5647, 7434, 1296, 1337, 1318, 8182, 4104, 1462, 8553, 1977, 1218, 4514, 3253, 4424, 8807, 7513, 1712, 8192, 5200, 6102, 6374, 2564, 4117, 4665, 7250, 3314, 3306, 3313, 3312, 3317, 3308, 8722, 2916, 6130, 3177, 2532, 2533, 4444, 1654, 1637, 4943, 2606, 8132, 9246, 2603, 2604, 3854, 4437, 6616, 1904, 6294, 2333, 1098, 1091, 1096, 1097, 3214, 7408, 4414, 8962, 8303, 1410, 1064, 1409, 1072, 8143, 1306, 3426, 4703, 8418, 9402, 4243, 4452, 1740, 3663, 1260, 8224, 4853, 4463, 2126, 2565, 2946, 1735, 1692, 4618, 6850, 8302, 4302, 1248, 3765, 9620, 3960, 1213, 9542, 8311, 3116, 2613, 3298, 6313, 1028, 8552, 5632, 4303, 3293, 1437, 6672, 6670, 1814, 8413, 8956, 1246, 5618, 6243, 6026, 4563, 3296, 6683, 2738, 3752, 5612, 1617, 6122, 6123, 6125, 4426, 4153, 3284, 8965, 1721, 4803, 8102, 8240, 3664, 4617, 3614, 6036, 7180, 3377, 6205, 1627, 2073, 7083, 9038, 4494, 5462, 4533, 3550, 5244, 8447, 5105, 7165, 8716, 3647, 9437, 8424, 1166, 5734, 8853, 8415, 6742, 5726, 3909, 3673, 3125, 8635, 9103, 5035, 6482, 6826, 4314, 7432, 4305, 8458, 7082, 8180, 6173, 1613, 9430, 8184, 1638, 6422, 4456, 1305, 1611, 1624, 5034, 8617, 3506, 3995, 6192, 6196, 6182, 8915, 3623, 3465, 8630, 1315, 1196, 7426, 4425, 8475, 4204, 9326, 1328, 3622, 3052, 6260, 7522, 1026, 3713, 5237, 8542, 8543, 1892, 8214, 1212, 3179, 1610, 1607, 1608, 1612, 6315, 1112, 2935, 4252, 6022, 5606, 7405, 7523, 3235, 4324, 8737, 1307, 7220, 4805, 8625, 8626, 8614, 8624, 2856, 3292, 3250, 8463, 8872, 6929, 8421, 4633, 7302, 6452, 7404, 7407, 7415, 7417, 7416, 7418, 7419, 4147, 6372, 6939, 1000, 1001, 1002, 1003, 1004, 1005, 1006, 1007, 1010, 1011, 1012, 1014, 1015, 1017, 1018, 4612, 1147, 2325, 8875, 2540, 1376, 1324, 9555, 8217, 8216, 1733, 3716, 4227, 6362, 8262, 4923, 8239, 6950, 9556, 4410, 4317, 3944, 1291, 6044, 6685, 1052, 3714, 2746, 8195, 1964, 3818, 8577, 4434, 1720, 1173, 2932, 8304, 5400, 8934, 1044, 3216, 4616, 4663, 4123, 4224, 6535, 8957, 8414, 4933, 7151, 6933, 6595, 6877, 1302, 2717, 4536, 1866, 1862, 1863, 1325, 8932, 4914, 4233, 5506, 3437, 4715, 5112, 1983, 6034, 4438, 1680, 1532, 6994, 3046, 3045, 3042, 9463, 1268, 8967, 1588, 1847, 6548, 4702, 6805, 5707, 6999, 2563, 7000, 1036, 6234, 5502, 6828, 3929, 6213, 6934, 1201, 1202, 1209, 1203, 1205, 1206, 1208, 1204, 1207, 3271, 1969, 8200, 8201, 8203, 8208, 8231, 4852, 8236, 8883, 5333, 5463, 5330, 3285, 3215, 1806, 5466, 6513, 7026, 1807, 1078, 5464, 5332, 5323, 5334, 5116, 5075, 6583, 6631, 6661, 7137]\n"
     ]
    }
   ],
   "source": [
    "\n",
    "import pandas as pd\n",
    "\n",
    "# Lade die CSV-Datei in ein DataFrame\n",
    "df = pd.read_csv('grundlagen_gemeinde_kantone.csv')  # Ersetze 'deine_datei.csv' durch den tatsächlichen Dateinamen\n",
    "\n",
    "# Extrahiere die einzigartigen PLZ-Werte und entferne NaN-Werte\n",
    "plz_series = df['PLZ'].dropna().astype(int).unique()\n",
    "\n",
    "# Konvertiere die Pandas Series in eine Python-Liste\n",
    "plz_list = plz_series.tolist()\n",
    "\n",
    "# Ergebnisse anzeigen\n",
    "print(plz_list)\n"
   ],
   "metadata": {
    "collapsed": false
   }
  },
  {
   "cell_type": "code",
   "execution_count": null,
   "outputs": [],
   "source": [],
   "metadata": {
    "collapsed": false
   }
  }
 ],
 "metadata": {
  "kernelspec": {
   "display_name": "Python 3",
   "language": "python",
   "name": "python3"
  },
  "language_info": {
   "codemirror_mode": {
    "name": "ipython",
    "version": 2
   },
   "file_extension": ".py",
   "mimetype": "text/x-python",
   "name": "python",
   "nbconvert_exporter": "python",
   "pygments_lexer": "ipython2",
   "version": "2.7.6"
  }
 },
 "nbformat": 4,
 "nbformat_minor": 0
}
