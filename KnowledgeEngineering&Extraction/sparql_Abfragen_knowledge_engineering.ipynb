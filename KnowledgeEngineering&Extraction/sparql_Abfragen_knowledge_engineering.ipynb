{
 "cells": [
  {
   "cell_type": "code",
   "execution_count": 1,
   "outputs": [],
   "source": [
    "from rdflib import Graph\n",
    "import pandas as pd\n",
    "import ssl\n",
    "\n",
    "#ctx = ssl.create_default_context()\n",
    "#ctx.check_hostname = False\n",
    "#ctx.verify_mode = ssl.CERT_NONE\n",
    "\n",
    "ssl._create_default_https_context = ssl._create_unverified_context\n",
    "\n",
    "import urllib.parse\n",
    "def extract_last_part(url):\n",
    "    last_part = url.split(\"/\")[-1]\n",
    "    return urllib.parse.unquote(last_part) # sonderzeichen anzeigen lassen"
   ],
   "metadata": {
    "collapsed": false
   }
  },
  {
   "cell_type": "markdown",
   "source": [
    "# Grundlageninformationen zu Gemeinden und Kantonen\n",
    "Datenquelle: das Geoportal des Bundes (https://geo.ld.admin.ch/) und wikidata (https://query.wikidata.org/)\n",
    "\n",
    "### Abfrage: Gemeinde, Gemeindeeinwohnerzahl, Kanton, Kantonseinwohnerzahl"
   ],
   "metadata": {
    "collapsed": false
   }
  },
  {
   "cell_type": "code",
   "execution_count": 171,
   "outputs": [],
   "source": [
    "GemeindeKantone_QUERY = '''\n",
    "PREFIX dv: <http://rdf.data-vocabulary.org/#>\n",
    "PREFIX schema: <http://schema.org/>\n",
    "PREFIX gn: <http://www.geonames.org/ontology#>\n",
    "PREFIX xsd: <http://www.w3.org/2001/XMLSchema#>\n",
    "PREFIX rdfs: <http://www.w3.org/2000/01/rdf-schema#>\n",
    "PREFIX dc: <http://purl.org/dc/terms/>\n",
    "PREFIX wdt: <http://www.wikidata.org/prop/direct/>\n",
    "PREFIX wd: <http://www.wikidata.org/entity/>\n",
    "\n",
    "SELECT  ?Date ?Gemeinde_Entity ?Gemeinde_Name ?Gemeinde_Population ?Kanton_Name ?Kanton_Population\n",
    "WHERE {\n",
    "        SERVICE <https://geo.ld.admin.ch/query>\n",
    "            {   ?Gemeinde gn:featureCode gn:A.ADM3 .\n",
    "                ?Gemeinde schema:name ?Gemeinde_Name .\n",
    "                ?Gemeinde gn:population ?Gemeinde_Population .\n",
    "                ?Gemeinde dc:issued ?Date .\n",
    "  \t\t\t\t?Gemeinde dc:isVersionOf ?Gemeinde_Version .\n",
    "  \t\t\t\t?Gemeinde_Version rdfs:seeAlso ?Gemeinde_Entity .\n",
    "\n",
    "                ?Gemeinde gn:parentADM1 ?Canton .\n",
    "                ?Canton schema:name ?Kanton_Name .\n",
    "                ?Canton gn:population ?Kanton_Population .\n",
    "\n",
    "                FILTER (?Date > \"2009-01-01\"^^xsd:date)\n",
    "                }\n",
    "        }\n",
    "        '''\n",
    "\n",
    "# Graph erstellen und SPARQL-Abfrage durchführen\n",
    "g = Graph()\n",
    "results = g.query(GemeindeKantone_QUERY)\n",
    "\n",
    "result_list = []\n",
    "for row in results:\n",
    "    result_list.append(row)\n",
    "\n",
    "# Liste von Tupeln in ein Pandas DataFrame umwandeln\n",
    "df_g = pd.DataFrame(result_list, columns=['Date', 'Gemeinde_Entity', 'Gemeinde_Name', 'Gemeinde_Population', 'Kanton_Name', 'Kanton_Population'])\n",
    "\n",
    "# DataFrame anzeigen\n",
    "# df_g\n"
   ],
   "metadata": {
    "collapsed": false
   }
  },
  {
   "cell_type": "code",
   "execution_count": 172,
   "outputs": [
    {
     "data": {
      "text/plain": "             Date                        Gemeinde_Entity    Gemeinde_Name  \\\n0      2022-01-01  http://www.wikidata.org/entity/Q64945  Aeugst am Albis   \n1      2022-01-01  http://www.wikidata.org/entity/Q66422        Ferpicloz   \n2      2022-01-01  http://www.wikidata.org/entity/Q67720            Randa   \n3      2022-01-01  http://www.wikidata.org/entity/Q52777         Chéserex   \n4      2022-01-01  http://www.wikidata.org/entity/Q65620           Tuggen   \n...           ...                                    ...              ...   \n25362  2013-01-01  http://www.wikidata.org/entity/Q66757       Flurlingen   \n25363  2013-01-01  http://www.wikidata.org/entity/Q68210         Adliswil   \n25364  2013-01-01  http://www.wikidata.org/entity/Q64380           Gersau   \n25365  2013-01-01  http://www.wikidata.org/entity/Q66892           Hütten   \n25366  2013-01-01  http://www.wikidata.org/entity/Q68950       Einsiedeln   \n\n      Gemeinde_Population Kanton_Name Kanton_Population  \n0                    2014      Zürich           1553423  \n1                     267    Fribourg            325547  \n2                     425      Valais            348503  \n3                    1249        Vaud            814762  \n4                    3317      Schwyz            162157  \n...                   ...         ...               ...  \n25362                1429      Zürich           1392396  \n25363               17518      Zürich           1392396  \n25364                2108      Schwyz            147904  \n25365                 911      Zürich           1392396  \n25366               14438      Schwyz            147904  \n\n[25367 rows x 6 columns]",
      "text/html": "<div>\n<style scoped>\n    .dataframe tbody tr th:only-of-type {\n        vertical-align: middle;\n    }\n\n    .dataframe tbody tr th {\n        vertical-align: top;\n    }\n\n    .dataframe thead th {\n        text-align: right;\n    }\n</style>\n<table border=\"1\" class=\"dataframe\">\n  <thead>\n    <tr style=\"text-align: right;\">\n      <th></th>\n      <th>Date</th>\n      <th>Gemeinde_Entity</th>\n      <th>Gemeinde_Name</th>\n      <th>Gemeinde_Population</th>\n      <th>Kanton_Name</th>\n      <th>Kanton_Population</th>\n    </tr>\n  </thead>\n  <tbody>\n    <tr>\n      <th>0</th>\n      <td>2022-01-01</td>\n      <td>http://www.wikidata.org/entity/Q64945</td>\n      <td>Aeugst am Albis</td>\n      <td>2014</td>\n      <td>Zürich</td>\n      <td>1553423</td>\n    </tr>\n    <tr>\n      <th>1</th>\n      <td>2022-01-01</td>\n      <td>http://www.wikidata.org/entity/Q66422</td>\n      <td>Ferpicloz</td>\n      <td>267</td>\n      <td>Fribourg</td>\n      <td>325547</td>\n    </tr>\n    <tr>\n      <th>2</th>\n      <td>2022-01-01</td>\n      <td>http://www.wikidata.org/entity/Q67720</td>\n      <td>Randa</td>\n      <td>425</td>\n      <td>Valais</td>\n      <td>348503</td>\n    </tr>\n    <tr>\n      <th>3</th>\n      <td>2022-01-01</td>\n      <td>http://www.wikidata.org/entity/Q52777</td>\n      <td>Chéserex</td>\n      <td>1249</td>\n      <td>Vaud</td>\n      <td>814762</td>\n    </tr>\n    <tr>\n      <th>4</th>\n      <td>2022-01-01</td>\n      <td>http://www.wikidata.org/entity/Q65620</td>\n      <td>Tuggen</td>\n      <td>3317</td>\n      <td>Schwyz</td>\n      <td>162157</td>\n    </tr>\n    <tr>\n      <th>...</th>\n      <td>...</td>\n      <td>...</td>\n      <td>...</td>\n      <td>...</td>\n      <td>...</td>\n      <td>...</td>\n    </tr>\n    <tr>\n      <th>25362</th>\n      <td>2013-01-01</td>\n      <td>http://www.wikidata.org/entity/Q66757</td>\n      <td>Flurlingen</td>\n      <td>1429</td>\n      <td>Zürich</td>\n      <td>1392396</td>\n    </tr>\n    <tr>\n      <th>25363</th>\n      <td>2013-01-01</td>\n      <td>http://www.wikidata.org/entity/Q68210</td>\n      <td>Adliswil</td>\n      <td>17518</td>\n      <td>Zürich</td>\n      <td>1392396</td>\n    </tr>\n    <tr>\n      <th>25364</th>\n      <td>2013-01-01</td>\n      <td>http://www.wikidata.org/entity/Q64380</td>\n      <td>Gersau</td>\n      <td>2108</td>\n      <td>Schwyz</td>\n      <td>147904</td>\n    </tr>\n    <tr>\n      <th>25365</th>\n      <td>2013-01-01</td>\n      <td>http://www.wikidata.org/entity/Q66892</td>\n      <td>Hütten</td>\n      <td>911</td>\n      <td>Zürich</td>\n      <td>1392396</td>\n    </tr>\n    <tr>\n      <th>25366</th>\n      <td>2013-01-01</td>\n      <td>http://www.wikidata.org/entity/Q68950</td>\n      <td>Einsiedeln</td>\n      <td>14438</td>\n      <td>Schwyz</td>\n      <td>147904</td>\n    </tr>\n  </tbody>\n</table>\n<p>25367 rows × 6 columns</p>\n</div>"
     },
     "execution_count": 172,
     "metadata": {},
     "output_type": "execute_result"
    }
   ],
   "source": [
    "df_g"
   ],
   "metadata": {
    "collapsed": false
   }
  },
  {
   "cell_type": "code",
   "execution_count": 173,
   "outputs": [],
   "source": [
    "def extract_year(date_str):\n",
    "    return date_str[:4]\n",
    "\n",
    "# Nur das Jahr extrahieren und in eine neue Spalte einfügen\n",
    "df_g['Date'] = df_g['Date'].apply(extract_year)"
   ],
   "metadata": {
    "collapsed": false
   }
  },
  {
   "cell_type": "code",
   "execution_count": 174,
   "outputs": [
    {
     "data": {
      "text/plain": "       Date                        Gemeinde_Entity    Gemeinde_Name  \\\n0      2022  http://www.wikidata.org/entity/Q64945  Aeugst am Albis   \n1      2022  http://www.wikidata.org/entity/Q66422        Ferpicloz   \n2      2022  http://www.wikidata.org/entity/Q67720            Randa   \n3      2022  http://www.wikidata.org/entity/Q52777         Chéserex   \n4      2022  http://www.wikidata.org/entity/Q65620           Tuggen   \n...     ...                                    ...              ...   \n25362  2013  http://www.wikidata.org/entity/Q66757       Flurlingen   \n25363  2013  http://www.wikidata.org/entity/Q68210         Adliswil   \n25364  2013  http://www.wikidata.org/entity/Q64380           Gersau   \n25365  2013  http://www.wikidata.org/entity/Q66892           Hütten   \n25366  2013  http://www.wikidata.org/entity/Q68950       Einsiedeln   \n\n      Gemeinde_Population Kanton_Name Kanton_Population  \n0                    2014      Zürich           1553423  \n1                     267    Fribourg            325547  \n2                     425      Valais            348503  \n3                    1249        Vaud            814762  \n4                    3317      Schwyz            162157  \n...                   ...         ...               ...  \n25362                1429      Zürich           1392396  \n25363               17518      Zürich           1392396  \n25364                2108      Schwyz            147904  \n25365                 911      Zürich           1392396  \n25366               14438      Schwyz            147904  \n\n[25367 rows x 6 columns]",
      "text/html": "<div>\n<style scoped>\n    .dataframe tbody tr th:only-of-type {\n        vertical-align: middle;\n    }\n\n    .dataframe tbody tr th {\n        vertical-align: top;\n    }\n\n    .dataframe thead th {\n        text-align: right;\n    }\n</style>\n<table border=\"1\" class=\"dataframe\">\n  <thead>\n    <tr style=\"text-align: right;\">\n      <th></th>\n      <th>Date</th>\n      <th>Gemeinde_Entity</th>\n      <th>Gemeinde_Name</th>\n      <th>Gemeinde_Population</th>\n      <th>Kanton_Name</th>\n      <th>Kanton_Population</th>\n    </tr>\n  </thead>\n  <tbody>\n    <tr>\n      <th>0</th>\n      <td>2022</td>\n      <td>http://www.wikidata.org/entity/Q64945</td>\n      <td>Aeugst am Albis</td>\n      <td>2014</td>\n      <td>Zürich</td>\n      <td>1553423</td>\n    </tr>\n    <tr>\n      <th>1</th>\n      <td>2022</td>\n      <td>http://www.wikidata.org/entity/Q66422</td>\n      <td>Ferpicloz</td>\n      <td>267</td>\n      <td>Fribourg</td>\n      <td>325547</td>\n    </tr>\n    <tr>\n      <th>2</th>\n      <td>2022</td>\n      <td>http://www.wikidata.org/entity/Q67720</td>\n      <td>Randa</td>\n      <td>425</td>\n      <td>Valais</td>\n      <td>348503</td>\n    </tr>\n    <tr>\n      <th>3</th>\n      <td>2022</td>\n      <td>http://www.wikidata.org/entity/Q52777</td>\n      <td>Chéserex</td>\n      <td>1249</td>\n      <td>Vaud</td>\n      <td>814762</td>\n    </tr>\n    <tr>\n      <th>4</th>\n      <td>2022</td>\n      <td>http://www.wikidata.org/entity/Q65620</td>\n      <td>Tuggen</td>\n      <td>3317</td>\n      <td>Schwyz</td>\n      <td>162157</td>\n    </tr>\n    <tr>\n      <th>...</th>\n      <td>...</td>\n      <td>...</td>\n      <td>...</td>\n      <td>...</td>\n      <td>...</td>\n      <td>...</td>\n    </tr>\n    <tr>\n      <th>25362</th>\n      <td>2013</td>\n      <td>http://www.wikidata.org/entity/Q66757</td>\n      <td>Flurlingen</td>\n      <td>1429</td>\n      <td>Zürich</td>\n      <td>1392396</td>\n    </tr>\n    <tr>\n      <th>25363</th>\n      <td>2013</td>\n      <td>http://www.wikidata.org/entity/Q68210</td>\n      <td>Adliswil</td>\n      <td>17518</td>\n      <td>Zürich</td>\n      <td>1392396</td>\n    </tr>\n    <tr>\n      <th>25364</th>\n      <td>2013</td>\n      <td>http://www.wikidata.org/entity/Q64380</td>\n      <td>Gersau</td>\n      <td>2108</td>\n      <td>Schwyz</td>\n      <td>147904</td>\n    </tr>\n    <tr>\n      <th>25365</th>\n      <td>2013</td>\n      <td>http://www.wikidata.org/entity/Q66892</td>\n      <td>Hütten</td>\n      <td>911</td>\n      <td>Zürich</td>\n      <td>1392396</td>\n    </tr>\n    <tr>\n      <th>25366</th>\n      <td>2013</td>\n      <td>http://www.wikidata.org/entity/Q68950</td>\n      <td>Einsiedeln</td>\n      <td>14438</td>\n      <td>Schwyz</td>\n      <td>147904</td>\n    </tr>\n  </tbody>\n</table>\n<p>25367 rows × 6 columns</p>\n</div>"
     },
     "execution_count": 174,
     "metadata": {},
     "output_type": "execute_result"
    }
   ],
   "source": [
    "df_g"
   ],
   "metadata": {
    "collapsed": false
   }
  },
  {
   "cell_type": "markdown",
   "source": [
    "### Abfrage: PLZ"
   ],
   "metadata": {
    "collapsed": false
   }
  },
  {
   "cell_type": "code",
   "execution_count": 175,
   "outputs": [],
   "source": [
    "PLZ_QUERY = '''\n",
    "PREFIX wdt: <http://www.wikidata.org/prop/direct/>\n",
    "PREFIX wd: <http://www.wikidata.org/entity/>\n",
    "\n",
    "SELECT  ?Gemeinde_Entity ?PLZ\n",
    "WHERE {\n",
    "        SERVICE <https://query.wikidata.org/sparql>\n",
    "            {   ?Gemeinde_Entity    wdt:P31     wd:Q70208 ;  # Filter für Ortschaften\n",
    "                                    wdt:P17     wd:Q39 ;     # Filter für die Schweiz als Herkunftsland\n",
    "                                    wdt:P281    ?PLZ .\n",
    "            }\n",
    "        }\n",
    "        '''\n",
    "# Graph erstellen und SPARQL-Abfrage durchführen\n",
    "g = Graph()\n",
    "results_plz = g.query(PLZ_QUERY)\n",
    "\n",
    "result_plz_list = []\n",
    "for row in results_plz:\n",
    "    result_plz_list.append(row)\n",
    "\n",
    "# Liste von Tupeln in ein Pandas DataFrame umwandeln\n",
    "df_plz_g = pd.DataFrame(result_plz_list, columns=['Gemeinde_Entity', 'PLZ'])\n",
    "\n",
    "# DataFrame anzeigen\n",
    "# df_plz_g\n",
    "\n",
    "# -> einige PLZ sind in einem Intervall angegeben"
   ],
   "metadata": {
    "collapsed": false
   }
  },
  {
   "cell_type": "code",
   "execution_count": 176,
   "outputs": [],
   "source": [
    "# PLZ intervall auflösen und in neue Zeilen speicher\n",
    "def split_and_explode(row):\n",
    "    plz_range = row['PLZ'].split('–')\n",
    "    if len(plz_range) == 2:\n",
    "        start, end = map(int, plz_range)\n",
    "        return [(row['Gemeinde_Entity'], str(i)) for i in range(start, end + 1)]\n",
    "    else:\n",
    "        return [(row['Gemeinde_Entity'], row['PLZ'])]\n",
    "\n",
    "new_rows = []\n",
    "for _, row in df_plz_g.iterrows():\n",
    "    new_rows.extend(split_and_explode(row))\n",
    "\n",
    "# Neues DataFrame erstellen\n",
    "df_plz_g_all = pd.DataFrame(new_rows, columns=['Gemeinde_Entity', 'PLZ'])\n",
    "#df_plz_g_all"
   ],
   "metadata": {
    "collapsed": false
   }
  },
  {
   "cell_type": "markdown",
   "source": [
    "### Abfrage: Kanton und deren Abkürzungen"
   ],
   "metadata": {
    "collapsed": false
   }
  },
  {
   "cell_type": "code",
   "execution_count": 177,
   "outputs": [],
   "source": [
    "KurznamenKanton_QUERY = '''\n",
    "PREFIX schema: <http://schema.org/>\n",
    "\n",
    "select distinct ?Kanton_Kurzname ?Kanton_Name\n",
    "where {\n",
    "        SERVICE <https://geo.ld.admin.ch/query>\n",
    "            {?Canton schema:containedInPlace ?Land.\n",
    "            ?Canton schema:name ?Kanton_Name .\n",
    "            ?Canton schema:alternateName ?Kanton_Kurzname\n",
    "\n",
    "        FILTER (lang(?Kanton_Name) ='de' || lang(?Kanton_Name) ='fr' || lang(?Kanton_Name) ='it')\n",
    "}}\n",
    "'''\n",
    "g2 = Graph()\n",
    "results_g2 = g2.query(KurznamenKanton_QUERY)\n",
    "\n",
    "result_g2_list = []\n",
    "for row in results_g2:\n",
    "    result_g2_list.append(row)\n",
    "\n",
    "# Liste von Tupeln in ein Pandas DataFrame umwandeln\n",
    "df_g2 = pd.DataFrame(result_g2_list, columns=['Kanton_Kurzname', 'Kanton_Name',])\n",
    "\n",
    "# DataFrame anzeigen\n",
    "# df_g2"
   ],
   "metadata": {
    "collapsed": false
   }
  },
  {
   "cell_type": "markdown",
   "source": [
    "### Tabellen Merge"
   ],
   "metadata": {
    "collapsed": false
   }
  },
  {
   "cell_type": "code",
   "execution_count": 178,
   "outputs": [],
   "source": [
    "# whitespace entfernen in den Kanton_Namen\n",
    "df_g['Kanton_Name'] = df_g['Kanton_Name'].str.replace('\\s', '', regex=True)\n",
    "df_g2['Kanton_Name'] = df_g2['Kanton_Name'].str.replace('\\s', '', regex=True)"
   ],
   "metadata": {
    "collapsed": false
   }
  },
  {
   "cell_type": "code",
   "execution_count": 179,
   "outputs": [
    {
     "data": {
      "text/plain": "       Date                        Gemeinde_Entity    Gemeinde_Name  \\\n0      2022  http://www.wikidata.org/entity/Q64945  Aeugst am Albis   \n1      2022  http://www.wikidata.org/entity/Q66422        Ferpicloz   \n2      2022  http://www.wikidata.org/entity/Q67720            Randa   \n3      2022  http://www.wikidata.org/entity/Q52777         Chéserex   \n4      2022  http://www.wikidata.org/entity/Q52777         Chéserex   \n...     ...                                    ...              ...   \n30163  2013  http://www.wikidata.org/entity/Q66757       Flurlingen   \n30164  2013  http://www.wikidata.org/entity/Q68210         Adliswil   \n30165  2013  http://www.wikidata.org/entity/Q64380           Gersau   \n30166  2013  http://www.wikidata.org/entity/Q66892           Hütten   \n30167  2013  http://www.wikidata.org/entity/Q68950       Einsiedeln   \n\n      Gemeinde_Population Kanton_Name Kanton_Population Kanton_Kurzname  \n0                    2014      Zürich           1553423              ZH  \n1                     267    Fribourg            325547              FR  \n2                     425      Valais            348503              VS  \n3                    1249        Vaud            814762              VD  \n4                    1249        Vaud            814762              VD  \n...                   ...         ...               ...             ...  \n30163                1429      Zürich           1392396              ZH  \n30164               17518      Zürich           1392396              ZH  \n30165                2108      Schwyz            147904              SZ  \n30166                 911      Zürich           1392396              ZH  \n30167               14438      Schwyz            147904              SZ  \n\n[30168 rows x 7 columns]",
      "text/html": "<div>\n<style scoped>\n    .dataframe tbody tr th:only-of-type {\n        vertical-align: middle;\n    }\n\n    .dataframe tbody tr th {\n        vertical-align: top;\n    }\n\n    .dataframe thead th {\n        text-align: right;\n    }\n</style>\n<table border=\"1\" class=\"dataframe\">\n  <thead>\n    <tr style=\"text-align: right;\">\n      <th></th>\n      <th>Date</th>\n      <th>Gemeinde_Entity</th>\n      <th>Gemeinde_Name</th>\n      <th>Gemeinde_Population</th>\n      <th>Kanton_Name</th>\n      <th>Kanton_Population</th>\n      <th>Kanton_Kurzname</th>\n    </tr>\n  </thead>\n  <tbody>\n    <tr>\n      <th>0</th>\n      <td>2022</td>\n      <td>http://www.wikidata.org/entity/Q64945</td>\n      <td>Aeugst am Albis</td>\n      <td>2014</td>\n      <td>Zürich</td>\n      <td>1553423</td>\n      <td>ZH</td>\n    </tr>\n    <tr>\n      <th>1</th>\n      <td>2022</td>\n      <td>http://www.wikidata.org/entity/Q66422</td>\n      <td>Ferpicloz</td>\n      <td>267</td>\n      <td>Fribourg</td>\n      <td>325547</td>\n      <td>FR</td>\n    </tr>\n    <tr>\n      <th>2</th>\n      <td>2022</td>\n      <td>http://www.wikidata.org/entity/Q67720</td>\n      <td>Randa</td>\n      <td>425</td>\n      <td>Valais</td>\n      <td>348503</td>\n      <td>VS</td>\n    </tr>\n    <tr>\n      <th>3</th>\n      <td>2022</td>\n      <td>http://www.wikidata.org/entity/Q52777</td>\n      <td>Chéserex</td>\n      <td>1249</td>\n      <td>Vaud</td>\n      <td>814762</td>\n      <td>VD</td>\n    </tr>\n    <tr>\n      <th>4</th>\n      <td>2022</td>\n      <td>http://www.wikidata.org/entity/Q52777</td>\n      <td>Chéserex</td>\n      <td>1249</td>\n      <td>Vaud</td>\n      <td>814762</td>\n      <td>VD</td>\n    </tr>\n    <tr>\n      <th>...</th>\n      <td>...</td>\n      <td>...</td>\n      <td>...</td>\n      <td>...</td>\n      <td>...</td>\n      <td>...</td>\n      <td>...</td>\n    </tr>\n    <tr>\n      <th>30163</th>\n      <td>2013</td>\n      <td>http://www.wikidata.org/entity/Q66757</td>\n      <td>Flurlingen</td>\n      <td>1429</td>\n      <td>Zürich</td>\n      <td>1392396</td>\n      <td>ZH</td>\n    </tr>\n    <tr>\n      <th>30164</th>\n      <td>2013</td>\n      <td>http://www.wikidata.org/entity/Q68210</td>\n      <td>Adliswil</td>\n      <td>17518</td>\n      <td>Zürich</td>\n      <td>1392396</td>\n      <td>ZH</td>\n    </tr>\n    <tr>\n      <th>30165</th>\n      <td>2013</td>\n      <td>http://www.wikidata.org/entity/Q64380</td>\n      <td>Gersau</td>\n      <td>2108</td>\n      <td>Schwyz</td>\n      <td>147904</td>\n      <td>SZ</td>\n    </tr>\n    <tr>\n      <th>30166</th>\n      <td>2013</td>\n      <td>http://www.wikidata.org/entity/Q66892</td>\n      <td>Hütten</td>\n      <td>911</td>\n      <td>Zürich</td>\n      <td>1392396</td>\n      <td>ZH</td>\n    </tr>\n    <tr>\n      <th>30167</th>\n      <td>2013</td>\n      <td>http://www.wikidata.org/entity/Q68950</td>\n      <td>Einsiedeln</td>\n      <td>14438</td>\n      <td>Schwyz</td>\n      <td>147904</td>\n      <td>SZ</td>\n    </tr>\n  </tbody>\n</table>\n<p>30168 rows × 7 columns</p>\n</div>"
     },
     "execution_count": 179,
     "metadata": {},
     "output_type": "execute_result"
    }
   ],
   "source": [
    "# Zusammenführen der Listen\n",
    "# Basisliste ist df_g\n",
    "\n",
    "df_grundlagen_z = pd.merge(df_g, df_g2, on='Kanton_Name', how='left')\n",
    "df_grundlagen_z"
   ],
   "metadata": {
    "collapsed": false
   }
  },
  {
   "cell_type": "code",
   "execution_count": 180,
   "outputs": [
    {
     "data": {
      "text/plain": "       Date                        Gemeinde_Entity    Gemeinde_Name  \\\n0      2022  http://www.wikidata.org/entity/Q64945  Aeugst am Albis   \n1      2022  http://www.wikidata.org/entity/Q66422        Ferpicloz   \n2      2022  http://www.wikidata.org/entity/Q67720            Randa   \n3      2022  http://www.wikidata.org/entity/Q52777         Chéserex   \n4      2022  http://www.wikidata.org/entity/Q52777         Chéserex   \n...     ...                                    ...              ...   \n36375  2013  http://www.wikidata.org/entity/Q66757       Flurlingen   \n36376  2013  http://www.wikidata.org/entity/Q68210         Adliswil   \n36377  2013  http://www.wikidata.org/entity/Q64380           Gersau   \n36378  2013  http://www.wikidata.org/entity/Q66892           Hütten   \n36379  2013  http://www.wikidata.org/entity/Q68950       Einsiedeln   \n\n      Gemeinde_Population Kanton_Name Kanton_Population Kanton_Kurzname   PLZ  \n0                    2014      Zürich           1553423              ZH   NaN  \n1                     267    Fribourg            325547              FR  1724  \n2                     425      Valais            348503              VS  3928  \n3                    1249        Vaud            814762              VD  1275  \n4                    1249        Vaud            814762              VD  1275  \n...                   ...         ...               ...             ...   ...  \n36375                1429      Zürich           1392396              ZH   NaN  \n36376               17518      Zürich           1392396              ZH  8134  \n36377                2108      Schwyz            147904              SZ  6442  \n36378                 911      Zürich           1392396              ZH   NaN  \n36379               14438      Schwyz            147904              SZ  8840  \n\n[36380 rows x 8 columns]",
      "text/html": "<div>\n<style scoped>\n    .dataframe tbody tr th:only-of-type {\n        vertical-align: middle;\n    }\n\n    .dataframe tbody tr th {\n        vertical-align: top;\n    }\n\n    .dataframe thead th {\n        text-align: right;\n    }\n</style>\n<table border=\"1\" class=\"dataframe\">\n  <thead>\n    <tr style=\"text-align: right;\">\n      <th></th>\n      <th>Date</th>\n      <th>Gemeinde_Entity</th>\n      <th>Gemeinde_Name</th>\n      <th>Gemeinde_Population</th>\n      <th>Kanton_Name</th>\n      <th>Kanton_Population</th>\n      <th>Kanton_Kurzname</th>\n      <th>PLZ</th>\n    </tr>\n  </thead>\n  <tbody>\n    <tr>\n      <th>0</th>\n      <td>2022</td>\n      <td>http://www.wikidata.org/entity/Q64945</td>\n      <td>Aeugst am Albis</td>\n      <td>2014</td>\n      <td>Zürich</td>\n      <td>1553423</td>\n      <td>ZH</td>\n      <td>NaN</td>\n    </tr>\n    <tr>\n      <th>1</th>\n      <td>2022</td>\n      <td>http://www.wikidata.org/entity/Q66422</td>\n      <td>Ferpicloz</td>\n      <td>267</td>\n      <td>Fribourg</td>\n      <td>325547</td>\n      <td>FR</td>\n      <td>1724</td>\n    </tr>\n    <tr>\n      <th>2</th>\n      <td>2022</td>\n      <td>http://www.wikidata.org/entity/Q67720</td>\n      <td>Randa</td>\n      <td>425</td>\n      <td>Valais</td>\n      <td>348503</td>\n      <td>VS</td>\n      <td>3928</td>\n    </tr>\n    <tr>\n      <th>3</th>\n      <td>2022</td>\n      <td>http://www.wikidata.org/entity/Q52777</td>\n      <td>Chéserex</td>\n      <td>1249</td>\n      <td>Vaud</td>\n      <td>814762</td>\n      <td>VD</td>\n      <td>1275</td>\n    </tr>\n    <tr>\n      <th>4</th>\n      <td>2022</td>\n      <td>http://www.wikidata.org/entity/Q52777</td>\n      <td>Chéserex</td>\n      <td>1249</td>\n      <td>Vaud</td>\n      <td>814762</td>\n      <td>VD</td>\n      <td>1275</td>\n    </tr>\n    <tr>\n      <th>...</th>\n      <td>...</td>\n      <td>...</td>\n      <td>...</td>\n      <td>...</td>\n      <td>...</td>\n      <td>...</td>\n      <td>...</td>\n      <td>...</td>\n    </tr>\n    <tr>\n      <th>36375</th>\n      <td>2013</td>\n      <td>http://www.wikidata.org/entity/Q66757</td>\n      <td>Flurlingen</td>\n      <td>1429</td>\n      <td>Zürich</td>\n      <td>1392396</td>\n      <td>ZH</td>\n      <td>NaN</td>\n    </tr>\n    <tr>\n      <th>36376</th>\n      <td>2013</td>\n      <td>http://www.wikidata.org/entity/Q68210</td>\n      <td>Adliswil</td>\n      <td>17518</td>\n      <td>Zürich</td>\n      <td>1392396</td>\n      <td>ZH</td>\n      <td>8134</td>\n    </tr>\n    <tr>\n      <th>36377</th>\n      <td>2013</td>\n      <td>http://www.wikidata.org/entity/Q64380</td>\n      <td>Gersau</td>\n      <td>2108</td>\n      <td>Schwyz</td>\n      <td>147904</td>\n      <td>SZ</td>\n      <td>6442</td>\n    </tr>\n    <tr>\n      <th>36378</th>\n      <td>2013</td>\n      <td>http://www.wikidata.org/entity/Q66892</td>\n      <td>Hütten</td>\n      <td>911</td>\n      <td>Zürich</td>\n      <td>1392396</td>\n      <td>ZH</td>\n      <td>NaN</td>\n    </tr>\n    <tr>\n      <th>36379</th>\n      <td>2013</td>\n      <td>http://www.wikidata.org/entity/Q68950</td>\n      <td>Einsiedeln</td>\n      <td>14438</td>\n      <td>Schwyz</td>\n      <td>147904</td>\n      <td>SZ</td>\n      <td>8840</td>\n    </tr>\n  </tbody>\n</table>\n<p>36380 rows × 8 columns</p>\n</div>"
     },
     "execution_count": 180,
     "metadata": {},
     "output_type": "execute_result"
    }
   ],
   "source": [
    "df_grundlagen = pd.merge(df_grundlagen_z, df_plz_g_all, on='Gemeinde_Entity', how='left')\n",
    "df_grundlagen"
   ],
   "metadata": {
    "collapsed": false
   }
  },
  {
   "cell_type": "code",
   "execution_count": 181,
   "outputs": [],
   "source": [
    "# in der Kanton_Kurznamenliste sind Basel-Stadt und Basel-Land nicht enthalten, weswegen diese hier noch ergänzt werden\n",
    "df_grundlagen['Kanton_Kurzname'].mask(df_grundlagen['Kanton_Name'] == 'Basel-Stadt', 'BS', inplace=True)\n",
    "df_grundlagen['Kanton_Kurzname'].mask(df_grundlagen['Kanton_Name'] == 'Basel-Landschaft', 'BL', inplace=True)"
   ],
   "metadata": {
    "collapsed": false
   }
  },
  {
   "cell_type": "code",
   "execution_count": 182,
   "outputs": [],
   "source": [
    "# Speichern Sie das DataFrame als CSV-Datei\n",
    "df_grundlagen.to_csv('grundlagen_gemeinde_kantone.csv', index=False)"
   ],
   "metadata": {
    "collapsed": false
   }
  },
  {
   "cell_type": "markdown",
   "source": [
    "# Informationen zum Gebäudeprogramm - in Regionen unterteilt\n",
    "Datenquelle: Linked Data Service des Bundes (https://lindas.admin.ch/query)\n",
    "\n"
   ],
   "metadata": {
    "collapsed": false
   }
  },
  {
   "cell_type": "code",
   "execution_count": 4,
   "outputs": [],
   "source": [
    "kanton_dict_lindas ={\n",
    "    '^https://ld.admin.ch/canton/1$' : 'ZH',\n",
    "    '^https://ld.admin.ch/canton/2$' : 'BE',\n",
    "    '^https://ld.admin.ch/canton/3$' : 'LU',\n",
    "    '^https://ld.admin.ch/canton/4$' : 'UR',\n",
    "    '^https://ld.admin.ch/canton/5$' : 'SZ',\n",
    "    '^https://ld.admin.ch/canton/6$' : 'OW',\n",
    "    '^https://ld.admin.ch/canton/7$' : 'NW',\n",
    "    '^https://ld.admin.ch/canton/8$' : 'GL',\n",
    "    '^https://ld.admin.ch/canton/9$' : 'ZG',\n",
    "    '^https://ld.admin.ch/canton/10$' : 'FR',\n",
    "    '^https://ld.admin.ch/canton/11$' : 'SO',\n",
    "    '^https://ld.admin.ch/canton/12$' : 'BS',\n",
    "    '^https://ld.admin.ch/canton/13$' : 'BL',\n",
    "    '^https://ld.admin.ch/canton/14$' : 'SH',\n",
    "    '^https://ld.admin.ch/canton/15$' : 'AR',\n",
    "    '^https://ld.admin.ch/canton/16$' : 'AI',\n",
    "    '^https://ld.admin.ch/canton/17$' : 'SG',\n",
    "    '^https://ld.admin.ch/canton/18$' : 'GR',\n",
    "    '^https://ld.admin.ch/canton/19$' : 'AG',\n",
    "    '^https://ld.admin.ch/canton/20$' : 'TG',\n",
    "    '^https://ld.admin.ch/canton/21$' : 'TI',\n",
    "    '^https://ld.admin.ch/canton/22$' : 'VD',\n",
    "    '^https://ld.admin.ch/canton/23$' : 'VS',\n",
    "    '^https://ld.admin.ch/canton/24$' : 'NE',\n",
    "    '^https://ld.admin.ch/canton/25$' : 'GE',\n",
    "    '^https://ld.admin.ch/canton/26$' : 'JU',\n",
    "    '^https://ld.admin.ch/country/CHE$' : 'CH'\n",
    "}"
   ],
   "metadata": {
    "collapsed": false
   }
  },
  {
   "cell_type": "markdown",
   "source": [
    "### Abfrage: Anzahl Gesuche pro Jahr, Region und Art für Förderprogramm"
   ],
   "metadata": {
    "collapsed": false
   }
  },
  {
   "cell_type": "code",
   "execution_count": 208,
   "outputs": [
    {
     "data": {
      "text/plain": "                   Kanton_Kurzname  Date Anzahl_Gesuche_mit_Auszahlung  \\\n0                               CH  2010                             0   \n1                               CH  2010                          5514   \n2                               CH  2011                             0   \n3                               CH  2011                         20547   \n4                               CH  2012                             0   \n..                             ...   ...                           ...   \n359   https://ld.admin.ch/canton/4  2022                           147   \n360  https://ld.admin.ch/canton/22  2022                          2151   \n361  https://ld.admin.ch/canton/23  2022                          1277   \n362   https://ld.admin.ch/canton/9  2022                           104   \n363   https://ld.admin.ch/canton/1  2022                          3560   \n\n    Massnahmenart  \n0          Direkt  \n1        Indirekt  \n2          Direkt  \n3        Indirekt  \n4          Direkt  \n..            ...  \n359        Direkt  \n360        Direkt  \n361        Direkt  \n362        Direkt  \n363        Direkt  \n\n[364 rows x 4 columns]",
      "text/html": "<div>\n<style scoped>\n    .dataframe tbody tr th:only-of-type {\n        vertical-align: middle;\n    }\n\n    .dataframe tbody tr th {\n        vertical-align: top;\n    }\n\n    .dataframe thead th {\n        text-align: right;\n    }\n</style>\n<table border=\"1\" class=\"dataframe\">\n  <thead>\n    <tr style=\"text-align: right;\">\n      <th></th>\n      <th>Kanton_Kurzname</th>\n      <th>Date</th>\n      <th>Anzahl_Gesuche_mit_Auszahlung</th>\n      <th>Massnahmenart</th>\n    </tr>\n  </thead>\n  <tbody>\n    <tr>\n      <th>0</th>\n      <td>CH</td>\n      <td>2010</td>\n      <td>0</td>\n      <td>Direkt</td>\n    </tr>\n    <tr>\n      <th>1</th>\n      <td>CH</td>\n      <td>2010</td>\n      <td>5514</td>\n      <td>Indirekt</td>\n    </tr>\n    <tr>\n      <th>2</th>\n      <td>CH</td>\n      <td>2011</td>\n      <td>0</td>\n      <td>Direkt</td>\n    </tr>\n    <tr>\n      <th>3</th>\n      <td>CH</td>\n      <td>2011</td>\n      <td>20547</td>\n      <td>Indirekt</td>\n    </tr>\n    <tr>\n      <th>4</th>\n      <td>CH</td>\n      <td>2012</td>\n      <td>0</td>\n      <td>Direkt</td>\n    </tr>\n    <tr>\n      <th>...</th>\n      <td>...</td>\n      <td>...</td>\n      <td>...</td>\n      <td>...</td>\n    </tr>\n    <tr>\n      <th>359</th>\n      <td>https://ld.admin.ch/canton/4</td>\n      <td>2022</td>\n      <td>147</td>\n      <td>Direkt</td>\n    </tr>\n    <tr>\n      <th>360</th>\n      <td>https://ld.admin.ch/canton/22</td>\n      <td>2022</td>\n      <td>2151</td>\n      <td>Direkt</td>\n    </tr>\n    <tr>\n      <th>361</th>\n      <td>https://ld.admin.ch/canton/23</td>\n      <td>2022</td>\n      <td>1277</td>\n      <td>Direkt</td>\n    </tr>\n    <tr>\n      <th>362</th>\n      <td>https://ld.admin.ch/canton/9</td>\n      <td>2022</td>\n      <td>104</td>\n      <td>Direkt</td>\n    </tr>\n    <tr>\n      <th>363</th>\n      <td>https://ld.admin.ch/canton/1</td>\n      <td>2022</td>\n      <td>3560</td>\n      <td>Direkt</td>\n    </tr>\n  </tbody>\n</table>\n<p>364 rows × 4 columns</p>\n</div>"
     },
     "execution_count": 208,
     "metadata": {},
     "output_type": "execute_result"
    }
   ],
   "source": [
    "Gutsprachen_QUERY = '''\n",
    "PREFIX schema: <http://schema.org/>\n",
    "\n",
    "select distinct ?Kanton_Kurzname ?Date ?Anzahl_Gesuche_mit_Auszahlung ?Massnahmenart\n",
    "where {\n",
    "        SERVICE <https://lindas.admin.ch/query>\n",
    "            {?s schema:eligibleRegion ?Kanton_Kurzname.\n",
    "            ?s <https://energy.ld.admin.ch/sfoe/bfe_ogd18_gebaeudeprogramm_anzahl_gesuche/Jahr> ?Date.\n",
    "            ?s <https://energy.ld.admin.ch/sfoe/bfe_ogd18_gebaeudeprogramm_anzahl_gesuche/anzahl-gesuche-mit-auszahlungen> ?Anzahl_Gesuche_mit_Auszahlung.\n",
    "            ?s <https://energy.ld.admin.ch/sfoe/bfe_ogd18_gebaeudeprogramm_anzahl_gesuche/massnahmeart> ?Massnahmenart\n",
    "}}\n",
    "'''\n",
    "\n",
    "# Graph erstellen und SPARQL-Abfrage durchführen\n",
    "g3 = Graph()\n",
    "results_g3 = g3.query(Gutsprachen_QUERY)\n",
    "\n",
    "result_g3_list = []\n",
    "for row in results_g3:\n",
    "    result_g3_list.append(row)\n",
    "\n",
    "# Liste in ein Pandas DataFrame umwandeln\n",
    "df_g3 = pd.DataFrame(result_g3_list, columns=['Kanton_Kurzname', 'Date', 'Anzahl_Gesuche_mit_Auszahlung', 'Massnahmenart'])\n",
    "\n",
    "# DataFrame anzeigen\n",
    "df_g3"
   ],
   "metadata": {
    "collapsed": false
   }
  },
  {
   "cell_type": "code",
   "execution_count": 209,
   "outputs": [],
   "source": [
    "# nicht überall sind die Kurznamen hinterlegt, weshalb diese ersetzt werden\n",
    "df_g3['Kanton_Kurzname'] = df_g3['Kanton_Kurzname'].replace(kanton_dict_lindas.keys() , kanton_dict_lindas.values() , regex=True)"
   ],
   "metadata": {
    "collapsed": false
   }
  },
  {
   "cell_type": "code",
   "execution_count": 210,
   "outputs": [
    {
     "data": {
      "text/plain": "    Kanton_Kurzname  Date Anzahl_Gesuche_mit_Auszahlung Massnahmenart\n0                CH  2010                             0        Direkt\n1                CH  2010                          5514      Indirekt\n2                CH  2011                             0        Direkt\n3                CH  2011                         20547      Indirekt\n4                CH  2012                             0        Direkt\n..              ...   ...                           ...           ...\n177              UR  2022                           147        Direkt\n178              VD  2022                          2151        Direkt\n179              VS  2022                          1277        Direkt\n180              ZG  2022                           104        Direkt\n181              ZH  2022                          3560        Direkt\n\n[182 rows x 4 columns]",
      "text/html": "<div>\n<style scoped>\n    .dataframe tbody tr th:only-of-type {\n        vertical-align: middle;\n    }\n\n    .dataframe tbody tr th {\n        vertical-align: top;\n    }\n\n    .dataframe thead th {\n        text-align: right;\n    }\n</style>\n<table border=\"1\" class=\"dataframe\">\n  <thead>\n    <tr style=\"text-align: right;\">\n      <th></th>\n      <th>Kanton_Kurzname</th>\n      <th>Date</th>\n      <th>Anzahl_Gesuche_mit_Auszahlung</th>\n      <th>Massnahmenart</th>\n    </tr>\n  </thead>\n  <tbody>\n    <tr>\n      <th>0</th>\n      <td>CH</td>\n      <td>2010</td>\n      <td>0</td>\n      <td>Direkt</td>\n    </tr>\n    <tr>\n      <th>1</th>\n      <td>CH</td>\n      <td>2010</td>\n      <td>5514</td>\n      <td>Indirekt</td>\n    </tr>\n    <tr>\n      <th>2</th>\n      <td>CH</td>\n      <td>2011</td>\n      <td>0</td>\n      <td>Direkt</td>\n    </tr>\n    <tr>\n      <th>3</th>\n      <td>CH</td>\n      <td>2011</td>\n      <td>20547</td>\n      <td>Indirekt</td>\n    </tr>\n    <tr>\n      <th>4</th>\n      <td>CH</td>\n      <td>2012</td>\n      <td>0</td>\n      <td>Direkt</td>\n    </tr>\n    <tr>\n      <th>...</th>\n      <td>...</td>\n      <td>...</td>\n      <td>...</td>\n      <td>...</td>\n    </tr>\n    <tr>\n      <th>177</th>\n      <td>UR</td>\n      <td>2022</td>\n      <td>147</td>\n      <td>Direkt</td>\n    </tr>\n    <tr>\n      <th>178</th>\n      <td>VD</td>\n      <td>2022</td>\n      <td>2151</td>\n      <td>Direkt</td>\n    </tr>\n    <tr>\n      <th>179</th>\n      <td>VS</td>\n      <td>2022</td>\n      <td>1277</td>\n      <td>Direkt</td>\n    </tr>\n    <tr>\n      <th>180</th>\n      <td>ZG</td>\n      <td>2022</td>\n      <td>104</td>\n      <td>Direkt</td>\n    </tr>\n    <tr>\n      <th>181</th>\n      <td>ZH</td>\n      <td>2022</td>\n      <td>3560</td>\n      <td>Direkt</td>\n    </tr>\n  </tbody>\n</table>\n<p>182 rows × 4 columns</p>\n</div>"
     },
     "execution_count": 210,
     "metadata": {},
     "output_type": "execute_result"
    }
   ],
   "source": [
    "# Trotz distinct hat es einige Doublikate, diese werden gelöscht\n",
    "df_g3_no_duplicates = df_g3.drop_duplicates()\n",
    "df_g3_no_duplicates"
   ],
   "metadata": {
    "collapsed": false
   }
  },
  {
   "cell_type": "code",
   "execution_count": 211,
   "outputs": [
    {
     "data": {
      "text/plain": "    Kanton_Kurzname  Date Anzahl_Gesuche_mit_Auszahlung\n0                AG  2017                           267\n1                AG  2018                           400\n2                AG  2019                           786\n3                AG  2020                           745\n4                AG  2021                          1036\n..              ...   ...                           ...\n164              ZH  2018                           965\n165              ZH  2019                          1400\n166              ZH  2020                          1513\n167              ZH  2021                          2680\n168              ZH  2022                          3560\n\n[169 rows x 3 columns]",
      "text/html": "<div>\n<style scoped>\n    .dataframe tbody tr th:only-of-type {\n        vertical-align: middle;\n    }\n\n    .dataframe tbody tr th {\n        vertical-align: top;\n    }\n\n    .dataframe thead th {\n        text-align: right;\n    }\n</style>\n<table border=\"1\" class=\"dataframe\">\n  <thead>\n    <tr style=\"text-align: right;\">\n      <th></th>\n      <th>Kanton_Kurzname</th>\n      <th>Date</th>\n      <th>Anzahl_Gesuche_mit_Auszahlung</th>\n    </tr>\n  </thead>\n  <tbody>\n    <tr>\n      <th>0</th>\n      <td>AG</td>\n      <td>2017</td>\n      <td>267</td>\n    </tr>\n    <tr>\n      <th>1</th>\n      <td>AG</td>\n      <td>2018</td>\n      <td>400</td>\n    </tr>\n    <tr>\n      <th>2</th>\n      <td>AG</td>\n      <td>2019</td>\n      <td>786</td>\n    </tr>\n    <tr>\n      <th>3</th>\n      <td>AG</td>\n      <td>2020</td>\n      <td>745</td>\n    </tr>\n    <tr>\n      <th>4</th>\n      <td>AG</td>\n      <td>2021</td>\n      <td>1036</td>\n    </tr>\n    <tr>\n      <th>...</th>\n      <td>...</td>\n      <td>...</td>\n      <td>...</td>\n    </tr>\n    <tr>\n      <th>164</th>\n      <td>ZH</td>\n      <td>2018</td>\n      <td>965</td>\n    </tr>\n    <tr>\n      <th>165</th>\n      <td>ZH</td>\n      <td>2019</td>\n      <td>1400</td>\n    </tr>\n    <tr>\n      <th>166</th>\n      <td>ZH</td>\n      <td>2020</td>\n      <td>1513</td>\n    </tr>\n    <tr>\n      <th>167</th>\n      <td>ZH</td>\n      <td>2021</td>\n      <td>2680</td>\n    </tr>\n    <tr>\n      <th>168</th>\n      <td>ZH</td>\n      <td>2022</td>\n      <td>3560</td>\n    </tr>\n  </tbody>\n</table>\n<p>169 rows × 3 columns</p>\n</div>"
     },
     "execution_count": 211,
     "metadata": {},
     "output_type": "execute_result"
    }
   ],
   "source": [
    "# pro Kanton und Jahr aufsummieren\n",
    "df_g3_grouped = df_g3_no_duplicates.groupby(['Kanton_Kurzname', 'Date'], as_index=False)['Anzahl_Gesuche_mit_Auszahlung'].sum()\n",
    "df_g3_grouped"
   ],
   "metadata": {
    "collapsed": false
   }
  },
  {
   "cell_type": "code",
   "execution_count": 212,
   "outputs": [],
   "source": [
    "df_g3_grouped.to_csv('gebaudeprogramm_AnzahlGesuche.csv', index=False)"
   ],
   "metadata": {
    "collapsed": false
   }
  },
  {
   "cell_type": "markdown",
   "source": [
    "### Abfrage: Summe Auszahlungen pro Jahr, Region und Bereich für Förderprogramm"
   ],
   "metadata": {
    "collapsed": false
   }
  },
  {
   "cell_type": "code",
   "execution_count": 2,
   "outputs": [
    {
     "data": {
      "text/plain": "      Date                  Kanton_Kurzname VergütungCHF_Gebäudeprogramm  \\\n0     2010  https://ld.admin.ch/country/CHE                  43522889.95   \n1     2010  https://ld.admin.ch/country/CHE                          0.0   \n2     2010  https://ld.admin.ch/country/CHE                   10977986.0   \n3     2010  https://ld.admin.ch/country/CHE                    3501873.0   \n4     2010  https://ld.admin.ch/country/CHE                  92235671.95   \n...    ...                              ...                          ...   \n7197  2022     https://ld.admin.ch/canton/4                      65390.0   \n7198  2022    https://ld.admin.ch/canton/22                    1616377.3   \n7199  2022    https://ld.admin.ch/canton/23                     27137.95   \n7200  2022     https://ld.admin.ch/canton/9                    103693.85   \n7201  2022     https://ld.admin.ch/canton/1                   1561253.45   \n\n                                 Massnahmenbereich_lang  \n0     https://energy.ld.admin.ch/sfoe/bfe_ogd18_geba...  \n1     https://energy.ld.admin.ch/sfoe/bfe_ogd18_geba...  \n2     https://energy.ld.admin.ch/sfoe/bfe_ogd18_geba...  \n3     https://energy.ld.admin.ch/sfoe/bfe_ogd18_geba...  \n4     https://energy.ld.admin.ch/sfoe/bfe_ogd18_geba...  \n...                                                 ...  \n7197  https://energy.ld.admin.ch/sfoe/bfe_ogd18_geba...  \n7198  https://energy.ld.admin.ch/sfoe/bfe_ogd18_geba...  \n7199  https://energy.ld.admin.ch/sfoe/bfe_ogd18_geba...  \n7200  https://energy.ld.admin.ch/sfoe/bfe_ogd18_geba...  \n7201  https://energy.ld.admin.ch/sfoe/bfe_ogd18_geba...  \n\n[7202 rows x 4 columns]",
      "text/html": "<div>\n<style scoped>\n    .dataframe tbody tr th:only-of-type {\n        vertical-align: middle;\n    }\n\n    .dataframe tbody tr th {\n        vertical-align: top;\n    }\n\n    .dataframe thead th {\n        text-align: right;\n    }\n</style>\n<table border=\"1\" class=\"dataframe\">\n  <thead>\n    <tr style=\"text-align: right;\">\n      <th></th>\n      <th>Date</th>\n      <th>Kanton_Kurzname</th>\n      <th>VergütungCHF_Gebäudeprogramm</th>\n      <th>Massnahmenbereich_lang</th>\n    </tr>\n  </thead>\n  <tbody>\n    <tr>\n      <th>0</th>\n      <td>2010</td>\n      <td>https://ld.admin.ch/country/CHE</td>\n      <td>43522889.95</td>\n      <td>https://energy.ld.admin.ch/sfoe/bfe_ogd18_geba...</td>\n    </tr>\n    <tr>\n      <th>1</th>\n      <td>2010</td>\n      <td>https://ld.admin.ch/country/CHE</td>\n      <td>0.0</td>\n      <td>https://energy.ld.admin.ch/sfoe/bfe_ogd18_geba...</td>\n    </tr>\n    <tr>\n      <th>2</th>\n      <td>2010</td>\n      <td>https://ld.admin.ch/country/CHE</td>\n      <td>10977986.0</td>\n      <td>https://energy.ld.admin.ch/sfoe/bfe_ogd18_geba...</td>\n    </tr>\n    <tr>\n      <th>3</th>\n      <td>2010</td>\n      <td>https://ld.admin.ch/country/CHE</td>\n      <td>3501873.0</td>\n      <td>https://energy.ld.admin.ch/sfoe/bfe_ogd18_geba...</td>\n    </tr>\n    <tr>\n      <th>4</th>\n      <td>2010</td>\n      <td>https://ld.admin.ch/country/CHE</td>\n      <td>92235671.95</td>\n      <td>https://energy.ld.admin.ch/sfoe/bfe_ogd18_geba...</td>\n    </tr>\n    <tr>\n      <th>...</th>\n      <td>...</td>\n      <td>...</td>\n      <td>...</td>\n      <td>...</td>\n    </tr>\n    <tr>\n      <th>7197</th>\n      <td>2022</td>\n      <td>https://ld.admin.ch/canton/4</td>\n      <td>65390.0</td>\n      <td>https://energy.ld.admin.ch/sfoe/bfe_ogd18_geba...</td>\n    </tr>\n    <tr>\n      <th>7198</th>\n      <td>2022</td>\n      <td>https://ld.admin.ch/canton/22</td>\n      <td>1616377.3</td>\n      <td>https://energy.ld.admin.ch/sfoe/bfe_ogd18_geba...</td>\n    </tr>\n    <tr>\n      <th>7199</th>\n      <td>2022</td>\n      <td>https://ld.admin.ch/canton/23</td>\n      <td>27137.95</td>\n      <td>https://energy.ld.admin.ch/sfoe/bfe_ogd18_geba...</td>\n    </tr>\n    <tr>\n      <th>7200</th>\n      <td>2022</td>\n      <td>https://ld.admin.ch/canton/9</td>\n      <td>103693.85</td>\n      <td>https://energy.ld.admin.ch/sfoe/bfe_ogd18_geba...</td>\n    </tr>\n    <tr>\n      <th>7201</th>\n      <td>2022</td>\n      <td>https://ld.admin.ch/canton/1</td>\n      <td>1561253.45</td>\n      <td>https://energy.ld.admin.ch/sfoe/bfe_ogd18_geba...</td>\n    </tr>\n  </tbody>\n</table>\n<p>7202 rows × 4 columns</p>\n</div>"
     },
     "execution_count": 2,
     "metadata": {},
     "output_type": "execute_result"
    }
   ],
   "source": [
    "Gebaeudeprogramm_QUERY = '''\n",
    "PREFIX schema: <http://schema.org/>\n",
    "\n",
    "select distinct ?Date ?Kanton_Kurzname ?VergütungCHF_Gebäudeprogramm ?Massnahmenbereich\n",
    "\n",
    "where {\n",
    "        SERVICE <https://lindas.admin.ch/query>\n",
    "            {?s <https://energy.ld.admin.ch/sfoe/bfe_ogd18_gebaeudeprogramm_auszahlungen/Jahr> ?Date.\n",
    "            ?s <https://energy.ld.admin.ch/sfoe/bfe_ogd18_gebaeudeprogramm_auszahlungen/region> ?Kanton_Kurzname.\n",
    "            ?s <http://schema.org/amount> ?VergütungCHF_Gebäudeprogramm.\n",
    "            ?s <https://energy.ld.admin.ch/sfoe/bfe_ogd18_gebaeudeprogramm_auszahlungen/massnahmenbereich> ?Massnahmenbereich.\n",
    "}}\n",
    "'''\n",
    "\n",
    "# Graph erstellen und SPARQL-Abfrage durchführen\n",
    "g5 = Graph()\n",
    "results_g5 = g5.query(Gebaeudeprogramm_QUERY)\n",
    "\n",
    "result_g5_list = []\n",
    "for row in results_g5:\n",
    "    result_g5_list.append(row)\n",
    "\n",
    "# Liste in ein Pandas DataFrame umwandeln\n",
    "df_g5 = pd.DataFrame(result_g5_list, columns=['Date', 'Kanton_Kurzname', 'VergütungCHF_Gebäudeprogramm', 'Massnahmenbereich_lang'])\n",
    "df_g5"
   ],
   "metadata": {
    "collapsed": false
   }
  },
  {
   "cell_type": "code",
   "execution_count": 7,
   "outputs": [],
   "source": [
    "# nicht überall sind die Kurznamen hinterlegt, weshalb diese ersetzt werden\n",
    "df_g5['Kanton_Kurzname'] = df_g5['Kanton_Kurzname'].replace(kanton_dict_lindas.keys() , kanton_dict_lindas.values() , regex=True)"
   ],
   "metadata": {
    "collapsed": false
   }
  },
  {
   "cell_type": "code",
   "execution_count": 8,
   "outputs": [
    {
     "data": {
      "text/plain": "      Date Kanton_Kurzname VergütungCHF_Gebäudeprogramm  \\\n0     2010              CH                  43522889.95   \n1     2010              CH                          0.0   \n2     2010              CH                   10977986.0   \n3     2010              CH                    3501873.0   \n4     2010              CH                  92235671.95   \n...    ...             ...                          ...   \n7197  2022              UR                      65390.0   \n7198  2022              VD                    1616377.3   \n7199  2022              VS                     27137.95   \n7200  2022              ZG                    103693.85   \n7201  2022              ZH                   1561253.45   \n\n                                 Massnahmenbereich_lang     Massnahmenbereich  \n0     https://energy.ld.admin.ch/sfoe/bfe_ogd18_geba...           Haustechnik  \n1     https://energy.ld.admin.ch/sfoe/bfe_ogd18_geba...  Indirekte Massnahmen  \n2     https://energy.ld.admin.ch/sfoe/bfe_ogd18_geba...                Neubau  \n3     https://energy.ld.admin.ch/sfoe/bfe_ogd18_geba...       Systemsanierung  \n4     https://energy.ld.admin.ch/sfoe/bfe_ogd18_geba...                 Total  \n...                                                 ...                   ...  \n7197  https://energy.ld.admin.ch/sfoe/bfe_ogd18_geba...  Indirekte_Massnahmen  \n7198  https://energy.ld.admin.ch/sfoe/bfe_ogd18_geba...  Indirekte_Massnahmen  \n7199  https://energy.ld.admin.ch/sfoe/bfe_ogd18_geba...  Indirekte_Massnahmen  \n7200  https://energy.ld.admin.ch/sfoe/bfe_ogd18_geba...  Indirekte_Massnahmen  \n7201  https://energy.ld.admin.ch/sfoe/bfe_ogd18_geba...  Indirekte_Massnahmen  \n\n[7202 rows x 5 columns]",
      "text/html": "<div>\n<style scoped>\n    .dataframe tbody tr th:only-of-type {\n        vertical-align: middle;\n    }\n\n    .dataframe tbody tr th {\n        vertical-align: top;\n    }\n\n    .dataframe thead th {\n        text-align: right;\n    }\n</style>\n<table border=\"1\" class=\"dataframe\">\n  <thead>\n    <tr style=\"text-align: right;\">\n      <th></th>\n      <th>Date</th>\n      <th>Kanton_Kurzname</th>\n      <th>VergütungCHF_Gebäudeprogramm</th>\n      <th>Massnahmenbereich_lang</th>\n      <th>Massnahmenbereich</th>\n    </tr>\n  </thead>\n  <tbody>\n    <tr>\n      <th>0</th>\n      <td>2010</td>\n      <td>CH</td>\n      <td>43522889.95</td>\n      <td>https://energy.ld.admin.ch/sfoe/bfe_ogd18_geba...</td>\n      <td>Haustechnik</td>\n    </tr>\n    <tr>\n      <th>1</th>\n      <td>2010</td>\n      <td>CH</td>\n      <td>0.0</td>\n      <td>https://energy.ld.admin.ch/sfoe/bfe_ogd18_geba...</td>\n      <td>Indirekte Massnahmen</td>\n    </tr>\n    <tr>\n      <th>2</th>\n      <td>2010</td>\n      <td>CH</td>\n      <td>10977986.0</td>\n      <td>https://energy.ld.admin.ch/sfoe/bfe_ogd18_geba...</td>\n      <td>Neubau</td>\n    </tr>\n    <tr>\n      <th>3</th>\n      <td>2010</td>\n      <td>CH</td>\n      <td>3501873.0</td>\n      <td>https://energy.ld.admin.ch/sfoe/bfe_ogd18_geba...</td>\n      <td>Systemsanierung</td>\n    </tr>\n    <tr>\n      <th>4</th>\n      <td>2010</td>\n      <td>CH</td>\n      <td>92235671.95</td>\n      <td>https://energy.ld.admin.ch/sfoe/bfe_ogd18_geba...</td>\n      <td>Total</td>\n    </tr>\n    <tr>\n      <th>...</th>\n      <td>...</td>\n      <td>...</td>\n      <td>...</td>\n      <td>...</td>\n      <td>...</td>\n    </tr>\n    <tr>\n      <th>7197</th>\n      <td>2022</td>\n      <td>UR</td>\n      <td>65390.0</td>\n      <td>https://energy.ld.admin.ch/sfoe/bfe_ogd18_geba...</td>\n      <td>Indirekte_Massnahmen</td>\n    </tr>\n    <tr>\n      <th>7198</th>\n      <td>2022</td>\n      <td>VD</td>\n      <td>1616377.3</td>\n      <td>https://energy.ld.admin.ch/sfoe/bfe_ogd18_geba...</td>\n      <td>Indirekte_Massnahmen</td>\n    </tr>\n    <tr>\n      <th>7199</th>\n      <td>2022</td>\n      <td>VS</td>\n      <td>27137.95</td>\n      <td>https://energy.ld.admin.ch/sfoe/bfe_ogd18_geba...</td>\n      <td>Indirekte_Massnahmen</td>\n    </tr>\n    <tr>\n      <th>7200</th>\n      <td>2022</td>\n      <td>ZG</td>\n      <td>103693.85</td>\n      <td>https://energy.ld.admin.ch/sfoe/bfe_ogd18_geba...</td>\n      <td>Indirekte_Massnahmen</td>\n    </tr>\n    <tr>\n      <th>7201</th>\n      <td>2022</td>\n      <td>ZH</td>\n      <td>1561253.45</td>\n      <td>https://energy.ld.admin.ch/sfoe/bfe_ogd18_geba...</td>\n      <td>Indirekte_Massnahmen</td>\n    </tr>\n  </tbody>\n</table>\n<p>7202 rows × 5 columns</p>\n</div>"
     },
     "execution_count": 8,
     "metadata": {},
     "output_type": "execute_result"
    }
   ],
   "source": [
    "df_g5['Massnahmenbereich'] = df_g5['Massnahmenbereich_lang'].apply(extract_last_part)\n",
    "df_g5"
   ],
   "metadata": {
    "collapsed": false
   }
  },
  {
   "cell_type": "code",
   "execution_count": 9,
   "outputs": [
    {
     "data": {
      "text/plain": "      Date Kanton_Kurzname VergütungCHF_Gebäudeprogramm     Massnahmenbereich\n0     2010              CH                  43522889.95           Haustechnik\n1     2010              CH                          0.0  Indirekte Massnahmen\n2     2010              CH                   10977986.0                Neubau\n3     2010              CH                    3501873.0       Systemsanierung\n4     2010              CH                  92235671.95                 Total\n...    ...             ...                          ...                   ...\n7197  2022              UR                      65390.0  Indirekte_Massnahmen\n7198  2022              VD                    1616377.3  Indirekte_Massnahmen\n7199  2022              VS                     27137.95  Indirekte_Massnahmen\n7200  2022              ZG                    103693.85  Indirekte_Massnahmen\n7201  2022              ZH                   1561253.45  Indirekte_Massnahmen\n\n[7202 rows x 4 columns]",
      "text/html": "<div>\n<style scoped>\n    .dataframe tbody tr th:only-of-type {\n        vertical-align: middle;\n    }\n\n    .dataframe tbody tr th {\n        vertical-align: top;\n    }\n\n    .dataframe thead th {\n        text-align: right;\n    }\n</style>\n<table border=\"1\" class=\"dataframe\">\n  <thead>\n    <tr style=\"text-align: right;\">\n      <th></th>\n      <th>Date</th>\n      <th>Kanton_Kurzname</th>\n      <th>VergütungCHF_Gebäudeprogramm</th>\n      <th>Massnahmenbereich</th>\n    </tr>\n  </thead>\n  <tbody>\n    <tr>\n      <th>0</th>\n      <td>2010</td>\n      <td>CH</td>\n      <td>43522889.95</td>\n      <td>Haustechnik</td>\n    </tr>\n    <tr>\n      <th>1</th>\n      <td>2010</td>\n      <td>CH</td>\n      <td>0.0</td>\n      <td>Indirekte Massnahmen</td>\n    </tr>\n    <tr>\n      <th>2</th>\n      <td>2010</td>\n      <td>CH</td>\n      <td>10977986.0</td>\n      <td>Neubau</td>\n    </tr>\n    <tr>\n      <th>3</th>\n      <td>2010</td>\n      <td>CH</td>\n      <td>3501873.0</td>\n      <td>Systemsanierung</td>\n    </tr>\n    <tr>\n      <th>4</th>\n      <td>2010</td>\n      <td>CH</td>\n      <td>92235671.95</td>\n      <td>Total</td>\n    </tr>\n    <tr>\n      <th>...</th>\n      <td>...</td>\n      <td>...</td>\n      <td>...</td>\n      <td>...</td>\n    </tr>\n    <tr>\n      <th>7197</th>\n      <td>2022</td>\n      <td>UR</td>\n      <td>65390.0</td>\n      <td>Indirekte_Massnahmen</td>\n    </tr>\n    <tr>\n      <th>7198</th>\n      <td>2022</td>\n      <td>VD</td>\n      <td>1616377.3</td>\n      <td>Indirekte_Massnahmen</td>\n    </tr>\n    <tr>\n      <th>7199</th>\n      <td>2022</td>\n      <td>VS</td>\n      <td>27137.95</td>\n      <td>Indirekte_Massnahmen</td>\n    </tr>\n    <tr>\n      <th>7200</th>\n      <td>2022</td>\n      <td>ZG</td>\n      <td>103693.85</td>\n      <td>Indirekte_Massnahmen</td>\n    </tr>\n    <tr>\n      <th>7201</th>\n      <td>2022</td>\n      <td>ZH</td>\n      <td>1561253.45</td>\n      <td>Indirekte_Massnahmen</td>\n    </tr>\n  </tbody>\n</table>\n<p>7202 rows × 4 columns</p>\n</div>"
     },
     "execution_count": 9,
     "metadata": {},
     "output_type": "execute_result"
    }
   ],
   "source": [
    "df_g5 = df_g5.drop('Massnahmenbereich_lang', axis=1)\n",
    "df_g5"
   ],
   "metadata": {
    "collapsed": false
   }
  },
  {
   "cell_type": "code",
   "execution_count": 10,
   "outputs": [
    {
     "data": {
      "text/plain": "      Date Kanton_Kurzname VergütungCHF_Gebäudeprogramm     Massnahmenbereich\n0     2010              CH                  43522889.95           Haustechnik\n1     2010              CH                          0.0  Indirekte Massnahmen\n2     2010              CH                   10977986.0                Neubau\n3     2010              CH                    3501873.0       Systemsanierung\n4     2010              CH                  92235671.95                 Total\n...    ...             ...                          ...                   ...\n5325  2022              UR                      65390.0  Indirekte_Massnahmen\n5326  2022              VD                    1616377.3  Indirekte_Massnahmen\n5327  2022              VS                     27137.95  Indirekte_Massnahmen\n5328  2022              ZG                    103693.85  Indirekte_Massnahmen\n5329  2022              ZH                   1561253.45  Indirekte_Massnahmen\n\n[1495 rows x 4 columns]",
      "text/html": "<div>\n<style scoped>\n    .dataframe tbody tr th:only-of-type {\n        vertical-align: middle;\n    }\n\n    .dataframe tbody tr th {\n        vertical-align: top;\n    }\n\n    .dataframe thead th {\n        text-align: right;\n    }\n</style>\n<table border=\"1\" class=\"dataframe\">\n  <thead>\n    <tr style=\"text-align: right;\">\n      <th></th>\n      <th>Date</th>\n      <th>Kanton_Kurzname</th>\n      <th>VergütungCHF_Gebäudeprogramm</th>\n      <th>Massnahmenbereich</th>\n    </tr>\n  </thead>\n  <tbody>\n    <tr>\n      <th>0</th>\n      <td>2010</td>\n      <td>CH</td>\n      <td>43522889.95</td>\n      <td>Haustechnik</td>\n    </tr>\n    <tr>\n      <th>1</th>\n      <td>2010</td>\n      <td>CH</td>\n      <td>0.0</td>\n      <td>Indirekte Massnahmen</td>\n    </tr>\n    <tr>\n      <th>2</th>\n      <td>2010</td>\n      <td>CH</td>\n      <td>10977986.0</td>\n      <td>Neubau</td>\n    </tr>\n    <tr>\n      <th>3</th>\n      <td>2010</td>\n      <td>CH</td>\n      <td>3501873.0</td>\n      <td>Systemsanierung</td>\n    </tr>\n    <tr>\n      <th>4</th>\n      <td>2010</td>\n      <td>CH</td>\n      <td>92235671.95</td>\n      <td>Total</td>\n    </tr>\n    <tr>\n      <th>...</th>\n      <td>...</td>\n      <td>...</td>\n      <td>...</td>\n      <td>...</td>\n    </tr>\n    <tr>\n      <th>5325</th>\n      <td>2022</td>\n      <td>UR</td>\n      <td>65390.0</td>\n      <td>Indirekte_Massnahmen</td>\n    </tr>\n    <tr>\n      <th>5326</th>\n      <td>2022</td>\n      <td>VD</td>\n      <td>1616377.3</td>\n      <td>Indirekte_Massnahmen</td>\n    </tr>\n    <tr>\n      <th>5327</th>\n      <td>2022</td>\n      <td>VS</td>\n      <td>27137.95</td>\n      <td>Indirekte_Massnahmen</td>\n    </tr>\n    <tr>\n      <th>5328</th>\n      <td>2022</td>\n      <td>ZG</td>\n      <td>103693.85</td>\n      <td>Indirekte_Massnahmen</td>\n    </tr>\n    <tr>\n      <th>5329</th>\n      <td>2022</td>\n      <td>ZH</td>\n      <td>1561253.45</td>\n      <td>Indirekte_Massnahmen</td>\n    </tr>\n  </tbody>\n</table>\n<p>1495 rows × 4 columns</p>\n</div>"
     },
     "execution_count": 10,
     "metadata": {},
     "output_type": "execute_result"
    }
   ],
   "source": [
    "# Trotz distinct hat es einige Doublikate, diese werden gelöscht\n",
    "df_g5_no_duplicates = df_g5.drop_duplicates()\n",
    "df_g5_no_duplicates"
   ],
   "metadata": {
    "collapsed": false
   }
  },
  {
   "cell_type": "code",
   "execution_count": 27,
   "outputs": [
    {
     "data": {
      "text/plain": "      Date Kanton_Kurzname VergütungCHF_Gebäudeprogramm     Massnahmenbereich\n0     2010              CH                  43522889.95           Haustechnik\n1     2010              CH                          0.0  Indirekte Massnahmen\n2     2010              CH                   10977986.0                Neubau\n3     2010              CH                    3501873.0       Systemsanierung\n4     2010              CH                  92235671.95                 Total\n...    ...             ...                          ...                   ...\n5325  2022              UR                      65390.0  Indirekte_Massnahmen\n5326  2022              VD                    1616377.3  Indirekte_Massnahmen\n5327  2022              VS                     27137.95  Indirekte_Massnahmen\n5328  2022              ZG                    103693.85  Indirekte_Massnahmen\n5329  2022              ZH                   1561253.45  Indirekte_Massnahmen\n\n[1339 rows x 4 columns]",
      "text/html": "<div>\n<style scoped>\n    .dataframe tbody tr th:only-of-type {\n        vertical-align: middle;\n    }\n\n    .dataframe tbody tr th {\n        vertical-align: top;\n    }\n\n    .dataframe thead th {\n        text-align: right;\n    }\n</style>\n<table border=\"1\" class=\"dataframe\">\n  <thead>\n    <tr style=\"text-align: right;\">\n      <th></th>\n      <th>Date</th>\n      <th>Kanton_Kurzname</th>\n      <th>VergütungCHF_Gebäudeprogramm</th>\n      <th>Massnahmenbereich</th>\n    </tr>\n  </thead>\n  <tbody>\n    <tr>\n      <th>0</th>\n      <td>2010</td>\n      <td>CH</td>\n      <td>43522889.95</td>\n      <td>Haustechnik</td>\n    </tr>\n    <tr>\n      <th>1</th>\n      <td>2010</td>\n      <td>CH</td>\n      <td>0.0</td>\n      <td>Indirekte Massnahmen</td>\n    </tr>\n    <tr>\n      <th>2</th>\n      <td>2010</td>\n      <td>CH</td>\n      <td>10977986.0</td>\n      <td>Neubau</td>\n    </tr>\n    <tr>\n      <th>3</th>\n      <td>2010</td>\n      <td>CH</td>\n      <td>3501873.0</td>\n      <td>Systemsanierung</td>\n    </tr>\n    <tr>\n      <th>4</th>\n      <td>2010</td>\n      <td>CH</td>\n      <td>92235671.95</td>\n      <td>Total</td>\n    </tr>\n    <tr>\n      <th>...</th>\n      <td>...</td>\n      <td>...</td>\n      <td>...</td>\n      <td>...</td>\n    </tr>\n    <tr>\n      <th>5325</th>\n      <td>2022</td>\n      <td>UR</td>\n      <td>65390.0</td>\n      <td>Indirekte_Massnahmen</td>\n    </tr>\n    <tr>\n      <th>5326</th>\n      <td>2022</td>\n      <td>VD</td>\n      <td>1616377.3</td>\n      <td>Indirekte_Massnahmen</td>\n    </tr>\n    <tr>\n      <th>5327</th>\n      <td>2022</td>\n      <td>VS</td>\n      <td>27137.95</td>\n      <td>Indirekte_Massnahmen</td>\n    </tr>\n    <tr>\n      <th>5328</th>\n      <td>2022</td>\n      <td>ZG</td>\n      <td>103693.85</td>\n      <td>Indirekte_Massnahmen</td>\n    </tr>\n    <tr>\n      <th>5329</th>\n      <td>2022</td>\n      <td>ZH</td>\n      <td>1561253.45</td>\n      <td>Indirekte_Massnahmen</td>\n    </tr>\n  </tbody>\n</table>\n<p>1339 rows × 4 columns</p>\n</div>"
     },
     "execution_count": 27,
     "metadata": {},
     "output_type": "execute_result"
    }
   ],
   "source": [
    "# Löschen der Zeilen mit Einträgen Zentrale_Waermeversorgung und Waermeversorgung in der Spalte \"Massnahmenbereich\" (diese sind doppelt)\n",
    "df_g5_no_duplicates = df_g5_no_duplicates[~df_g5_no_duplicates['Massnahmenbereich'].isin(['Zentrale_Waermeversorgung', 'Waermeversorgung'])]\n",
    "\n",
    "df_g5_no_duplicates"
   ],
   "metadata": {
    "collapsed": false
   }
  },
  {
   "cell_type": "code",
   "execution_count": 11,
   "outputs": [],
   "source": [
    "df_g5_no_duplicates.to_csv('gebaudeprogramm_SummeAuszahlungen.csv', index=False)"
   ],
   "metadata": {
    "collapsed": false
   }
  },
  {
   "cell_type": "markdown",
   "source": [
    "### Abfrage: Energiewirkung"
   ],
   "metadata": {
    "collapsed": false
   }
  },
  {
   "cell_type": "code",
   "execution_count": 12,
   "outputs": [
    {
     "data": {
      "text/plain": "     Date                  Kanton_Kurzname Energiewirkung_GWh_CH  \\\n0    2010  https://ld.admin.ch/country/CHE                101.12   \n1    2010  https://ld.admin.ch/country/CHE                  3.17   \n2    2010  https://ld.admin.ch/country/CHE                  1.44   \n3    2010  https://ld.admin.ch/country/CHE                 162.8   \n4    2010  https://ld.admin.ch/country/CHE                  9.24   \n..    ...                              ...                   ...   \n581  2013  https://ld.admin.ch/country/CHE                252.79   \n582  2013  https://ld.admin.ch/country/CHE                194.42   \n583  2012  https://ld.admin.ch/country/CHE                147.62   \n584  2010  https://ld.admin.ch/country/CHE                  9.24   \n585  2022  https://ld.admin.ch/country/CHE                103.11   \n\n                                Massnahmenbereich_lang  \n0    https://energy.ld.admin.ch/sfoe/bfe_ogd18_geba...  \n1    https://energy.ld.admin.ch/sfoe/bfe_ogd18_geba...  \n2    https://energy.ld.admin.ch/sfoe/bfe_ogd18_geba...  \n3    https://energy.ld.admin.ch/sfoe/bfe_ogd18_geba...  \n4    https://energy.ld.admin.ch/sfoe/bfe_ogd18_geba...  \n..                                                 ...  \n581  https://energy.ld.admin.ch/sfoe/bfe_ogd18_geba...  \n582  https://energy.ld.admin.ch/sfoe/bfe_ogd18_geba...  \n583  https://energy.ld.admin.ch/sfoe/bfe_ogd18_geba...  \n584  https://energy.ld.admin.ch/sfoe/bfe_ogd18_geba...  \n585  https://energy.ld.admin.ch/sfoe/bfe_ogd18_geba...  \n\n[586 rows x 4 columns]",
      "text/html": "<div>\n<style scoped>\n    .dataframe tbody tr th:only-of-type {\n        vertical-align: middle;\n    }\n\n    .dataframe tbody tr th {\n        vertical-align: top;\n    }\n\n    .dataframe thead th {\n        text-align: right;\n    }\n</style>\n<table border=\"1\" class=\"dataframe\">\n  <thead>\n    <tr style=\"text-align: right;\">\n      <th></th>\n      <th>Date</th>\n      <th>Kanton_Kurzname</th>\n      <th>Energiewirkung_GWh_CH</th>\n      <th>Massnahmenbereich_lang</th>\n    </tr>\n  </thead>\n  <tbody>\n    <tr>\n      <th>0</th>\n      <td>2010</td>\n      <td>https://ld.admin.ch/country/CHE</td>\n      <td>101.12</td>\n      <td>https://energy.ld.admin.ch/sfoe/bfe_ogd18_geba...</td>\n    </tr>\n    <tr>\n      <th>1</th>\n      <td>2010</td>\n      <td>https://ld.admin.ch/country/CHE</td>\n      <td>3.17</td>\n      <td>https://energy.ld.admin.ch/sfoe/bfe_ogd18_geba...</td>\n    </tr>\n    <tr>\n      <th>2</th>\n      <td>2010</td>\n      <td>https://ld.admin.ch/country/CHE</td>\n      <td>1.44</td>\n      <td>https://energy.ld.admin.ch/sfoe/bfe_ogd18_geba...</td>\n    </tr>\n    <tr>\n      <th>3</th>\n      <td>2010</td>\n      <td>https://ld.admin.ch/country/CHE</td>\n      <td>162.8</td>\n      <td>https://energy.ld.admin.ch/sfoe/bfe_ogd18_geba...</td>\n    </tr>\n    <tr>\n      <th>4</th>\n      <td>2010</td>\n      <td>https://ld.admin.ch/country/CHE</td>\n      <td>9.24</td>\n      <td>https://energy.ld.admin.ch/sfoe/bfe_ogd18_geba...</td>\n    </tr>\n    <tr>\n      <th>...</th>\n      <td>...</td>\n      <td>...</td>\n      <td>...</td>\n      <td>...</td>\n    </tr>\n    <tr>\n      <th>581</th>\n      <td>2013</td>\n      <td>https://ld.admin.ch/country/CHE</td>\n      <td>252.79</td>\n      <td>https://energy.ld.admin.ch/sfoe/bfe_ogd18_geba...</td>\n    </tr>\n    <tr>\n      <th>582</th>\n      <td>2013</td>\n      <td>https://ld.admin.ch/country/CHE</td>\n      <td>194.42</td>\n      <td>https://energy.ld.admin.ch/sfoe/bfe_ogd18_geba...</td>\n    </tr>\n    <tr>\n      <th>583</th>\n      <td>2012</td>\n      <td>https://ld.admin.ch/country/CHE</td>\n      <td>147.62</td>\n      <td>https://energy.ld.admin.ch/sfoe/bfe_ogd18_geba...</td>\n    </tr>\n    <tr>\n      <th>584</th>\n      <td>2010</td>\n      <td>https://ld.admin.ch/country/CHE</td>\n      <td>9.24</td>\n      <td>https://energy.ld.admin.ch/sfoe/bfe_ogd18_geba...</td>\n    </tr>\n    <tr>\n      <th>585</th>\n      <td>2022</td>\n      <td>https://ld.admin.ch/country/CHE</td>\n      <td>103.11</td>\n      <td>https://energy.ld.admin.ch/sfoe/bfe_ogd18_geba...</td>\n    </tr>\n  </tbody>\n</table>\n<p>586 rows × 4 columns</p>\n</div>"
     },
     "execution_count": 12,
     "metadata": {},
     "output_type": "execute_result"
    }
   ],
   "source": [
    "Gebaeudeprogramm_Energiewirkung_QUERY = '''\n",
    "PREFIX schema: <http://schema.org/>\n",
    "\n",
    "select distinct  ?Date ?Kanton_Kurzname ?Energiewirkung_GWh_CH ?Massnahmenbereich\n",
    "\n",
    "where {\n",
    "        SERVICE <https://lindas.admin.ch/query>\n",
    "            {?Massnahmenbereich <http://schema.org/amount> ?Energiewirkung_GWh_CH .\n",
    "            ?Massnahmenbereich <https://energy.ld.admin.ch/sfoe/bfe_ogd18_gebaeudeprogramm_energiewirkung/Jahr> ?Date .\n",
    "            ?Massnahmenbereich <https://energy.ld.admin.ch/sfoe/bfe_ogd18_gebaeudeprogramm_energiewirkung/region> ?Kanton_Kurzname.\n",
    "}}\n",
    "'''\n",
    "\n",
    "# Graph erstellen und SPARQL-Abfrage durchführen\n",
    "g6 = Graph()\n",
    "results_g6 = g6.query(Gebaeudeprogramm_Energiewirkung_QUERY)\n",
    "\n",
    "result_g6_list = []\n",
    "for row in results_g6:\n",
    "    result_g6_list.append(row)\n",
    "\n",
    "# Liste in ein Pandas DataFrame umwandeln\n",
    "df_g6 = pd.DataFrame(result_g6_list, columns=['Date','Kanton_Kurzname', 'Energiewirkung_GWh_CH','Massnahmenbereich_lang'])\n",
    "df_g6"
   ],
   "metadata": {
    "collapsed": false
   }
  },
  {
   "cell_type": "code",
   "execution_count": 13,
   "outputs": [],
   "source": [
    "# nicht überall sind die Kurznamen hinterlegt, weshalb diese ersetzt werden\n",
    "df_g6['Kanton_Kurzname'] = df_g6['Kanton_Kurzname'].replace(kanton_dict_lindas.keys() , kanton_dict_lindas.values() , regex=True)"
   ],
   "metadata": {
    "collapsed": false
   }
  },
  {
   "cell_type": "code",
   "execution_count": 14,
   "outputs": [
    {
     "data": {
      "text/plain": "     Date Kanton_Kurzname Energiewirkung_GWh_CH  \\\n0    2010              CH                101.12   \n1    2010              CH                  3.17   \n2    2010              CH                  1.44   \n3    2010              CH                 162.8   \n4    2010              CH                  9.24   \n..    ...             ...                   ...   \n581  2013              CH                252.79   \n582  2013              CH                194.42   \n583  2012              CH                147.62   \n584  2010              CH                  9.24   \n585  2022              CH                103.11   \n\n                                Massnahmenbereich_lang  \n0    https://energy.ld.admin.ch/sfoe/bfe_ogd18_geba...  \n1    https://energy.ld.admin.ch/sfoe/bfe_ogd18_geba...  \n2    https://energy.ld.admin.ch/sfoe/bfe_ogd18_geba...  \n3    https://energy.ld.admin.ch/sfoe/bfe_ogd18_geba...  \n4    https://energy.ld.admin.ch/sfoe/bfe_ogd18_geba...  \n..                                                 ...  \n581  https://energy.ld.admin.ch/sfoe/bfe_ogd18_geba...  \n582  https://energy.ld.admin.ch/sfoe/bfe_ogd18_geba...  \n583  https://energy.ld.admin.ch/sfoe/bfe_ogd18_geba...  \n584  https://energy.ld.admin.ch/sfoe/bfe_ogd18_geba...  \n585  https://energy.ld.admin.ch/sfoe/bfe_ogd18_geba...  \n\n[586 rows x 4 columns]",
      "text/html": "<div>\n<style scoped>\n    .dataframe tbody tr th:only-of-type {\n        vertical-align: middle;\n    }\n\n    .dataframe tbody tr th {\n        vertical-align: top;\n    }\n\n    .dataframe thead th {\n        text-align: right;\n    }\n</style>\n<table border=\"1\" class=\"dataframe\">\n  <thead>\n    <tr style=\"text-align: right;\">\n      <th></th>\n      <th>Date</th>\n      <th>Kanton_Kurzname</th>\n      <th>Energiewirkung_GWh_CH</th>\n      <th>Massnahmenbereich_lang</th>\n    </tr>\n  </thead>\n  <tbody>\n    <tr>\n      <th>0</th>\n      <td>2010</td>\n      <td>CH</td>\n      <td>101.12</td>\n      <td>https://energy.ld.admin.ch/sfoe/bfe_ogd18_geba...</td>\n    </tr>\n    <tr>\n      <th>1</th>\n      <td>2010</td>\n      <td>CH</td>\n      <td>3.17</td>\n      <td>https://energy.ld.admin.ch/sfoe/bfe_ogd18_geba...</td>\n    </tr>\n    <tr>\n      <th>2</th>\n      <td>2010</td>\n      <td>CH</td>\n      <td>1.44</td>\n      <td>https://energy.ld.admin.ch/sfoe/bfe_ogd18_geba...</td>\n    </tr>\n    <tr>\n      <th>3</th>\n      <td>2010</td>\n      <td>CH</td>\n      <td>162.8</td>\n      <td>https://energy.ld.admin.ch/sfoe/bfe_ogd18_geba...</td>\n    </tr>\n    <tr>\n      <th>4</th>\n      <td>2010</td>\n      <td>CH</td>\n      <td>9.24</td>\n      <td>https://energy.ld.admin.ch/sfoe/bfe_ogd18_geba...</td>\n    </tr>\n    <tr>\n      <th>...</th>\n      <td>...</td>\n      <td>...</td>\n      <td>...</td>\n      <td>...</td>\n    </tr>\n    <tr>\n      <th>581</th>\n      <td>2013</td>\n      <td>CH</td>\n      <td>252.79</td>\n      <td>https://energy.ld.admin.ch/sfoe/bfe_ogd18_geba...</td>\n    </tr>\n    <tr>\n      <th>582</th>\n      <td>2013</td>\n      <td>CH</td>\n      <td>194.42</td>\n      <td>https://energy.ld.admin.ch/sfoe/bfe_ogd18_geba...</td>\n    </tr>\n    <tr>\n      <th>583</th>\n      <td>2012</td>\n      <td>CH</td>\n      <td>147.62</td>\n      <td>https://energy.ld.admin.ch/sfoe/bfe_ogd18_geba...</td>\n    </tr>\n    <tr>\n      <th>584</th>\n      <td>2010</td>\n      <td>CH</td>\n      <td>9.24</td>\n      <td>https://energy.ld.admin.ch/sfoe/bfe_ogd18_geba...</td>\n    </tr>\n    <tr>\n      <th>585</th>\n      <td>2022</td>\n      <td>CH</td>\n      <td>103.11</td>\n      <td>https://energy.ld.admin.ch/sfoe/bfe_ogd18_geba...</td>\n    </tr>\n  </tbody>\n</table>\n<p>586 rows × 4 columns</p>\n</div>"
     },
     "execution_count": 14,
     "metadata": {},
     "output_type": "execute_result"
    }
   ],
   "source": [
    "df_g6"
   ],
   "metadata": {
    "collapsed": false
   }
  },
  {
   "cell_type": "code",
   "execution_count": 15,
   "outputs": [
    {
     "data": {
      "text/plain": "     Date Kanton_Kurzname Energiewirkung_GWh_CH  \\\n0    2010              CH                101.12   \n1    2010              CH                  3.17   \n2    2010              CH                  1.44   \n3    2010              CH                 162.8   \n4    2010              CH                  9.24   \n..    ...             ...                   ...   \n581  2013              CH                252.79   \n582  2013              CH                194.42   \n583  2012              CH                147.62   \n584  2010              CH                  9.24   \n585  2022              CH                103.11   \n\n                                Massnahmenbereich_lang  \\\n0    https://energy.ld.admin.ch/sfoe/bfe_ogd18_geba...   \n1    https://energy.ld.admin.ch/sfoe/bfe_ogd18_geba...   \n2    https://energy.ld.admin.ch/sfoe/bfe_ogd18_geba...   \n3    https://energy.ld.admin.ch/sfoe/bfe_ogd18_geba...   \n4    https://energy.ld.admin.ch/sfoe/bfe_ogd18_geba...   \n..                                                 ...   \n581  https://energy.ld.admin.ch/sfoe/bfe_ogd18_geba...   \n582  https://energy.ld.admin.ch/sfoe/bfe_ogd18_geba...   \n583  https://energy.ld.admin.ch/sfoe/bfe_ogd18_geba...   \n584  https://energy.ld.admin.ch/sfoe/bfe_ogd18_geba...   \n585  https://energy.ld.admin.ch/sfoe/bfe_ogd18_geba...   \n\n                        Massnahmenbereich  \n0                             Haustechnik  \n1                                  Neubau  \n2                         Systemsanierung  \n3    Total Energiewirkung Gebäudeprogramm  \n4                            Wärmedämmung  \n..                                    ...  \n581                        Waermedaemmung  \n582             Zentrale_Waermeversorgung  \n583             Zentrale_Waermeversorgung  \n584                        Waermedaemmung  \n585                       Systemsanierung  \n\n[586 rows x 5 columns]",
      "text/html": "<div>\n<style scoped>\n    .dataframe tbody tr th:only-of-type {\n        vertical-align: middle;\n    }\n\n    .dataframe tbody tr th {\n        vertical-align: top;\n    }\n\n    .dataframe thead th {\n        text-align: right;\n    }\n</style>\n<table border=\"1\" class=\"dataframe\">\n  <thead>\n    <tr style=\"text-align: right;\">\n      <th></th>\n      <th>Date</th>\n      <th>Kanton_Kurzname</th>\n      <th>Energiewirkung_GWh_CH</th>\n      <th>Massnahmenbereich_lang</th>\n      <th>Massnahmenbereich</th>\n    </tr>\n  </thead>\n  <tbody>\n    <tr>\n      <th>0</th>\n      <td>2010</td>\n      <td>CH</td>\n      <td>101.12</td>\n      <td>https://energy.ld.admin.ch/sfoe/bfe_ogd18_geba...</td>\n      <td>Haustechnik</td>\n    </tr>\n    <tr>\n      <th>1</th>\n      <td>2010</td>\n      <td>CH</td>\n      <td>3.17</td>\n      <td>https://energy.ld.admin.ch/sfoe/bfe_ogd18_geba...</td>\n      <td>Neubau</td>\n    </tr>\n    <tr>\n      <th>2</th>\n      <td>2010</td>\n      <td>CH</td>\n      <td>1.44</td>\n      <td>https://energy.ld.admin.ch/sfoe/bfe_ogd18_geba...</td>\n      <td>Systemsanierung</td>\n    </tr>\n    <tr>\n      <th>3</th>\n      <td>2010</td>\n      <td>CH</td>\n      <td>162.8</td>\n      <td>https://energy.ld.admin.ch/sfoe/bfe_ogd18_geba...</td>\n      <td>Total Energiewirkung Gebäudeprogramm</td>\n    </tr>\n    <tr>\n      <th>4</th>\n      <td>2010</td>\n      <td>CH</td>\n      <td>9.24</td>\n      <td>https://energy.ld.admin.ch/sfoe/bfe_ogd18_geba...</td>\n      <td>Wärmedämmung</td>\n    </tr>\n    <tr>\n      <th>...</th>\n      <td>...</td>\n      <td>...</td>\n      <td>...</td>\n      <td>...</td>\n      <td>...</td>\n    </tr>\n    <tr>\n      <th>581</th>\n      <td>2013</td>\n      <td>CH</td>\n      <td>252.79</td>\n      <td>https://energy.ld.admin.ch/sfoe/bfe_ogd18_geba...</td>\n      <td>Waermedaemmung</td>\n    </tr>\n    <tr>\n      <th>582</th>\n      <td>2013</td>\n      <td>CH</td>\n      <td>194.42</td>\n      <td>https://energy.ld.admin.ch/sfoe/bfe_ogd18_geba...</td>\n      <td>Zentrale_Waermeversorgung</td>\n    </tr>\n    <tr>\n      <th>583</th>\n      <td>2012</td>\n      <td>CH</td>\n      <td>147.62</td>\n      <td>https://energy.ld.admin.ch/sfoe/bfe_ogd18_geba...</td>\n      <td>Zentrale_Waermeversorgung</td>\n    </tr>\n    <tr>\n      <th>584</th>\n      <td>2010</td>\n      <td>CH</td>\n      <td>9.24</td>\n      <td>https://energy.ld.admin.ch/sfoe/bfe_ogd18_geba...</td>\n      <td>Waermedaemmung</td>\n    </tr>\n    <tr>\n      <th>585</th>\n      <td>2022</td>\n      <td>CH</td>\n      <td>103.11</td>\n      <td>https://energy.ld.admin.ch/sfoe/bfe_ogd18_geba...</td>\n      <td>Systemsanierung</td>\n    </tr>\n  </tbody>\n</table>\n<p>586 rows × 5 columns</p>\n</div>"
     },
     "execution_count": 15,
     "metadata": {},
     "output_type": "execute_result"
    }
   ],
   "source": [
    "df_g6['Massnahmenbereich'] = df_g6['Massnahmenbereich_lang'].apply(extract_last_part)\n",
    "df_g6"
   ],
   "metadata": {
    "collapsed": false
   }
  },
  {
   "cell_type": "code",
   "execution_count": 16,
   "outputs": [
    {
     "data": {
      "text/plain": "     Date Kanton_Kurzname Energiewirkung_GWh_CH  \\\n0    2010              CH                101.12   \n1    2010              CH                  3.17   \n2    2010              CH                  1.44   \n3    2010              CH                 162.8   \n4    2010              CH                  9.24   \n..    ...             ...                   ...   \n581  2013              CH                252.79   \n582  2013              CH                194.42   \n583  2012              CH                147.62   \n584  2010              CH                  9.24   \n585  2022              CH                103.11   \n\n                        Massnahmenbereich  \n0                             Haustechnik  \n1                                  Neubau  \n2                         Systemsanierung  \n3    Total Energiewirkung Gebäudeprogramm  \n4                            Wärmedämmung  \n..                                    ...  \n581                        Waermedaemmung  \n582             Zentrale_Waermeversorgung  \n583             Zentrale_Waermeversorgung  \n584                        Waermedaemmung  \n585                       Systemsanierung  \n\n[586 rows x 4 columns]",
      "text/html": "<div>\n<style scoped>\n    .dataframe tbody tr th:only-of-type {\n        vertical-align: middle;\n    }\n\n    .dataframe tbody tr th {\n        vertical-align: top;\n    }\n\n    .dataframe thead th {\n        text-align: right;\n    }\n</style>\n<table border=\"1\" class=\"dataframe\">\n  <thead>\n    <tr style=\"text-align: right;\">\n      <th></th>\n      <th>Date</th>\n      <th>Kanton_Kurzname</th>\n      <th>Energiewirkung_GWh_CH</th>\n      <th>Massnahmenbereich</th>\n    </tr>\n  </thead>\n  <tbody>\n    <tr>\n      <th>0</th>\n      <td>2010</td>\n      <td>CH</td>\n      <td>101.12</td>\n      <td>Haustechnik</td>\n    </tr>\n    <tr>\n      <th>1</th>\n      <td>2010</td>\n      <td>CH</td>\n      <td>3.17</td>\n      <td>Neubau</td>\n    </tr>\n    <tr>\n      <th>2</th>\n      <td>2010</td>\n      <td>CH</td>\n      <td>1.44</td>\n      <td>Systemsanierung</td>\n    </tr>\n    <tr>\n      <th>3</th>\n      <td>2010</td>\n      <td>CH</td>\n      <td>162.8</td>\n      <td>Total Energiewirkung Gebäudeprogramm</td>\n    </tr>\n    <tr>\n      <th>4</th>\n      <td>2010</td>\n      <td>CH</td>\n      <td>9.24</td>\n      <td>Wärmedämmung</td>\n    </tr>\n    <tr>\n      <th>...</th>\n      <td>...</td>\n      <td>...</td>\n      <td>...</td>\n      <td>...</td>\n    </tr>\n    <tr>\n      <th>581</th>\n      <td>2013</td>\n      <td>CH</td>\n      <td>252.79</td>\n      <td>Waermedaemmung</td>\n    </tr>\n    <tr>\n      <th>582</th>\n      <td>2013</td>\n      <td>CH</td>\n      <td>194.42</td>\n      <td>Zentrale_Waermeversorgung</td>\n    </tr>\n    <tr>\n      <th>583</th>\n      <td>2012</td>\n      <td>CH</td>\n      <td>147.62</td>\n      <td>Zentrale_Waermeversorgung</td>\n    </tr>\n    <tr>\n      <th>584</th>\n      <td>2010</td>\n      <td>CH</td>\n      <td>9.24</td>\n      <td>Waermedaemmung</td>\n    </tr>\n    <tr>\n      <th>585</th>\n      <td>2022</td>\n      <td>CH</td>\n      <td>103.11</td>\n      <td>Systemsanierung</td>\n    </tr>\n  </tbody>\n</table>\n<p>586 rows × 4 columns</p>\n</div>"
     },
     "execution_count": 16,
     "metadata": {},
     "output_type": "execute_result"
    }
   ],
   "source": [
    "df_g6 =df_g6.drop('Massnahmenbereich_lang', axis=1)\n",
    "df_g6"
   ],
   "metadata": {
    "collapsed": false
   }
  },
  {
   "cell_type": "code",
   "execution_count": 17,
   "outputs": [
    {
     "data": {
      "text/plain": "     Date Kanton_Kurzname Energiewirkung_GWh_CH  \\\n0    2010              CH                101.12   \n1    2010              CH                  3.17   \n2    2010              CH                  1.44   \n3    2010              CH                 162.8   \n4    2010              CH                  9.24   \n..    ...             ...                   ...   \n386  2030              CH                   0.0   \n387  2031              CH                   0.0   \n388  2031              CH                   0.0   \n389  2032              CH                   0.0   \n390  2032              CH                   0.0   \n\n                        Massnahmenbereich  \n0                             Haustechnik  \n1                                  Neubau  \n2                         Systemsanierung  \n3    Total Energiewirkung Gebäudeprogramm  \n4                            Wärmedämmung  \n..                                    ...  \n386             Zentrale_Waermeversorgung  \n387                        Waermedaemmung  \n388             Zentrale_Waermeversorgung  \n389                        Waermedaemmung  \n390             Zentrale_Waermeversorgung  \n\n[214 rows x 4 columns]",
      "text/html": "<div>\n<style scoped>\n    .dataframe tbody tr th:only-of-type {\n        vertical-align: middle;\n    }\n\n    .dataframe tbody tr th {\n        vertical-align: top;\n    }\n\n    .dataframe thead th {\n        text-align: right;\n    }\n</style>\n<table border=\"1\" class=\"dataframe\">\n  <thead>\n    <tr style=\"text-align: right;\">\n      <th></th>\n      <th>Date</th>\n      <th>Kanton_Kurzname</th>\n      <th>Energiewirkung_GWh_CH</th>\n      <th>Massnahmenbereich</th>\n    </tr>\n  </thead>\n  <tbody>\n    <tr>\n      <th>0</th>\n      <td>2010</td>\n      <td>CH</td>\n      <td>101.12</td>\n      <td>Haustechnik</td>\n    </tr>\n    <tr>\n      <th>1</th>\n      <td>2010</td>\n      <td>CH</td>\n      <td>3.17</td>\n      <td>Neubau</td>\n    </tr>\n    <tr>\n      <th>2</th>\n      <td>2010</td>\n      <td>CH</td>\n      <td>1.44</td>\n      <td>Systemsanierung</td>\n    </tr>\n    <tr>\n      <th>3</th>\n      <td>2010</td>\n      <td>CH</td>\n      <td>162.8</td>\n      <td>Total Energiewirkung Gebäudeprogramm</td>\n    </tr>\n    <tr>\n      <th>4</th>\n      <td>2010</td>\n      <td>CH</td>\n      <td>9.24</td>\n      <td>Wärmedämmung</td>\n    </tr>\n    <tr>\n      <th>...</th>\n      <td>...</td>\n      <td>...</td>\n      <td>...</td>\n      <td>...</td>\n    </tr>\n    <tr>\n      <th>386</th>\n      <td>2030</td>\n      <td>CH</td>\n      <td>0.0</td>\n      <td>Zentrale_Waermeversorgung</td>\n    </tr>\n    <tr>\n      <th>387</th>\n      <td>2031</td>\n      <td>CH</td>\n      <td>0.0</td>\n      <td>Waermedaemmung</td>\n    </tr>\n    <tr>\n      <th>388</th>\n      <td>2031</td>\n      <td>CH</td>\n      <td>0.0</td>\n      <td>Zentrale_Waermeversorgung</td>\n    </tr>\n    <tr>\n      <th>389</th>\n      <td>2032</td>\n      <td>CH</td>\n      <td>0.0</td>\n      <td>Waermedaemmung</td>\n    </tr>\n    <tr>\n      <th>390</th>\n      <td>2032</td>\n      <td>CH</td>\n      <td>0.0</td>\n      <td>Zentrale_Waermeversorgung</td>\n    </tr>\n  </tbody>\n</table>\n<p>214 rows × 4 columns</p>\n</div>"
     },
     "execution_count": 17,
     "metadata": {},
     "output_type": "execute_result"
    }
   ],
   "source": [
    "# Trotz distinct hat es einige Doublikate, diese werden gelöscht\n",
    "df_g6_no_duplicates = df_g6.drop_duplicates()\n",
    "df_g6_no_duplicates"
   ],
   "metadata": {
    "collapsed": false
   }
  },
  {
   "cell_type": "code",
   "execution_count": 28,
   "outputs": [
    {
     "data": {
      "text/plain": "     Date Kanton_Kurzname Energiewirkung_GWh_CH  \\\n0    2010              CH                101.12   \n1    2010              CH                  3.17   \n2    2010              CH                  1.44   \n3    2010              CH                 162.8   \n4    2010              CH                  9.24   \n..    ...             ...                   ...   \n381  2028              CH                   0.0   \n383  2029              CH                   0.0   \n385  2030              CH                   0.0   \n387  2031              CH                   0.0   \n389  2032              CH                   0.0   \n\n                        Massnahmenbereich  \n0                             Haustechnik  \n1                                  Neubau  \n2                         Systemsanierung  \n3    Total Energiewirkung Gebäudeprogramm  \n4                            Wärmedämmung  \n..                                    ...  \n381                        Waermedaemmung  \n383                        Waermedaemmung  \n385                        Waermedaemmung  \n387                        Waermedaemmung  \n389                        Waermedaemmung  \n\n[191 rows x 4 columns]",
      "text/html": "<div>\n<style scoped>\n    .dataframe tbody tr th:only-of-type {\n        vertical-align: middle;\n    }\n\n    .dataframe tbody tr th {\n        vertical-align: top;\n    }\n\n    .dataframe thead th {\n        text-align: right;\n    }\n</style>\n<table border=\"1\" class=\"dataframe\">\n  <thead>\n    <tr style=\"text-align: right;\">\n      <th></th>\n      <th>Date</th>\n      <th>Kanton_Kurzname</th>\n      <th>Energiewirkung_GWh_CH</th>\n      <th>Massnahmenbereich</th>\n    </tr>\n  </thead>\n  <tbody>\n    <tr>\n      <th>0</th>\n      <td>2010</td>\n      <td>CH</td>\n      <td>101.12</td>\n      <td>Haustechnik</td>\n    </tr>\n    <tr>\n      <th>1</th>\n      <td>2010</td>\n      <td>CH</td>\n      <td>3.17</td>\n      <td>Neubau</td>\n    </tr>\n    <tr>\n      <th>2</th>\n      <td>2010</td>\n      <td>CH</td>\n      <td>1.44</td>\n      <td>Systemsanierung</td>\n    </tr>\n    <tr>\n      <th>3</th>\n      <td>2010</td>\n      <td>CH</td>\n      <td>162.8</td>\n      <td>Total Energiewirkung Gebäudeprogramm</td>\n    </tr>\n    <tr>\n      <th>4</th>\n      <td>2010</td>\n      <td>CH</td>\n      <td>9.24</td>\n      <td>Wärmedämmung</td>\n    </tr>\n    <tr>\n      <th>...</th>\n      <td>...</td>\n      <td>...</td>\n      <td>...</td>\n      <td>...</td>\n    </tr>\n    <tr>\n      <th>381</th>\n      <td>2028</td>\n      <td>CH</td>\n      <td>0.0</td>\n      <td>Waermedaemmung</td>\n    </tr>\n    <tr>\n      <th>383</th>\n      <td>2029</td>\n      <td>CH</td>\n      <td>0.0</td>\n      <td>Waermedaemmung</td>\n    </tr>\n    <tr>\n      <th>385</th>\n      <td>2030</td>\n      <td>CH</td>\n      <td>0.0</td>\n      <td>Waermedaemmung</td>\n    </tr>\n    <tr>\n      <th>387</th>\n      <td>2031</td>\n      <td>CH</td>\n      <td>0.0</td>\n      <td>Waermedaemmung</td>\n    </tr>\n    <tr>\n      <th>389</th>\n      <td>2032</td>\n      <td>CH</td>\n      <td>0.0</td>\n      <td>Waermedaemmung</td>\n    </tr>\n  </tbody>\n</table>\n<p>191 rows × 4 columns</p>\n</div>"
     },
     "execution_count": 28,
     "metadata": {},
     "output_type": "execute_result"
    }
   ],
   "source": [
    "# Löschen der Zeilen mit Einträgen Zentrale_Waermeversorgung und Waermeversorgung in der Spalte \"Massnahmenbereich\" (diese sind doppelt)\n",
    "df_g6_no_duplicates = df_g6_no_duplicates[~df_g6_no_duplicates['Massnahmenbereich'].isin(['Zentrale_Waermeversorgung', 'Waermeversorgung'])]\n",
    "\n",
    "df_g6_no_duplicates"
   ],
   "metadata": {
    "collapsed": false
   }
  },
  {
   "cell_type": "code",
   "execution_count": 18,
   "outputs": [],
   "source": [
    "df_g6_no_duplicates.to_csv('gebaudeprogramm_Energiewirkung.csv', index=False)"
   ],
   "metadata": {
    "collapsed": false
   }
  },
  {
   "cell_type": "markdown",
   "source": [
    "### Abfrage: CO2 Wirkung pro Massnahmenbereich"
   ],
   "metadata": {
    "collapsed": false
   }
  },
  {
   "cell_type": "code",
   "execution_count": 19,
   "outputs": [
    {
     "data": {
      "text/plain": "     Date                  Kanton_Kurzname CO2_Wirkung_Tonnen_CH  \\\n0    2010  https://ld.admin.ch/country/CHE                 30259   \n1    2010  https://ld.admin.ch/country/CHE                  1112   \n2    2010  https://ld.admin.ch/country/CHE                   369   \n3    2010  https://ld.admin.ch/country/CHE                 46879   \n4    2010  https://ld.admin.ch/country/CHE                  1748   \n..    ...                              ...                   ...   \n378  2020  https://ld.admin.ch/country/CHE                146169   \n379  2021  https://ld.admin.ch/country/CHE                154805   \n380  2021  https://ld.admin.ch/country/CHE                156177   \n381  2022  https://ld.admin.ch/country/CHE                162564   \n382  2022  https://ld.admin.ch/country/CHE                178709   \n\n                                Massnahmenbereich_lang  \n0    https://energy.ld.admin.ch/sfoe/bfe_ogd18_geba...  \n1    https://energy.ld.admin.ch/sfoe/bfe_ogd18_geba...  \n2    https://energy.ld.admin.ch/sfoe/bfe_ogd18_geba...  \n3    https://energy.ld.admin.ch/sfoe/bfe_ogd18_geba...  \n4    https://energy.ld.admin.ch/sfoe/bfe_ogd18_geba...  \n..                                                 ...  \n378  https://energy.ld.admin.ch/sfoe/bfe_ogd18_geba...  \n379  https://energy.ld.admin.ch/sfoe/bfe_ogd18_geba...  \n380  https://energy.ld.admin.ch/sfoe/bfe_ogd18_geba...  \n381  https://energy.ld.admin.ch/sfoe/bfe_ogd18_geba...  \n382  https://energy.ld.admin.ch/sfoe/bfe_ogd18_geba...  \n\n[383 rows x 4 columns]",
      "text/html": "<div>\n<style scoped>\n    .dataframe tbody tr th:only-of-type {\n        vertical-align: middle;\n    }\n\n    .dataframe tbody tr th {\n        vertical-align: top;\n    }\n\n    .dataframe thead th {\n        text-align: right;\n    }\n</style>\n<table border=\"1\" class=\"dataframe\">\n  <thead>\n    <tr style=\"text-align: right;\">\n      <th></th>\n      <th>Date</th>\n      <th>Kanton_Kurzname</th>\n      <th>CO2_Wirkung_Tonnen_CH</th>\n      <th>Massnahmenbereich_lang</th>\n    </tr>\n  </thead>\n  <tbody>\n    <tr>\n      <th>0</th>\n      <td>2010</td>\n      <td>https://ld.admin.ch/country/CHE</td>\n      <td>30259</td>\n      <td>https://energy.ld.admin.ch/sfoe/bfe_ogd18_geba...</td>\n    </tr>\n    <tr>\n      <th>1</th>\n      <td>2010</td>\n      <td>https://ld.admin.ch/country/CHE</td>\n      <td>1112</td>\n      <td>https://energy.ld.admin.ch/sfoe/bfe_ogd18_geba...</td>\n    </tr>\n    <tr>\n      <th>2</th>\n      <td>2010</td>\n      <td>https://ld.admin.ch/country/CHE</td>\n      <td>369</td>\n      <td>https://energy.ld.admin.ch/sfoe/bfe_ogd18_geba...</td>\n    </tr>\n    <tr>\n      <th>3</th>\n      <td>2010</td>\n      <td>https://ld.admin.ch/country/CHE</td>\n      <td>46879</td>\n      <td>https://energy.ld.admin.ch/sfoe/bfe_ogd18_geba...</td>\n    </tr>\n    <tr>\n      <th>4</th>\n      <td>2010</td>\n      <td>https://ld.admin.ch/country/CHE</td>\n      <td>1748</td>\n      <td>https://energy.ld.admin.ch/sfoe/bfe_ogd18_geba...</td>\n    </tr>\n    <tr>\n      <th>...</th>\n      <td>...</td>\n      <td>...</td>\n      <td>...</td>\n      <td>...</td>\n    </tr>\n    <tr>\n      <th>378</th>\n      <td>2020</td>\n      <td>https://ld.admin.ch/country/CHE</td>\n      <td>146169</td>\n      <td>https://energy.ld.admin.ch/sfoe/bfe_ogd18_geba...</td>\n    </tr>\n    <tr>\n      <th>379</th>\n      <td>2021</td>\n      <td>https://ld.admin.ch/country/CHE</td>\n      <td>154805</td>\n      <td>https://energy.ld.admin.ch/sfoe/bfe_ogd18_geba...</td>\n    </tr>\n    <tr>\n      <th>380</th>\n      <td>2021</td>\n      <td>https://ld.admin.ch/country/CHE</td>\n      <td>156177</td>\n      <td>https://energy.ld.admin.ch/sfoe/bfe_ogd18_geba...</td>\n    </tr>\n    <tr>\n      <th>381</th>\n      <td>2022</td>\n      <td>https://ld.admin.ch/country/CHE</td>\n      <td>162564</td>\n      <td>https://energy.ld.admin.ch/sfoe/bfe_ogd18_geba...</td>\n    </tr>\n    <tr>\n      <th>382</th>\n      <td>2022</td>\n      <td>https://ld.admin.ch/country/CHE</td>\n      <td>178709</td>\n      <td>https://energy.ld.admin.ch/sfoe/bfe_ogd18_geba...</td>\n    </tr>\n  </tbody>\n</table>\n<p>383 rows × 4 columns</p>\n</div>"
     },
     "execution_count": 19,
     "metadata": {},
     "output_type": "execute_result"
    }
   ],
   "source": [
    "Gebaeudeprogramm_CO2_QUERY = '''\n",
    "PREFIX schema: <http://schema.org/>\n",
    "\n",
    "select distinct  ?Date ?Kanton_Kurzname ?CO2_Wirkung_Tonnen_CH ?Massnahmenbereich\n",
    "\n",
    "where {\n",
    "        SERVICE <https://lindas.admin.ch/query>\n",
    "            {?Massnahmenbereich <http://schema.org/amount> ?CO2_Wirkung_Tonnen_CH .\n",
    "            ?Massnahmenbereich <https://energy.ld.admin.ch/sfoe/bfe_ogd18_gebaeudeprogramm_co2wirkung/Jahr> ?Date .\n",
    "            ?Massnahmenbereich <https://energy.ld.admin.ch/sfoe/bfe_ogd18_gebaeudeprogramm_co2wirkung/region> ?Kanton_Kurzname.\n",
    "}}\n",
    "'''\n",
    "\n",
    "# Graph erstellen und SPARQL-Abfrage durchführen\n",
    "g7 = Graph()\n",
    "results_g7 = g7.query(Gebaeudeprogramm_CO2_QUERY)\n",
    "\n",
    "result_g7_list = []\n",
    "for row in results_g7:\n",
    "    result_g7_list.append(row)\n",
    "\n",
    "# Liste in ein Pandas DataFrame umwandeln\n",
    "df_g7 = pd.DataFrame(result_g7_list, columns=['Date', 'Kanton_Kurzname', 'CO2_Wirkung_Tonnen_CH', 'Massnahmenbereich_lang'])\n",
    "df_g7"
   ],
   "metadata": {
    "collapsed": false
   }
  },
  {
   "cell_type": "code",
   "execution_count": 20,
   "outputs": [],
   "source": [
    "# nicht überall sind die Kurznamen hinterlegt, weshalb diese ersetzt werden\n",
    "df_g7['Kanton_Kurzname'] = df_g7['Kanton_Kurzname'].replace(kanton_dict_lindas.keys() , kanton_dict_lindas.values() , regex=True)"
   ],
   "metadata": {
    "collapsed": false
   }
  },
  {
   "cell_type": "code",
   "execution_count": 21,
   "outputs": [
    {
     "data": {
      "text/plain": "     Date Kanton_Kurzname CO2_Wirkung_Tonnen_CH  \\\n0    2010              CH                 30259   \n1    2010              CH                  1112   \n2    2010              CH                   369   \n3    2010              CH                 46879   \n4    2010              CH                  1748   \n..    ...             ...                   ...   \n378  2020              CH                146169   \n379  2021              CH                154805   \n380  2021              CH                156177   \n381  2022              CH                162564   \n382  2022              CH                178709   \n\n                                Massnahmenbereich_lang  \n0    https://energy.ld.admin.ch/sfoe/bfe_ogd18_geba...  \n1    https://energy.ld.admin.ch/sfoe/bfe_ogd18_geba...  \n2    https://energy.ld.admin.ch/sfoe/bfe_ogd18_geba...  \n3    https://energy.ld.admin.ch/sfoe/bfe_ogd18_geba...  \n4    https://energy.ld.admin.ch/sfoe/bfe_ogd18_geba...  \n..                                                 ...  \n378  https://energy.ld.admin.ch/sfoe/bfe_ogd18_geba...  \n379  https://energy.ld.admin.ch/sfoe/bfe_ogd18_geba...  \n380  https://energy.ld.admin.ch/sfoe/bfe_ogd18_geba...  \n381  https://energy.ld.admin.ch/sfoe/bfe_ogd18_geba...  \n382  https://energy.ld.admin.ch/sfoe/bfe_ogd18_geba...  \n\n[383 rows x 4 columns]",
      "text/html": "<div>\n<style scoped>\n    .dataframe tbody tr th:only-of-type {\n        vertical-align: middle;\n    }\n\n    .dataframe tbody tr th {\n        vertical-align: top;\n    }\n\n    .dataframe thead th {\n        text-align: right;\n    }\n</style>\n<table border=\"1\" class=\"dataframe\">\n  <thead>\n    <tr style=\"text-align: right;\">\n      <th></th>\n      <th>Date</th>\n      <th>Kanton_Kurzname</th>\n      <th>CO2_Wirkung_Tonnen_CH</th>\n      <th>Massnahmenbereich_lang</th>\n    </tr>\n  </thead>\n  <tbody>\n    <tr>\n      <th>0</th>\n      <td>2010</td>\n      <td>CH</td>\n      <td>30259</td>\n      <td>https://energy.ld.admin.ch/sfoe/bfe_ogd18_geba...</td>\n    </tr>\n    <tr>\n      <th>1</th>\n      <td>2010</td>\n      <td>CH</td>\n      <td>1112</td>\n      <td>https://energy.ld.admin.ch/sfoe/bfe_ogd18_geba...</td>\n    </tr>\n    <tr>\n      <th>2</th>\n      <td>2010</td>\n      <td>CH</td>\n      <td>369</td>\n      <td>https://energy.ld.admin.ch/sfoe/bfe_ogd18_geba...</td>\n    </tr>\n    <tr>\n      <th>3</th>\n      <td>2010</td>\n      <td>CH</td>\n      <td>46879</td>\n      <td>https://energy.ld.admin.ch/sfoe/bfe_ogd18_geba...</td>\n    </tr>\n    <tr>\n      <th>4</th>\n      <td>2010</td>\n      <td>CH</td>\n      <td>1748</td>\n      <td>https://energy.ld.admin.ch/sfoe/bfe_ogd18_geba...</td>\n    </tr>\n    <tr>\n      <th>...</th>\n      <td>...</td>\n      <td>...</td>\n      <td>...</td>\n      <td>...</td>\n    </tr>\n    <tr>\n      <th>378</th>\n      <td>2020</td>\n      <td>CH</td>\n      <td>146169</td>\n      <td>https://energy.ld.admin.ch/sfoe/bfe_ogd18_geba...</td>\n    </tr>\n    <tr>\n      <th>379</th>\n      <td>2021</td>\n      <td>CH</td>\n      <td>154805</td>\n      <td>https://energy.ld.admin.ch/sfoe/bfe_ogd18_geba...</td>\n    </tr>\n    <tr>\n      <th>380</th>\n      <td>2021</td>\n      <td>CH</td>\n      <td>156177</td>\n      <td>https://energy.ld.admin.ch/sfoe/bfe_ogd18_geba...</td>\n    </tr>\n    <tr>\n      <th>381</th>\n      <td>2022</td>\n      <td>CH</td>\n      <td>162564</td>\n      <td>https://energy.ld.admin.ch/sfoe/bfe_ogd18_geba...</td>\n    </tr>\n    <tr>\n      <th>382</th>\n      <td>2022</td>\n      <td>CH</td>\n      <td>178709</td>\n      <td>https://energy.ld.admin.ch/sfoe/bfe_ogd18_geba...</td>\n    </tr>\n  </tbody>\n</table>\n<p>383 rows × 4 columns</p>\n</div>"
     },
     "execution_count": 21,
     "metadata": {},
     "output_type": "execute_result"
    }
   ],
   "source": [
    "df_g7"
   ],
   "metadata": {
    "collapsed": false
   }
  },
  {
   "cell_type": "code",
   "execution_count": 22,
   "outputs": [
    {
     "data": {
      "text/plain": "     Date Kanton_Kurzname CO2_Wirkung_Tonnen_CH  \\\n0    2010              CH                 30259   \n1    2010              CH                  1112   \n2    2010              CH                   369   \n3    2010              CH                 46879   \n4    2010              CH                  1748   \n..    ...             ...                   ...   \n378  2020              CH                146169   \n379  2021              CH                154805   \n380  2021              CH                156177   \n381  2022              CH                162564   \n382  2022              CH                178709   \n\n                                Massnahmenbereich_lang  \\\n0    https://energy.ld.admin.ch/sfoe/bfe_ogd18_geba...   \n1    https://energy.ld.admin.ch/sfoe/bfe_ogd18_geba...   \n2    https://energy.ld.admin.ch/sfoe/bfe_ogd18_geba...   \n3    https://energy.ld.admin.ch/sfoe/bfe_ogd18_geba...   \n4    https://energy.ld.admin.ch/sfoe/bfe_ogd18_geba...   \n..                                                 ...   \n378  https://energy.ld.admin.ch/sfoe/bfe_ogd18_geba...   \n379  https://energy.ld.admin.ch/sfoe/bfe_ogd18_geba...   \n380  https://energy.ld.admin.ch/sfoe/bfe_ogd18_geba...   \n381  https://energy.ld.admin.ch/sfoe/bfe_ogd18_geba...   \n382  https://energy.ld.admin.ch/sfoe/bfe_ogd18_geba...   \n\n                     Massnahmenbereich  \n0                          Haustechnik  \n1                               Neubau  \n2                      Systemsanierung  \n3    Total CO2-Wirkung Gebäudeprogramm  \n4                         Wärmedämmung  \n..                                 ...  \n378          Zentrale_Waermeversorgung  \n379                     Waermedaemmung  \n380          Zentrale_Waermeversorgung  \n381                     Waermedaemmung  \n382          Zentrale_Waermeversorgung  \n\n[383 rows x 5 columns]",
      "text/html": "<div>\n<style scoped>\n    .dataframe tbody tr th:only-of-type {\n        vertical-align: middle;\n    }\n\n    .dataframe tbody tr th {\n        vertical-align: top;\n    }\n\n    .dataframe thead th {\n        text-align: right;\n    }\n</style>\n<table border=\"1\" class=\"dataframe\">\n  <thead>\n    <tr style=\"text-align: right;\">\n      <th></th>\n      <th>Date</th>\n      <th>Kanton_Kurzname</th>\n      <th>CO2_Wirkung_Tonnen_CH</th>\n      <th>Massnahmenbereich_lang</th>\n      <th>Massnahmenbereich</th>\n    </tr>\n  </thead>\n  <tbody>\n    <tr>\n      <th>0</th>\n      <td>2010</td>\n      <td>CH</td>\n      <td>30259</td>\n      <td>https://energy.ld.admin.ch/sfoe/bfe_ogd18_geba...</td>\n      <td>Haustechnik</td>\n    </tr>\n    <tr>\n      <th>1</th>\n      <td>2010</td>\n      <td>CH</td>\n      <td>1112</td>\n      <td>https://energy.ld.admin.ch/sfoe/bfe_ogd18_geba...</td>\n      <td>Neubau</td>\n    </tr>\n    <tr>\n      <th>2</th>\n      <td>2010</td>\n      <td>CH</td>\n      <td>369</td>\n      <td>https://energy.ld.admin.ch/sfoe/bfe_ogd18_geba...</td>\n      <td>Systemsanierung</td>\n    </tr>\n    <tr>\n      <th>3</th>\n      <td>2010</td>\n      <td>CH</td>\n      <td>46879</td>\n      <td>https://energy.ld.admin.ch/sfoe/bfe_ogd18_geba...</td>\n      <td>Total CO2-Wirkung Gebäudeprogramm</td>\n    </tr>\n    <tr>\n      <th>4</th>\n      <td>2010</td>\n      <td>CH</td>\n      <td>1748</td>\n      <td>https://energy.ld.admin.ch/sfoe/bfe_ogd18_geba...</td>\n      <td>Wärmedämmung</td>\n    </tr>\n    <tr>\n      <th>...</th>\n      <td>...</td>\n      <td>...</td>\n      <td>...</td>\n      <td>...</td>\n      <td>...</td>\n    </tr>\n    <tr>\n      <th>378</th>\n      <td>2020</td>\n      <td>CH</td>\n      <td>146169</td>\n      <td>https://energy.ld.admin.ch/sfoe/bfe_ogd18_geba...</td>\n      <td>Zentrale_Waermeversorgung</td>\n    </tr>\n    <tr>\n      <th>379</th>\n      <td>2021</td>\n      <td>CH</td>\n      <td>154805</td>\n      <td>https://energy.ld.admin.ch/sfoe/bfe_ogd18_geba...</td>\n      <td>Waermedaemmung</td>\n    </tr>\n    <tr>\n      <th>380</th>\n      <td>2021</td>\n      <td>CH</td>\n      <td>156177</td>\n      <td>https://energy.ld.admin.ch/sfoe/bfe_ogd18_geba...</td>\n      <td>Zentrale_Waermeversorgung</td>\n    </tr>\n    <tr>\n      <th>381</th>\n      <td>2022</td>\n      <td>CH</td>\n      <td>162564</td>\n      <td>https://energy.ld.admin.ch/sfoe/bfe_ogd18_geba...</td>\n      <td>Waermedaemmung</td>\n    </tr>\n    <tr>\n      <th>382</th>\n      <td>2022</td>\n      <td>CH</td>\n      <td>178709</td>\n      <td>https://energy.ld.admin.ch/sfoe/bfe_ogd18_geba...</td>\n      <td>Zentrale_Waermeversorgung</td>\n    </tr>\n  </tbody>\n</table>\n<p>383 rows × 5 columns</p>\n</div>"
     },
     "execution_count": 22,
     "metadata": {},
     "output_type": "execute_result"
    }
   ],
   "source": [
    "\n",
    "df_g7['Massnahmenbereich'] = df_g7['Massnahmenbereich_lang'].apply(extract_last_part)\n",
    "df_g7"
   ],
   "metadata": {
    "collapsed": false
   }
  },
  {
   "cell_type": "code",
   "execution_count": 23,
   "outputs": [
    {
     "data": {
      "text/plain": "     Date Kanton_Kurzname CO2_Wirkung_Tonnen_CH  \\\n0    2010              CH                 30259   \n1    2010              CH                  1112   \n2    2010              CH                   369   \n3    2010              CH                 46879   \n4    2010              CH                  1748   \n..    ...             ...                   ...   \n378  2020              CH                146169   \n379  2021              CH                154805   \n380  2021              CH                156177   \n381  2022              CH                162564   \n382  2022              CH                178709   \n\n                     Massnahmenbereich  \n0                          Haustechnik  \n1                               Neubau  \n2                      Systemsanierung  \n3    Total CO2-Wirkung Gebäudeprogramm  \n4                         Wärmedämmung  \n..                                 ...  \n378          Zentrale_Waermeversorgung  \n379                     Waermedaemmung  \n380          Zentrale_Waermeversorgung  \n381                     Waermedaemmung  \n382          Zentrale_Waermeversorgung  \n\n[383 rows x 4 columns]",
      "text/html": "<div>\n<style scoped>\n    .dataframe tbody tr th:only-of-type {\n        vertical-align: middle;\n    }\n\n    .dataframe tbody tr th {\n        vertical-align: top;\n    }\n\n    .dataframe thead th {\n        text-align: right;\n    }\n</style>\n<table border=\"1\" class=\"dataframe\">\n  <thead>\n    <tr style=\"text-align: right;\">\n      <th></th>\n      <th>Date</th>\n      <th>Kanton_Kurzname</th>\n      <th>CO2_Wirkung_Tonnen_CH</th>\n      <th>Massnahmenbereich</th>\n    </tr>\n  </thead>\n  <tbody>\n    <tr>\n      <th>0</th>\n      <td>2010</td>\n      <td>CH</td>\n      <td>30259</td>\n      <td>Haustechnik</td>\n    </tr>\n    <tr>\n      <th>1</th>\n      <td>2010</td>\n      <td>CH</td>\n      <td>1112</td>\n      <td>Neubau</td>\n    </tr>\n    <tr>\n      <th>2</th>\n      <td>2010</td>\n      <td>CH</td>\n      <td>369</td>\n      <td>Systemsanierung</td>\n    </tr>\n    <tr>\n      <th>3</th>\n      <td>2010</td>\n      <td>CH</td>\n      <td>46879</td>\n      <td>Total CO2-Wirkung Gebäudeprogramm</td>\n    </tr>\n    <tr>\n      <th>4</th>\n      <td>2010</td>\n      <td>CH</td>\n      <td>1748</td>\n      <td>Wärmedämmung</td>\n    </tr>\n    <tr>\n      <th>...</th>\n      <td>...</td>\n      <td>...</td>\n      <td>...</td>\n      <td>...</td>\n    </tr>\n    <tr>\n      <th>378</th>\n      <td>2020</td>\n      <td>CH</td>\n      <td>146169</td>\n      <td>Zentrale_Waermeversorgung</td>\n    </tr>\n    <tr>\n      <th>379</th>\n      <td>2021</td>\n      <td>CH</td>\n      <td>154805</td>\n      <td>Waermedaemmung</td>\n    </tr>\n    <tr>\n      <th>380</th>\n      <td>2021</td>\n      <td>CH</td>\n      <td>156177</td>\n      <td>Zentrale_Waermeversorgung</td>\n    </tr>\n    <tr>\n      <th>381</th>\n      <td>2022</td>\n      <td>CH</td>\n      <td>162564</td>\n      <td>Waermedaemmung</td>\n    </tr>\n    <tr>\n      <th>382</th>\n      <td>2022</td>\n      <td>CH</td>\n      <td>178709</td>\n      <td>Zentrale_Waermeversorgung</td>\n    </tr>\n  </tbody>\n</table>\n<p>383 rows × 4 columns</p>\n</div>"
     },
     "execution_count": 23,
     "metadata": {},
     "output_type": "execute_result"
    }
   ],
   "source": [
    "df_g7 =df_g7.drop('Massnahmenbereich_lang', axis=1)\n",
    "df_g7"
   ],
   "metadata": {
    "collapsed": false
   }
  },
  {
   "cell_type": "code",
   "execution_count": 24,
   "outputs": [
    {
     "data": {
      "text/plain": "     Date Kanton_Kurzname CO2_Wirkung_Tonnen_CH  \\\n0    2010              CH                 30259   \n1    2010              CH                  1112   \n2    2010              CH                   369   \n3    2010              CH                 46879   \n4    2010              CH                  1748   \n..    ...             ...                   ...   \n248  2030              CH                     0   \n249  2031              CH                     0   \n250  2031              CH                     0   \n251  2032              CH                     0   \n252  2032              CH                     0   \n\n                     Massnahmenbereich  \n0                          Haustechnik  \n1                               Neubau  \n2                      Systemsanierung  \n3    Total CO2-Wirkung Gebäudeprogramm  \n4                         Wärmedämmung  \n..                                 ...  \n248          Zentrale_Waermeversorgung  \n249                     Waermedaemmung  \n250          Zentrale_Waermeversorgung  \n251                     Waermedaemmung  \n252          Zentrale_Waermeversorgung  \n\n[214 rows x 4 columns]",
      "text/html": "<div>\n<style scoped>\n    .dataframe tbody tr th:only-of-type {\n        vertical-align: middle;\n    }\n\n    .dataframe tbody tr th {\n        vertical-align: top;\n    }\n\n    .dataframe thead th {\n        text-align: right;\n    }\n</style>\n<table border=\"1\" class=\"dataframe\">\n  <thead>\n    <tr style=\"text-align: right;\">\n      <th></th>\n      <th>Date</th>\n      <th>Kanton_Kurzname</th>\n      <th>CO2_Wirkung_Tonnen_CH</th>\n      <th>Massnahmenbereich</th>\n    </tr>\n  </thead>\n  <tbody>\n    <tr>\n      <th>0</th>\n      <td>2010</td>\n      <td>CH</td>\n      <td>30259</td>\n      <td>Haustechnik</td>\n    </tr>\n    <tr>\n      <th>1</th>\n      <td>2010</td>\n      <td>CH</td>\n      <td>1112</td>\n      <td>Neubau</td>\n    </tr>\n    <tr>\n      <th>2</th>\n      <td>2010</td>\n      <td>CH</td>\n      <td>369</td>\n      <td>Systemsanierung</td>\n    </tr>\n    <tr>\n      <th>3</th>\n      <td>2010</td>\n      <td>CH</td>\n      <td>46879</td>\n      <td>Total CO2-Wirkung Gebäudeprogramm</td>\n    </tr>\n    <tr>\n      <th>4</th>\n      <td>2010</td>\n      <td>CH</td>\n      <td>1748</td>\n      <td>Wärmedämmung</td>\n    </tr>\n    <tr>\n      <th>...</th>\n      <td>...</td>\n      <td>...</td>\n      <td>...</td>\n      <td>...</td>\n    </tr>\n    <tr>\n      <th>248</th>\n      <td>2030</td>\n      <td>CH</td>\n      <td>0</td>\n      <td>Zentrale_Waermeversorgung</td>\n    </tr>\n    <tr>\n      <th>249</th>\n      <td>2031</td>\n      <td>CH</td>\n      <td>0</td>\n      <td>Waermedaemmung</td>\n    </tr>\n    <tr>\n      <th>250</th>\n      <td>2031</td>\n      <td>CH</td>\n      <td>0</td>\n      <td>Zentrale_Waermeversorgung</td>\n    </tr>\n    <tr>\n      <th>251</th>\n      <td>2032</td>\n      <td>CH</td>\n      <td>0</td>\n      <td>Waermedaemmung</td>\n    </tr>\n    <tr>\n      <th>252</th>\n      <td>2032</td>\n      <td>CH</td>\n      <td>0</td>\n      <td>Zentrale_Waermeversorgung</td>\n    </tr>\n  </tbody>\n</table>\n<p>214 rows × 4 columns</p>\n</div>"
     },
     "execution_count": 24,
     "metadata": {},
     "output_type": "execute_result"
    }
   ],
   "source": [
    "df_g7_no_duplicates = df_g7.drop_duplicates()\n",
    "df_g7_no_duplicates"
   ],
   "metadata": {
    "collapsed": false
   }
  },
  {
   "cell_type": "code",
   "execution_count": 30,
   "outputs": [
    {
     "data": {
      "text/plain": "     Date Kanton_Kurzname CO2_Wirkung_Tonnen_CH  \\\n0    2010              CH                 30259   \n1    2010              CH                  1112   \n2    2010              CH                   369   \n3    2010              CH                 46879   \n4    2010              CH                  1748   \n..    ...             ...                   ...   \n243  2028              CH                     0   \n245  2029              CH                     0   \n247  2030              CH                     0   \n249  2031              CH                     0   \n251  2032              CH                     0   \n\n                     Massnahmenbereich  \n0                          Haustechnik  \n1                               Neubau  \n2                      Systemsanierung  \n3    Total CO2-Wirkung Gebäudeprogramm  \n4                         Wärmedämmung  \n..                                 ...  \n243                     Waermedaemmung  \n245                     Waermedaemmung  \n247                     Waermedaemmung  \n249                     Waermedaemmung  \n251                     Waermedaemmung  \n\n[191 rows x 4 columns]",
      "text/html": "<div>\n<style scoped>\n    .dataframe tbody tr th:only-of-type {\n        vertical-align: middle;\n    }\n\n    .dataframe tbody tr th {\n        vertical-align: top;\n    }\n\n    .dataframe thead th {\n        text-align: right;\n    }\n</style>\n<table border=\"1\" class=\"dataframe\">\n  <thead>\n    <tr style=\"text-align: right;\">\n      <th></th>\n      <th>Date</th>\n      <th>Kanton_Kurzname</th>\n      <th>CO2_Wirkung_Tonnen_CH</th>\n      <th>Massnahmenbereich</th>\n    </tr>\n  </thead>\n  <tbody>\n    <tr>\n      <th>0</th>\n      <td>2010</td>\n      <td>CH</td>\n      <td>30259</td>\n      <td>Haustechnik</td>\n    </tr>\n    <tr>\n      <th>1</th>\n      <td>2010</td>\n      <td>CH</td>\n      <td>1112</td>\n      <td>Neubau</td>\n    </tr>\n    <tr>\n      <th>2</th>\n      <td>2010</td>\n      <td>CH</td>\n      <td>369</td>\n      <td>Systemsanierung</td>\n    </tr>\n    <tr>\n      <th>3</th>\n      <td>2010</td>\n      <td>CH</td>\n      <td>46879</td>\n      <td>Total CO2-Wirkung Gebäudeprogramm</td>\n    </tr>\n    <tr>\n      <th>4</th>\n      <td>2010</td>\n      <td>CH</td>\n      <td>1748</td>\n      <td>Wärmedämmung</td>\n    </tr>\n    <tr>\n      <th>...</th>\n      <td>...</td>\n      <td>...</td>\n      <td>...</td>\n      <td>...</td>\n    </tr>\n    <tr>\n      <th>243</th>\n      <td>2028</td>\n      <td>CH</td>\n      <td>0</td>\n      <td>Waermedaemmung</td>\n    </tr>\n    <tr>\n      <th>245</th>\n      <td>2029</td>\n      <td>CH</td>\n      <td>0</td>\n      <td>Waermedaemmung</td>\n    </tr>\n    <tr>\n      <th>247</th>\n      <td>2030</td>\n      <td>CH</td>\n      <td>0</td>\n      <td>Waermedaemmung</td>\n    </tr>\n    <tr>\n      <th>249</th>\n      <td>2031</td>\n      <td>CH</td>\n      <td>0</td>\n      <td>Waermedaemmung</td>\n    </tr>\n    <tr>\n      <th>251</th>\n      <td>2032</td>\n      <td>CH</td>\n      <td>0</td>\n      <td>Waermedaemmung</td>\n    </tr>\n  </tbody>\n</table>\n<p>191 rows × 4 columns</p>\n</div>"
     },
     "execution_count": 30,
     "metadata": {},
     "output_type": "execute_result"
    }
   ],
   "source": [
    "# Löschen der Zeilen mit Einträgen Zentrale_Waermeversorgung und Waermeversorgung in der Spalte \"Massnahmenbereich\" (diese sind doppelt)\n",
    "df_g7_no_duplicates = df_g7_no_duplicates[~df_g7_no_duplicates['Massnahmenbereich'].isin(['Zentrale_Waermeversorgung', 'Waermeversorgung'])]\n",
    "df_g7_no_duplicates"
   ],
   "metadata": {
    "collapsed": false
   }
  },
  {
   "cell_type": "code",
   "execution_count": 25,
   "outputs": [],
   "source": [
    "df_g7_no_duplicates.to_csv('gebaudeprogramm_CO2Wirkung.csv', index=False)"
   ],
   "metadata": {
    "collapsed": false
   }
  }
 ],
 "metadata": {
  "kernelspec": {
   "display_name": "Python 3",
   "language": "python",
   "name": "python3"
  },
  "language_info": {
   "codemirror_mode": {
    "name": "ipython",
    "version": 2
   },
   "file_extension": ".py",
   "mimetype": "text/x-python",
   "name": "python",
   "nbconvert_exporter": "python",
   "pygments_lexer": "ipython2",
   "version": "2.7.6"
  }
 },
 "nbformat": 4,
 "nbformat_minor": 0
}
